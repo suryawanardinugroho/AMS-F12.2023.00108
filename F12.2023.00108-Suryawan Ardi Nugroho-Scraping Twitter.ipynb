{
 "cells": [
  {
   "cell_type": "code",
   "execution_count": 1,
   "metadata": {},
   "outputs": [
    {
     "name": "stdout",
     "output_type": "stream",
     "text": [
      "Collecting textblob\n",
      "  Downloading textblob-0.17.1-py2.py3-none-any.whl (636 kB)\n",
      "     ---------------------------------------- 0.0/636.8 kB ? eta -:--:--\n",
      "      --------------------------------------- 10.2/636.8 kB ? eta -:--:--\n",
      "      --------------------------------------- 10.2/636.8 kB ? eta -:--:--\n",
      "     - ----------------------------------- 30.7/636.8 kB 220.2 kB/s eta 0:00:03\n",
      "     ---- -------------------------------- 71.7/636.8 kB 357.2 kB/s eta 0:00:02\n",
      "     -------- --------------------------- 143.4/636.8 kB 711.9 kB/s eta 0:00:01\n",
      "     ------------ ----------------------- 225.3/636.8 kB 811.5 kB/s eta 0:00:01\n",
      "     ----------------- ------------------ 307.2/636.8 kB 951.8 kB/s eta 0:00:01\n",
      "     -------------------------------- ----- 542.7/636.8 kB 1.4 MB/s eta 0:00:01\n",
      "     -------------------------------------- 636.8/636.8 kB 1.5 MB/s eta 0:00:00\n",
      "Requirement already satisfied: nltk>=3.1 in c:\\users\\user\\appdata\\local\\programs\\python\\python312\\lib\\site-packages (from textblob) (3.8.1)\n",
      "Requirement already satisfied: click in c:\\users\\user\\appdata\\local\\programs\\python\\python312\\lib\\site-packages (from nltk>=3.1->textblob) (8.1.7)\n",
      "Requirement already satisfied: joblib in c:\\users\\user\\appdata\\local\\programs\\python\\python312\\lib\\site-packages (from nltk>=3.1->textblob) (1.3.2)\n",
      "Requirement already satisfied: regex>=2021.8.3 in c:\\users\\user\\appdata\\local\\programs\\python\\python312\\lib\\site-packages (from nltk>=3.1->textblob) (2023.12.25)\n",
      "Requirement already satisfied: tqdm in c:\\users\\user\\appdata\\local\\programs\\python\\python312\\lib\\site-packages (from nltk>=3.1->textblob) (4.66.1)\n",
      "Requirement already satisfied: colorama in c:\\users\\user\\appdata\\local\\programs\\python\\python312\\lib\\site-packages (from click->nltk>=3.1->textblob) (0.4.6)\n",
      "Installing collected packages: textblob\n",
      "Successfully installed textblob-0.17.1\n"
     ]
    }
   ],
   "source": [
    "# !pip install textblob"
   ]
  },
  {
   "cell_type": "code",
   "execution_count": null,
   "metadata": {},
   "outputs": [],
   "source": [
    "# !pip install vaderSentiment"
   ]
  },
  {
   "cell_type": "code",
   "execution_count": 1,
   "metadata": {
    "id": "QtA9FBSc7eHS"
   },
   "outputs": [],
   "source": [
    "import selenium\n",
    "from selenium import webdriver\n",
    "from selenium.webdriver.common.by import By\n",
    "from selenium.webdriver.common.keys import Keys\n",
    "from time import sleep\n",
    "from textblob import TextBlob\n",
    "import re\n",
    "# from vaderSentiment.vaderSentiment import SentimentIntensityAnalyzer"
   ]
  },
  {
   "cell_type": "code",
   "execution_count": 2,
   "metadata": {
    "id": "GGTGJTfq7oBA"
   },
   "outputs": [],
   "source": [
    "driver = webdriver.Firefox()\n",
    "driver.get('https://twitter.com/login')"
   ]
  },
  {
   "cell_type": "code",
   "execution_count": 3,
   "metadata": {
    "id": "Q6TqSkFe_Opr"
   },
   "outputs": [],
   "source": [
    "username = driver.find_element(By.XPATH,\"//input[@name='text']\")\n",
    "username.send_keys(\"rynmeister_\")\n",
    "next_button = driver.find_element(By.XPATH,\"//span[contains(text(),'Next')]\")\n",
    "next_button.click()"
   ]
  },
  {
   "cell_type": "code",
   "execution_count": 4,
   "metadata": {
    "id": "_JNx09GtA7XI"
   },
   "outputs": [],
   "source": [
    "password = driver.find_element(By.XPATH,\"//input[@name='password']\")\n",
    "password.send_keys('La=p}7EZHBS.n9G')\n",
    "log_in = driver.find_element(By.XPATH,\"//span[contains(text(),'Log in')]\")\n",
    "log_in.click()"
   ]
  },
  {
   "cell_type": "code",
   "execution_count": 11,
   "metadata": {
    "id": "ycmKV67TU5kQ"
   },
   "outputs": [],
   "source": [
    "sleep(3)\n",
    "search_box = driver.find_element(By.XPATH,\"//input[@data-testid='SearchBox_Search_Input']\")\n",
    "search_box.send_keys(\"Alan Walker\")\n",
    "search_box.send_keys(Keys.ENTER)"
   ]
  },
  {
   "cell_type": "code",
   "execution_count": 12,
   "metadata": {
    "id": "K7dmtJuEYHX-"
   },
   "outputs": [],
   "source": [
    "UserTags=[]\n",
    "TimeStamps=[]\n",
    "Tweets=[]\n",
    "Replys=[]\n",
    "reTweets=[]\n",
    "Likes=[]\n",
    "Views=[]\n",
    "Sentimen=[]\n",
    "\n",
    "articles = driver.find_elements(By.XPATH,\"//article[@data-testid='tweet']\")\n",
    "while True:\n",
    "    for article in articles:\n",
    "        UserTag = article.find_element(By.XPATH,\".//div[@data-testid='cellInnerDiv']\"and\".//div[@data-testid='User-Name']\"and\".//span[contains(text(),'@')]\").text\n",
    "        UserTags.append(UserTag)\n",
    "        \n",
    "        TimeStamp = article.find_element(By.XPATH,\".//div[@data-testid='cellInnerDiv']\"and\".//div[@data-testid='User-Name']\"and\".//time\").get_attribute('datetime')\n",
    "        TimeStamps.append(TimeStamp)\n",
    "        \n",
    "        try:\n",
    "            Tweet = article.find_element(By.XPATH,\".//div[@data-testid='tweetText']\").text\n",
    "        except selenium.common.exceptions.NoSuchElementException:\n",
    "            Tweet = \"\"\n",
    "        Tweets.append(Tweet)\n",
    "\n",
    "        Reply = article.find_element(By.XPATH,\".//div[@data-testid='reply']\").text\n",
    "        Replys.append(Reply)\n",
    "        \n",
    "        reTweet = article.find_element(By.XPATH,\".//div[@data-testid='retweet']\").text\n",
    "        reTweets.append(reTweet)\n",
    "        \n",
    "        Like = article.find_element(By.XPATH,\".//div[@data-testid='like']\").text\n",
    "        Likes.append(Like)\n",
    "\n",
    "        try:\n",
    "            View = article.find_element(By.XPATH,\".//div[@data-testid='cellInnerDiv']\"and\".//div[@role='group']\"and\".//a[contains(@aria-label, '\"+\"views\"+\"')]\").text\n",
    "        except selenium.common.exceptions.NoSuchElementException:\n",
    "            View = \"\"\n",
    "        Views.append(View)\n",
    "\n",
    "        # sid_obj = SentimentIntensityAnalyzer()\n",
    "        # sentiment_dict = sid_obj.polarity_scores(Tweet)\n",
    "        # if sentiment_dict['compound'] >= 0.05 :\n",
    "        #     value = \"1.0\"\n",
    "        # elif sentiment_dict['compound'] <= - 0.05 :\n",
    "        #     value = \"-1.0\"\n",
    "        # else :\n",
    "        #     value = \"0.0\"\n",
    "        clean_tweet = ' '.join(re.sub(r\"(@[A-Za-z0-9]+)|([^0-9A-Za-z \\t])|(\\w+:\\/\\/\\S+)\",\" \",Tweet).split())\n",
    "        analysis = TextBlob(clean_tweet)\n",
    "        if analysis.sentiment.polarity > 0.0:\n",
    "            sentiment = '1.0'\n",
    "        elif analysis.sentiment.polarity == 0.0:\n",
    "            sentiment = '0.0'\n",
    "        else:\n",
    "            sentiment = '-1.0'\n",
    "        Sentimen.append(sentiment)\n",
    "    driver.execute_script('window.scrollTo(0,document.body.scrollHeight);')\n",
    "    sleep(3)\n",
    "    articles = driver.find_elements(By.XPATH,\"//article[@data-testid='tweet']\")\n",
    "    Tweets2 = list(set(Tweets))\n",
    "    if len(Tweets2) > 50:\n",
    "        break"
   ]
  },
  {
   "cell_type": "code",
   "execution_count": 13,
   "metadata": {},
   "outputs": [
    {
     "data": {
      "text/plain": [
       "0"
      ]
     },
     "execution_count": 13,
     "metadata": {},
     "output_type": "execute_result"
    }
   ],
   "source": [
    "import pandas as pd\n",
    "\n",
    "df = pd.DataFrame(zip(UserTags,TimeStamps,Tweets,Replys,reTweets,Likes,Views,Sentimen)\n",
    "                  , columns=['UserTags','TimeStamps','Tweets','Replys','reTweets','Likes','Views','Sentimen'])\n",
    "\n",
    "df.to_excel (\"D:\\\\tweets_live.xlsx\",index=False)\n",
    "\n",
    "sleep (3)\n",
    "import os\n",
    "os.system('start \"excel\" \"D:\\\\tweets_live.xlsx\"')"
   ]
  },
  {
   "cell_type": "code",
   "execution_count": null,
   "metadata": {},
   "outputs": [],
   "source": []
  }
 ],
 "metadata": {
  "colab": {
   "provenance": []
  },
  "kernelspec": {
   "display_name": "Python 3 (ipykernel)",
   "language": "python",
   "name": "python3"
  },
  "language_info": {
   "codemirror_mode": {
    "name": "ipython",
    "version": 3
   },
   "file_extension": ".py",
   "mimetype": "text/x-python",
   "name": "python",
   "nbconvert_exporter": "python",
   "pygments_lexer": "ipython3",
   "version": "3.12.1"
  }
 },
 "nbformat": 4,
 "nbformat_minor": 4
}
