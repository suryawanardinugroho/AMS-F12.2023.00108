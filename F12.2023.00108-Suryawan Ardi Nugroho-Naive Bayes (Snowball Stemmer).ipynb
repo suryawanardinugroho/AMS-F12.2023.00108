{
 "cells": [
  {
   "cell_type": "code",
   "execution_count": 1,
   "id": "34cde52c-c205-4df9-b0e5-45aa31a90ca0",
   "metadata": {},
   "outputs": [],
   "source": [
    "import re\n",
    "import string\n",
    "import pandas as pd\n",
    "from copy import deepcopy\n",
    "\n",
    "import matplotlib.pyplot as plt\n",
    "import seaborn as sns\n",
    "%matplotlib inline\n",
    "\n",
    "from sklearn.model_selection import train_test_split\n",
    "from sklearn.metrics import accuracy_score\n",
    "from sklearn.metrics import recall_score\n",
    "from sklearn.metrics import precision_score"
   ]
  },
  {
   "cell_type": "code",
   "execution_count": 2,
   "id": "1bd9ac6b-d7f3-46b9-aef1-20e50dccf933",
   "metadata": {},
   "outputs": [],
   "source": [
    "df = pd.read_excel(\"D:\\\\tweets_live.xlsx\")"
   ]
  },
  {
   "cell_type": "code",
   "execution_count": 3,
   "id": "f7c3faed-4d8a-4448-a7c1-023d92a9304f",
   "metadata": {},
   "outputs": [
    {
     "data": {
      "text/html": [
       "<div>\n",
       "<style scoped>\n",
       "    .dataframe tbody tr th:only-of-type {\n",
       "        vertical-align: middle;\n",
       "    }\n",
       "\n",
       "    .dataframe tbody tr th {\n",
       "        vertical-align: top;\n",
       "    }\n",
       "\n",
       "    .dataframe thead th {\n",
       "        text-align: right;\n",
       "    }\n",
       "</style>\n",
       "<table border=\"1\" class=\"dataframe\">\n",
       "  <thead>\n",
       "    <tr style=\"text-align: right;\">\n",
       "      <th></th>\n",
       "      <th>UserTags</th>\n",
       "      <th>TimeStamps</th>\n",
       "      <th>Tweets</th>\n",
       "      <th>Replys</th>\n",
       "      <th>reTweets</th>\n",
       "      <th>Likes</th>\n",
       "      <th>Views</th>\n",
       "      <th>Sentiments</th>\n",
       "    </tr>\n",
       "  </thead>\n",
       "  <tbody>\n",
       "    <tr>\n",
       "      <th>0</th>\n",
       "      <td>@TedLogan1010</td>\n",
       "      <td>2024-01-13T15:28:21.000Z</td>\n",
       "      <td>We can all agree that Taylor Swift is a witch ...</td>\n",
       "      <td>37.0</td>\n",
       "      <td>60</td>\n",
       "      <td>153</td>\n",
       "      <td>5.5K</td>\n",
       "      <td>1.0</td>\n",
       "    </tr>\n",
       "    <tr>\n",
       "      <th>1</th>\n",
       "      <td>@hanniiverse</td>\n",
       "      <td>2024-01-13T12:00:55.000Z</td>\n",
       "      <td>JOSHUA IN HIS \"LOVER\" ERA BY TAYLOR SWIFT</td>\n",
       "      <td>4.0</td>\n",
       "      <td>2.3K</td>\n",
       "      <td>7.1K</td>\n",
       "      <td>49K</td>\n",
       "      <td>0.0</td>\n",
       "    </tr>\n",
       "    <tr>\n",
       "      <th>2</th>\n",
       "      <td>@nihonggyu</td>\n",
       "      <td>2024-01-13T11:54:00.000Z</td>\n",
       "      <td>joshua tonight  there’s a taylor swift song he...</td>\n",
       "      <td>30.0</td>\n",
       "      <td>5.5K</td>\n",
       "      <td>15K</td>\n",
       "      <td>135K</td>\n",
       "      <td>0.0</td>\n",
       "    </tr>\n",
       "    <tr>\n",
       "      <th>3</th>\n",
       "      <td>@tslucygray</td>\n",
       "      <td>2024-01-11T03:25:18.000Z</td>\n",
       "      <td>director said take five but taylor swift heard...</td>\n",
       "      <td>18.0</td>\n",
       "      <td>637</td>\n",
       "      <td>6.9K</td>\n",
       "      <td>134K</td>\n",
       "      <td>0.0</td>\n",
       "    </tr>\n",
       "    <tr>\n",
       "      <th>4</th>\n",
       "      <td>@thesadbaby</td>\n",
       "      <td>2024-01-13T16:15:04.000Z</td>\n",
       "      <td>taylor swift.</td>\n",
       "      <td>2.0</td>\n",
       "      <td>63</td>\n",
       "      <td>255</td>\n",
       "      <td>8K</td>\n",
       "      <td>0.0</td>\n",
       "    </tr>\n",
       "    <tr>\n",
       "      <th>5</th>\n",
       "      <td>@PopCrave</td>\n",
       "      <td>2024-01-12T16:15:50.000Z</td>\n",
       "      <td>Taylor Swift and Travis Kelce are reportedly p...</td>\n",
       "      <td>963.0</td>\n",
       "      <td>4.5K</td>\n",
       "      <td>18K</td>\n",
       "      <td>3.3M</td>\n",
       "      <td>0.0</td>\n",
       "    </tr>\n",
       "    <tr>\n",
       "      <th>6</th>\n",
       "      <td>@iluminatibot</td>\n",
       "      <td>2024-01-11T16:24:41.000Z</td>\n",
       "      <td>George Soros owns Taylor Swift’s music but the...</td>\n",
       "      <td>505.0</td>\n",
       "      <td>2.2K</td>\n",
       "      <td>9.3K</td>\n",
       "      <td>723K</td>\n",
       "      <td>0.0</td>\n",
       "    </tr>\n",
       "    <tr>\n",
       "      <th>7</th>\n",
       "      <td>@hollyhollssss</td>\n",
       "      <td>2024-01-11T04:34:44.000Z</td>\n",
       "      <td>this picture always kills me like taylor swift...</td>\n",
       "      <td>31.0</td>\n",
       "      <td>743</td>\n",
       "      <td>23K</td>\n",
       "      <td>448K</td>\n",
       "      <td>0.0</td>\n",
       "    </tr>\n",
       "    <tr>\n",
       "      <th>8</th>\n",
       "      <td>@FoxNews</td>\n",
       "      <td>2024-01-13T14:21:16.000Z</td>\n",
       "      <td>Tony Dungy says Taylor Swift has 'disenchanted...</td>\n",
       "      <td>394.0</td>\n",
       "      <td>115</td>\n",
       "      <td>739</td>\n",
       "      <td>642K</td>\n",
       "      <td>1.0</td>\n",
       "    </tr>\n",
       "    <tr>\n",
       "      <th>9</th>\n",
       "      <td>@evermoresflower</td>\n",
       "      <td>2024-01-12T00:06:46.000Z</td>\n",
       "      <td>\"Taylor Swift-\"\\nMe:</td>\n",
       "      <td>12.0</td>\n",
       "      <td>578</td>\n",
       "      <td>3.4K</td>\n",
       "      <td>59K</td>\n",
       "      <td>0.0</td>\n",
       "    </tr>\n",
       "    <tr>\n",
       "      <th>10</th>\n",
       "      <td>@fuckit_ilove</td>\n",
       "      <td>2024-01-12T22:46:37.000Z</td>\n",
       "      <td>Taylor Swift becomes the first artist to reach...</td>\n",
       "      <td>6.0</td>\n",
       "      <td>188</td>\n",
       "      <td>1.8K</td>\n",
       "      <td>31K</td>\n",
       "      <td>1.0</td>\n",
       "    </tr>\n",
       "    <tr>\n",
       "      <th>11</th>\n",
       "      <td>@TheBabylonBee</td>\n",
       "      <td>2024-01-11T22:00:22.000Z</td>\n",
       "      <td>Selena Gomez Explains To Taylor Swift How The ...</td>\n",
       "      <td>133.0</td>\n",
       "      <td>990</td>\n",
       "      <td>8.1K</td>\n",
       "      <td>282K</td>\n",
       "      <td>0.0</td>\n",
       "    </tr>\n",
       "    <tr>\n",
       "      <th>12</th>\n",
       "      <td>@MissEnchanted_</td>\n",
       "      <td>2024-01-12T11:00:12.000Z</td>\n",
       "      <td>-No one: \\n-Taylor Swift right before Cruel Su...</td>\n",
       "      <td>12.0</td>\n",
       "      <td>409</td>\n",
       "      <td>4K</td>\n",
       "      <td>264K</td>\n",
       "      <td>-1.0</td>\n",
       "    </tr>\n",
       "    <tr>\n",
       "      <th>13</th>\n",
       "      <td>@thesadbaby</td>\n",
       "      <td>2024-01-12T13:55:33.000Z</td>\n",
       "      <td>taylor swift.</td>\n",
       "      <td>19.0</td>\n",
       "      <td>2.7K</td>\n",
       "      <td>9.9K</td>\n",
       "      <td>225K</td>\n",
       "      <td>0.0</td>\n",
       "    </tr>\n",
       "    <tr>\n",
       "      <th>14</th>\n",
       "      <td>@everlikeme</td>\n",
       "      <td>2024-01-13T12:57:59.000Z</td>\n",
       "      <td>if midnights was released this week taylor swi...</td>\n",
       "      <td>8.0</td>\n",
       "      <td>149</td>\n",
       "      <td>974</td>\n",
       "      <td>26K</td>\n",
       "      <td>1.0</td>\n",
       "    </tr>\n",
       "    <tr>\n",
       "      <th>15</th>\n",
       "      <td>@TSstatistics</td>\n",
       "      <td>2024-01-13T00:05:44.000Z</td>\n",
       "      <td>tfff is that ?</td>\n",
       "      <td>37.0</td>\n",
       "      <td>111</td>\n",
       "      <td>671</td>\n",
       "      <td>32K</td>\n",
       "      <td>0.0</td>\n",
       "    </tr>\n",
       "    <tr>\n",
       "      <th>16</th>\n",
       "      <td>@everybdysgay</td>\n",
       "      <td>2024-01-13T00:02:01.000Z</td>\n",
       "      <td>“If they’re listening to the lyrics, I’m okay ...</td>\n",
       "      <td>5.0</td>\n",
       "      <td>32</td>\n",
       "      <td>194</td>\n",
       "      <td>11K</td>\n",
       "      <td>1.0</td>\n",
       "    </tr>\n",
       "    <tr>\n",
       "      <th>17</th>\n",
       "      <td>@ashslegends</td>\n",
       "      <td>2024-01-13T01:13:29.000Z</td>\n",
       "      <td>“omg did you hear taylor swift just released a...</td>\n",
       "      <td>1.0</td>\n",
       "      <td>18</td>\n",
       "      <td>256</td>\n",
       "      <td>6.4K</td>\n",
       "      <td>1.0</td>\n",
       "    </tr>\n",
       "    <tr>\n",
       "      <th>18</th>\n",
       "      <td>@gnfzstyle</td>\n",
       "      <td>2024-01-13T10:56:03.000Z</td>\n",
       "      <td>me bc im in multiple fandoms and cant decide i...</td>\n",
       "      <td>3.0</td>\n",
       "      <td>2</td>\n",
       "      <td>23</td>\n",
       "      <td>1.1K</td>\n",
       "      <td>0.0</td>\n",
       "    </tr>\n",
       "    <tr>\n",
       "      <th>19</th>\n",
       "      <td>@_usertweets</td>\n",
       "      <td>2024-01-11T00:12:03.000Z</td>\n",
       "      <td>guess the taylor swift song</td>\n",
       "      <td>53.0</td>\n",
       "      <td>356</td>\n",
       "      <td>3.6K</td>\n",
       "      <td>83K</td>\n",
       "      <td>0.0</td>\n",
       "    </tr>\n",
       "    <tr>\n",
       "      <th>20</th>\n",
       "      <td>@juliforniz</td>\n",
       "      <td>2024-01-12T18:16:08.000Z</td>\n",
       "      <td>300 takeout coffees later I finished it!!! .\\n...</td>\n",
       "      <td>48.0</td>\n",
       "      <td>125</td>\n",
       "      <td>613</td>\n",
       "      <td>22K</td>\n",
       "      <td>1.0</td>\n",
       "    </tr>\n",
       "    <tr>\n",
       "      <th>21</th>\n",
       "      <td>@folkscait</td>\n",
       "      <td>2024-01-13T15:49:36.000Z</td>\n",
       "      <td>natalie portman taylor swift edit edits fancam...</td>\n",
       "      <td>4.0</td>\n",
       "      <td>1</td>\n",
       "      <td>2</td>\n",
       "      <td>145</td>\n",
       "      <td>0.0</td>\n",
       "    </tr>\n",
       "    <tr>\n",
       "      <th>22</th>\n",
       "      <td>@selovelenaa</td>\n",
       "      <td>2024-01-11T08:19:50.000Z</td>\n",
       "      <td>is it me or linda ronstadt and her long time b...</td>\n",
       "      <td>14.0</td>\n",
       "      <td>164</td>\n",
       "      <td>1.8K</td>\n",
       "      <td>153K</td>\n",
       "      <td>1.0</td>\n",
       "    </tr>\n",
       "    <tr>\n",
       "      <th>23</th>\n",
       "      <td>@EpochTimes</td>\n",
       "      <td>2024-01-12T01:38:24.000Z</td>\n",
       "      <td>Seemingly out of nowhere, the Pentagon came ou...</td>\n",
       "      <td>8.0</td>\n",
       "      <td>25</td>\n",
       "      <td>43</td>\n",
       "      <td>11K</td>\n",
       "      <td>0.0</td>\n",
       "    </tr>\n",
       "    <tr>\n",
       "      <th>24</th>\n",
       "      <td>@FChappo6996</td>\n",
       "      <td>2024-01-11T14:55:50.000Z</td>\n",
       "      <td>Anyone still selling Taylor Swift tickets?? Pr...</td>\n",
       "      <td>30.0</td>\n",
       "      <td>1</td>\n",
       "      <td>12</td>\n",
       "      <td>775</td>\n",
       "      <td>0.0</td>\n",
       "    </tr>\n",
       "    <tr>\n",
       "      <th>25</th>\n",
       "      <td>@starkscar</td>\n",
       "      <td>2024-01-13T16:07:52.000Z</td>\n",
       "      <td>i need a sugar daddy to buy me taylor swift me...</td>\n",
       "      <td>17.0</td>\n",
       "      <td>2</td>\n",
       "      <td>17</td>\n",
       "      <td>150</td>\n",
       "      <td>0.0</td>\n",
       "    </tr>\n",
       "    <tr>\n",
       "      <th>26</th>\n",
       "      <td>@tayspetsch</td>\n",
       "      <td>2024-01-12T14:12:54.000Z</td>\n",
       "      <td>to this day I still demand from taylor swift t...</td>\n",
       "      <td>10.0</td>\n",
       "      <td>63</td>\n",
       "      <td>419</td>\n",
       "      <td>17K</td>\n",
       "      <td>-1.0</td>\n",
       "    </tr>\n",
       "    <tr>\n",
       "      <th>27</th>\n",
       "      <td>@corneliastgirly</td>\n",
       "      <td>2024-01-11T06:06:38.000Z</td>\n",
       "      <td>THIS. THIS IS A TAYLOR SWIFT EASTER EGG. BUCKL...</td>\n",
       "      <td>25.0</td>\n",
       "      <td>239</td>\n",
       "      <td>3.3K</td>\n",
       "      <td>106K</td>\n",
       "      <td>0.0</td>\n",
       "    </tr>\n",
       "    <tr>\n",
       "      <th>28</th>\n",
       "      <td>@thepopquote</td>\n",
       "      <td>2024-01-12T01:01:08.000Z</td>\n",
       "      <td>king of my heart / taylor swift</td>\n",
       "      <td>1.0</td>\n",
       "      <td>359</td>\n",
       "      <td>1.5K</td>\n",
       "      <td>65K</td>\n",
       "      <td>0.0</td>\n",
       "    </tr>\n",
       "    <tr>\n",
       "      <th>29</th>\n",
       "      <td>@bestoffhaunting</td>\n",
       "      <td>2024-01-13T03:37:04.000Z</td>\n",
       "      <td>\"take me to the lakes, where all the poets wen...</td>\n",
       "      <td>10.0</td>\n",
       "      <td>715</td>\n",
       "      <td>3.1K</td>\n",
       "      <td>55K</td>\n",
       "      <td>0.0</td>\n",
       "    </tr>\n",
       "    <tr>\n",
       "      <th>30</th>\n",
       "      <td>@queercanon13</td>\n",
       "      <td>2024-01-13T04:05:58.000Z</td>\n",
       "      <td>Comp het is Taylor Swift responding to the NYT...</td>\n",
       "      <td>2.0</td>\n",
       "      <td>2</td>\n",
       "      <td>20</td>\n",
       "      <td>1K</td>\n",
       "      <td>1.0</td>\n",
       "    </tr>\n",
       "    <tr>\n",
       "      <th>31</th>\n",
       "      <td>@_novera_shehrin</td>\n",
       "      <td>2024-01-13T08:53:15.000Z</td>\n",
       "      <td>Taylor Swift x Minsung &gt;&gt;&gt;&gt;&gt;&gt;&gt;</td>\n",
       "      <td>4.0</td>\n",
       "      <td>4</td>\n",
       "      <td>16</td>\n",
       "      <td>1.1K</td>\n",
       "      <td>0.0</td>\n",
       "    </tr>\n",
       "    <tr>\n",
       "      <th>32</th>\n",
       "      <td>@blairlylethal</td>\n",
       "      <td>2024-01-12T08:23:23.000Z</td>\n",
       "      <td>“she lost him but she found herself and someho...</td>\n",
       "      <td>NaN</td>\n",
       "      <td>203</td>\n",
       "      <td>772</td>\n",
       "      <td>21K</td>\n",
       "      <td>0.0</td>\n",
       "    </tr>\n",
       "    <tr>\n",
       "      <th>33</th>\n",
       "      <td>@FloRacing</td>\n",
       "      <td>2024-01-13T15:30:00.000Z</td>\n",
       "      <td>𝗦𝘄𝗶𝗳𝘁𝗶𝗲𝘀  𝗗𝗶𝗿𝘁 𝗧𝗿𝗮𝗰𝗸 𝗥𝗮𝗰𝗶𝗻𝗴\\n\\nDid you know Ta...</td>\n",
       "      <td>4.0</td>\n",
       "      <td>10</td>\n",
       "      <td>40</td>\n",
       "      <td>6.6K</td>\n",
       "      <td>1.0</td>\n",
       "    </tr>\n",
       "    <tr>\n",
       "      <th>34</th>\n",
       "      <td>@smonahan86</td>\n",
       "      <td>2024-01-12T19:08:29.000Z</td>\n",
       "      <td>Ok guys.. riddle me this.. why is the Roman nu...</td>\n",
       "      <td>40.0</td>\n",
       "      <td>16</td>\n",
       "      <td>292</td>\n",
       "      <td>139K</td>\n",
       "      <td>-1.0</td>\n",
       "    </tr>\n",
       "    <tr>\n",
       "      <th>35</th>\n",
       "      <td>@aritzystan</td>\n",
       "      <td>2024-01-13T10:41:48.000Z</td>\n",
       "      <td>taylor swift’s fandom’s obsession with ariana ...</td>\n",
       "      <td>4.0</td>\n",
       "      <td>3</td>\n",
       "      <td>27</td>\n",
       "      <td>1.3K</td>\n",
       "      <td>0.0</td>\n",
       "    </tr>\n",
       "    <tr>\n",
       "      <th>36</th>\n",
       "      <td>@kaiowowjinja</td>\n",
       "      <td>2024-01-13T15:30:46.000Z</td>\n",
       "      <td>no but thats the thing, this is arianas actual...</td>\n",
       "      <td>NaN</td>\n",
       "      <td>3</td>\n",
       "      <td>28</td>\n",
       "      <td>926</td>\n",
       "      <td>-1.0</td>\n",
       "    </tr>\n",
       "    <tr>\n",
       "      <th>37</th>\n",
       "      <td>@yourightselena</td>\n",
       "      <td>2024-01-11T02:18:40.000Z</td>\n",
       "      <td>Deaf girl reads lips: Selena Gomez with Taylor...</td>\n",
       "      <td>5.0</td>\n",
       "      <td>41</td>\n",
       "      <td>342</td>\n",
       "      <td>32K</td>\n",
       "      <td>1.0</td>\n",
       "    </tr>\n",
       "    <tr>\n",
       "      <th>38</th>\n",
       "      <td>@lullucorneliast</td>\n",
       "      <td>2024-01-13T16:08:55.000Z</td>\n",
       "      <td>i cant process im seeing TAYLOR SWIFT this yea...</td>\n",
       "      <td>2.0</td>\n",
       "      <td>3</td>\n",
       "      <td>11</td>\n",
       "      <td>131</td>\n",
       "      <td>1.0</td>\n",
       "    </tr>\n",
       "    <tr>\n",
       "      <th>39</th>\n",
       "      <td>@thepopquote</td>\n",
       "      <td>2024-01-11T14:04:04.000Z</td>\n",
       "      <td>cornelia street / taylor swift</td>\n",
       "      <td>8.0</td>\n",
       "      <td>1.1K</td>\n",
       "      <td>3.6K</td>\n",
       "      <td>131K</td>\n",
       "      <td>0.0</td>\n",
       "    </tr>\n",
       "    <tr>\n",
       "      <th>40</th>\n",
       "      <td>@ally_sheehan</td>\n",
       "      <td>2024-01-13T13:11:16.000Z</td>\n",
       "      <td>we have no idea what taylor swift has up her s...</td>\n",
       "      <td>5.0</td>\n",
       "      <td>38</td>\n",
       "      <td>512</td>\n",
       "      <td>8.7K</td>\n",
       "      <td>-1.0</td>\n",
       "    </tr>\n",
       "    <tr>\n",
       "      <th>41</th>\n",
       "      <td>@justforjelo</td>\n",
       "      <td>2024-01-12T14:27:51.000Z</td>\n",
       "      <td>roxchie is so taylor swift coded</td>\n",
       "      <td>1.0</td>\n",
       "      <td>35</td>\n",
       "      <td>92</td>\n",
       "      <td>5.4K</td>\n",
       "      <td>0.0</td>\n",
       "    </tr>\n",
       "    <tr>\n",
       "      <th>42</th>\n",
       "      <td>@dailyreputation</td>\n",
       "      <td>2024-01-12T14:10:00.000Z</td>\n",
       "      <td>6 years ago today, Taylor Swift released the '...</td>\n",
       "      <td>11.0</td>\n",
       "      <td>354</td>\n",
       "      <td>1.9K</td>\n",
       "      <td>95K</td>\n",
       "      <td>-1.0</td>\n",
       "    </tr>\n",
       "    <tr>\n",
       "      <th>43</th>\n",
       "      <td>@RiotGrlErin</td>\n",
       "      <td>2024-01-12T18:39:40.000Z</td>\n",
       "      <td>Taylor Swift killed Fozzie.</td>\n",
       "      <td>145.0</td>\n",
       "      <td>383</td>\n",
       "      <td>3.3K</td>\n",
       "      <td>188K</td>\n",
       "      <td>-1.0</td>\n",
       "    </tr>\n",
       "    <tr>\n",
       "      <th>44</th>\n",
       "      <td>@LaineyWasi</td>\n",
       "      <td>2024-01-13T04:32:10.000Z</td>\n",
       "      <td>We’re all in this Psyop together &amp; most likely...</td>\n",
       "      <td>4.0</td>\n",
       "      <td>36</td>\n",
       "      <td>85</td>\n",
       "      <td>4.3K</td>\n",
       "      <td>1.0</td>\n",
       "    </tr>\n",
       "    <tr>\n",
       "      <th>45</th>\n",
       "      <td>@eshter200</td>\n",
       "      <td>2024-01-13T16:12:20.000Z</td>\n",
       "      <td>Taylor swift\\nAll Too well</td>\n",
       "      <td>NaN</td>\n",
       "      <td>NaN</td>\n",
       "      <td>NaN</td>\n",
       "      <td>63</td>\n",
       "      <td>0.0</td>\n",
       "    </tr>\n",
       "    <tr>\n",
       "      <th>46</th>\n",
       "      <td>@swifferupdates</td>\n",
       "      <td>2024-01-11T06:16:38.000Z</td>\n",
       "      <td>| \\n@taylorswift13\\n stuns in New York</td>\n",
       "      <td>56.0</td>\n",
       "      <td>1.3K</td>\n",
       "      <td>10K</td>\n",
       "      <td>204K</td>\n",
       "      <td>1.0</td>\n",
       "    </tr>\n",
       "    <tr>\n",
       "      <th>47</th>\n",
       "      <td>@VIsOnCorneliaSt</td>\n",
       "      <td>2024-01-12T22:10:09.000Z</td>\n",
       "      <td>yet taylor swift won’t wear pants</td>\n",
       "      <td>12.0</td>\n",
       "      <td>61</td>\n",
       "      <td>2.6K</td>\n",
       "      <td>215K</td>\n",
       "      <td>0.0</td>\n",
       "    </tr>\n",
       "    <tr>\n",
       "      <th>48</th>\n",
       "      <td>@swiftiekpop13</td>\n",
       "      <td>2024-01-13T05:25:48.000Z</td>\n",
       "      <td>Most Awarded Female “Artists” in music award s...</td>\n",
       "      <td>15.0</td>\n",
       "      <td>84</td>\n",
       "      <td>824</td>\n",
       "      <td>30K</td>\n",
       "      <td>1.0</td>\n",
       "    </tr>\n",
       "    <tr>\n",
       "      <th>49</th>\n",
       "      <td>@Mindcite_US</td>\n",
       "      <td>2024-01-12T17:19:50.000Z</td>\n",
       "      <td>Still waiting for one MAGA conspiracy theory t...</td>\n",
       "      <td>7.0</td>\n",
       "      <td>72</td>\n",
       "      <td>146</td>\n",
       "      <td>4.9K</td>\n",
       "      <td>1.0</td>\n",
       "    </tr>\n",
       "    <tr>\n",
       "      <th>50</th>\n",
       "      <td>@ProjectTabs</td>\n",
       "      <td>2024-01-11T17:50:21.000Z</td>\n",
       "      <td>Is Taylor Swift a pentagon asset?</td>\n",
       "      <td>15.0</td>\n",
       "      <td>33</td>\n",
       "      <td>54</td>\n",
       "      <td>3.8K</td>\n",
       "      <td>0.0</td>\n",
       "    </tr>\n",
       "    <tr>\n",
       "      <th>51</th>\n",
       "      <td>@theantiqueswift</td>\n",
       "      <td>2024-01-13T10:11:28.000Z</td>\n",
       "      <td>Anti-Hero - 17.3M\\nLavender Haze - 16.4M\\nMaro...</td>\n",
       "      <td>24.0</td>\n",
       "      <td>183</td>\n",
       "      <td>1.2K</td>\n",
       "      <td>43K</td>\n",
       "      <td>1.0</td>\n",
       "    </tr>\n",
       "  </tbody>\n",
       "</table>\n",
       "</div>"
      ],
      "text/plain": [
       "            UserTags                TimeStamps  \\\n",
       "0      @TedLogan1010  2024-01-13T15:28:21.000Z   \n",
       "1       @hanniiverse  2024-01-13T12:00:55.000Z   \n",
       "2         @nihonggyu  2024-01-13T11:54:00.000Z   \n",
       "3        @tslucygray  2024-01-11T03:25:18.000Z   \n",
       "4        @thesadbaby  2024-01-13T16:15:04.000Z   \n",
       "5          @PopCrave  2024-01-12T16:15:50.000Z   \n",
       "6      @iluminatibot  2024-01-11T16:24:41.000Z   \n",
       "7     @hollyhollssss  2024-01-11T04:34:44.000Z   \n",
       "8           @FoxNews  2024-01-13T14:21:16.000Z   \n",
       "9   @evermoresflower  2024-01-12T00:06:46.000Z   \n",
       "10     @fuckit_ilove  2024-01-12T22:46:37.000Z   \n",
       "11    @TheBabylonBee  2024-01-11T22:00:22.000Z   \n",
       "12   @MissEnchanted_  2024-01-12T11:00:12.000Z   \n",
       "13       @thesadbaby  2024-01-12T13:55:33.000Z   \n",
       "14       @everlikeme  2024-01-13T12:57:59.000Z   \n",
       "15     @TSstatistics  2024-01-13T00:05:44.000Z   \n",
       "16     @everybdysgay  2024-01-13T00:02:01.000Z   \n",
       "17      @ashslegends  2024-01-13T01:13:29.000Z   \n",
       "18        @gnfzstyle  2024-01-13T10:56:03.000Z   \n",
       "19      @_usertweets  2024-01-11T00:12:03.000Z   \n",
       "20       @juliforniz  2024-01-12T18:16:08.000Z   \n",
       "21        @folkscait  2024-01-13T15:49:36.000Z   \n",
       "22      @selovelenaa  2024-01-11T08:19:50.000Z   \n",
       "23       @EpochTimes  2024-01-12T01:38:24.000Z   \n",
       "24      @FChappo6996  2024-01-11T14:55:50.000Z   \n",
       "25        @starkscar  2024-01-13T16:07:52.000Z   \n",
       "26       @tayspetsch  2024-01-12T14:12:54.000Z   \n",
       "27  @corneliastgirly  2024-01-11T06:06:38.000Z   \n",
       "28      @thepopquote  2024-01-12T01:01:08.000Z   \n",
       "29  @bestoffhaunting  2024-01-13T03:37:04.000Z   \n",
       "30     @queercanon13  2024-01-13T04:05:58.000Z   \n",
       "31  @_novera_shehrin  2024-01-13T08:53:15.000Z   \n",
       "32    @blairlylethal  2024-01-12T08:23:23.000Z   \n",
       "33        @FloRacing  2024-01-13T15:30:00.000Z   \n",
       "34       @smonahan86  2024-01-12T19:08:29.000Z   \n",
       "35       @aritzystan  2024-01-13T10:41:48.000Z   \n",
       "36     @kaiowowjinja  2024-01-13T15:30:46.000Z   \n",
       "37   @yourightselena  2024-01-11T02:18:40.000Z   \n",
       "38  @lullucorneliast  2024-01-13T16:08:55.000Z   \n",
       "39      @thepopquote  2024-01-11T14:04:04.000Z   \n",
       "40     @ally_sheehan  2024-01-13T13:11:16.000Z   \n",
       "41      @justforjelo  2024-01-12T14:27:51.000Z   \n",
       "42  @dailyreputation  2024-01-12T14:10:00.000Z   \n",
       "43      @RiotGrlErin  2024-01-12T18:39:40.000Z   \n",
       "44       @LaineyWasi  2024-01-13T04:32:10.000Z   \n",
       "45        @eshter200  2024-01-13T16:12:20.000Z   \n",
       "46   @swifferupdates  2024-01-11T06:16:38.000Z   \n",
       "47  @VIsOnCorneliaSt  2024-01-12T22:10:09.000Z   \n",
       "48    @swiftiekpop13  2024-01-13T05:25:48.000Z   \n",
       "49      @Mindcite_US  2024-01-12T17:19:50.000Z   \n",
       "50      @ProjectTabs  2024-01-11T17:50:21.000Z   \n",
       "51  @theantiqueswift  2024-01-13T10:11:28.000Z   \n",
       "\n",
       "                                               Tweets  Replys reTweets Likes  \\\n",
       "0   We can all agree that Taylor Swift is a witch ...    37.0       60   153   \n",
       "1          JOSHUA IN HIS \"LOVER\" ERA BY TAYLOR SWIFT      4.0     2.3K  7.1K   \n",
       "2   joshua tonight  there’s a taylor swift song he...    30.0     5.5K   15K   \n",
       "3   director said take five but taylor swift heard...    18.0      637  6.9K   \n",
       "4                                       taylor swift.     2.0       63   255   \n",
       "5   Taylor Swift and Travis Kelce are reportedly p...   963.0     4.5K   18K   \n",
       "6   George Soros owns Taylor Swift’s music but the...   505.0     2.2K  9.3K   \n",
       "7   this picture always kills me like taylor swift...    31.0      743   23K   \n",
       "8   Tony Dungy says Taylor Swift has 'disenchanted...   394.0      115   739   \n",
       "9                                \"Taylor Swift-\"\\nMe:    12.0      578  3.4K   \n",
       "10  Taylor Swift becomes the first artist to reach...     6.0      188  1.8K   \n",
       "11  Selena Gomez Explains To Taylor Swift How The ...   133.0      990  8.1K   \n",
       "12  -No one: \\n-Taylor Swift right before Cruel Su...    12.0      409    4K   \n",
       "13                                      taylor swift.    19.0     2.7K  9.9K   \n",
       "14  if midnights was released this week taylor swi...     8.0      149   974   \n",
       "15                                     tfff is that ?    37.0      111   671   \n",
       "16  “If they’re listening to the lyrics, I’m okay ...     5.0       32   194   \n",
       "17  “omg did you hear taylor swift just released a...     1.0       18   256   \n",
       "18  me bc im in multiple fandoms and cant decide i...     3.0        2    23   \n",
       "19                        guess the taylor swift song    53.0      356  3.6K   \n",
       "20  300 takeout coffees later I finished it!!! .\\n...    48.0      125   613   \n",
       "21  natalie portman taylor swift edit edits fancam...     4.0        1     2   \n",
       "22  is it me or linda ronstadt and her long time b...    14.0      164  1.8K   \n",
       "23  Seemingly out of nowhere, the Pentagon came ou...     8.0       25    43   \n",
       "24  Anyone still selling Taylor Swift tickets?? Pr...    30.0        1    12   \n",
       "25  i need a sugar daddy to buy me taylor swift me...    17.0        2    17   \n",
       "26  to this day I still demand from taylor swift t...    10.0       63   419   \n",
       "27  THIS. THIS IS A TAYLOR SWIFT EASTER EGG. BUCKL...    25.0      239  3.3K   \n",
       "28                    king of my heart / taylor swift     1.0      359  1.5K   \n",
       "29  \"take me to the lakes, where all the poets wen...    10.0      715  3.1K   \n",
       "30  Comp het is Taylor Swift responding to the NYT...     2.0        2    20   \n",
       "31                     Taylor Swift x Minsung >>>>>>>     4.0        4    16   \n",
       "32  “she lost him but she found herself and someho...     NaN      203   772   \n",
       "33  𝗦𝘄𝗶𝗳𝘁𝗶𝗲𝘀  𝗗𝗶𝗿𝘁 𝗧𝗿𝗮𝗰𝗸 𝗥𝗮𝗰𝗶𝗻𝗴\\n\\nDid you know Ta...     4.0       10    40   \n",
       "34  Ok guys.. riddle me this.. why is the Roman nu...    40.0       16   292   \n",
       "35  taylor swift’s fandom’s obsession with ariana ...     4.0        3    27   \n",
       "36  no but thats the thing, this is arianas actual...     NaN        3    28   \n",
       "37  Deaf girl reads lips: Selena Gomez with Taylor...     5.0       41   342   \n",
       "38  i cant process im seeing TAYLOR SWIFT this yea...     2.0        3    11   \n",
       "39                     cornelia street / taylor swift     8.0     1.1K  3.6K   \n",
       "40  we have no idea what taylor swift has up her s...     5.0       38   512   \n",
       "41                   roxchie is so taylor swift coded     1.0       35    92   \n",
       "42  6 years ago today, Taylor Swift released the '...    11.0      354  1.9K   \n",
       "43                        Taylor Swift killed Fozzie.   145.0      383  3.3K   \n",
       "44  We’re all in this Psyop together & most likely...     4.0       36    85   \n",
       "45                         Taylor swift\\nAll Too well     NaN      NaN   NaN   \n",
       "46             | \\n@taylorswift13\\n stuns in New York    56.0     1.3K   10K   \n",
       "47                  yet taylor swift won’t wear pants    12.0       61  2.6K   \n",
       "48  Most Awarded Female “Artists” in music award s...    15.0       84   824   \n",
       "49  Still waiting for one MAGA conspiracy theory t...     7.0       72   146   \n",
       "50                  Is Taylor Swift a pentagon asset?    15.0       33    54   \n",
       "51  Anti-Hero - 17.3M\\nLavender Haze - 16.4M\\nMaro...    24.0      183  1.2K   \n",
       "\n",
       "   Views  Sentiments  \n",
       "0   5.5K         1.0  \n",
       "1    49K         0.0  \n",
       "2   135K         0.0  \n",
       "3   134K         0.0  \n",
       "4     8K         0.0  \n",
       "5   3.3M         0.0  \n",
       "6   723K         0.0  \n",
       "7   448K         0.0  \n",
       "8   642K         1.0  \n",
       "9    59K         0.0  \n",
       "10   31K         1.0  \n",
       "11  282K         0.0  \n",
       "12  264K        -1.0  \n",
       "13  225K         0.0  \n",
       "14   26K         1.0  \n",
       "15   32K         0.0  \n",
       "16   11K         1.0  \n",
       "17  6.4K         1.0  \n",
       "18  1.1K         0.0  \n",
       "19   83K         0.0  \n",
       "20   22K         1.0  \n",
       "21   145         0.0  \n",
       "22  153K         1.0  \n",
       "23   11K         0.0  \n",
       "24   775         0.0  \n",
       "25   150         0.0  \n",
       "26   17K        -1.0  \n",
       "27  106K         0.0  \n",
       "28   65K         0.0  \n",
       "29   55K         0.0  \n",
       "30    1K         1.0  \n",
       "31  1.1K         0.0  \n",
       "32   21K         0.0  \n",
       "33  6.6K         1.0  \n",
       "34  139K        -1.0  \n",
       "35  1.3K         0.0  \n",
       "36   926        -1.0  \n",
       "37   32K         1.0  \n",
       "38   131         1.0  \n",
       "39  131K         0.0  \n",
       "40  8.7K        -1.0  \n",
       "41  5.4K         0.0  \n",
       "42   95K        -1.0  \n",
       "43  188K        -1.0  \n",
       "44  4.3K         1.0  \n",
       "45    63         0.0  \n",
       "46  204K         1.0  \n",
       "47  215K         0.0  \n",
       "48   30K         1.0  \n",
       "49  4.9K         1.0  \n",
       "50  3.8K         0.0  \n",
       "51   43K         1.0  "
      ]
     },
     "execution_count": 3,
     "metadata": {},
     "output_type": "execute_result"
    }
   ],
   "source": [
    "df"
   ]
  },
  {
   "cell_type": "code",
   "execution_count": null,
   "id": "5691756a-3c1a-471b-8892-683d2d66ffe2",
   "metadata": {},
   "outputs": [],
   "source": [
    "# df = df.drop(['Sentimen'], axis=1)"
   ]
  },
  {
   "cell_type": "code",
   "execution_count": 4,
   "id": "1271f09b-b534-4d4a-b534-e89355616e61",
   "metadata": {},
   "outputs": [
    {
     "data": {
      "text/html": [
       "<div>\n",
       "<style scoped>\n",
       "    .dataframe tbody tr th:only-of-type {\n",
       "        vertical-align: middle;\n",
       "    }\n",
       "\n",
       "    .dataframe tbody tr th {\n",
       "        vertical-align: top;\n",
       "    }\n",
       "\n",
       "    .dataframe thead th {\n",
       "        text-align: right;\n",
       "    }\n",
       "</style>\n",
       "<table border=\"1\" class=\"dataframe\">\n",
       "  <thead>\n",
       "    <tr style=\"text-align: right;\">\n",
       "      <th></th>\n",
       "      <th>UserTags</th>\n",
       "      <th>TimeStamps</th>\n",
       "      <th>Tweets</th>\n",
       "      <th>Replys</th>\n",
       "      <th>reTweets</th>\n",
       "      <th>Likes</th>\n",
       "      <th>Views</th>\n",
       "      <th>Sentiments</th>\n",
       "    </tr>\n",
       "  </thead>\n",
       "  <tbody>\n",
       "    <tr>\n",
       "      <th>0</th>\n",
       "      <td>@TedLogan1010</td>\n",
       "      <td>2024-01-13T15:28:21.000Z</td>\n",
       "      <td>We can all agree that Taylor Swift is a witch ...</td>\n",
       "      <td>37.0</td>\n",
       "      <td>60</td>\n",
       "      <td>153</td>\n",
       "      <td>5.5K</td>\n",
       "      <td>1.0</td>\n",
       "    </tr>\n",
       "    <tr>\n",
       "      <th>1</th>\n",
       "      <td>@hanniiverse</td>\n",
       "      <td>2024-01-13T12:00:55.000Z</td>\n",
       "      <td>JOSHUA IN HIS \"LOVER\" ERA BY TAYLOR SWIFT</td>\n",
       "      <td>4.0</td>\n",
       "      <td>2.3K</td>\n",
       "      <td>7.1K</td>\n",
       "      <td>49K</td>\n",
       "      <td>0.0</td>\n",
       "    </tr>\n",
       "    <tr>\n",
       "      <th>2</th>\n",
       "      <td>@nihonggyu</td>\n",
       "      <td>2024-01-13T11:54:00.000Z</td>\n",
       "      <td>joshua tonight  there’s a taylor swift song he...</td>\n",
       "      <td>30.0</td>\n",
       "      <td>5.5K</td>\n",
       "      <td>15K</td>\n",
       "      <td>135K</td>\n",
       "      <td>0.0</td>\n",
       "    </tr>\n",
       "    <tr>\n",
       "      <th>3</th>\n",
       "      <td>@tslucygray</td>\n",
       "      <td>2024-01-11T03:25:18.000Z</td>\n",
       "      <td>director said take five but taylor swift heard...</td>\n",
       "      <td>18.0</td>\n",
       "      <td>637</td>\n",
       "      <td>6.9K</td>\n",
       "      <td>134K</td>\n",
       "      <td>0.0</td>\n",
       "    </tr>\n",
       "    <tr>\n",
       "      <th>4</th>\n",
       "      <td>@thesadbaby</td>\n",
       "      <td>2024-01-13T16:15:04.000Z</td>\n",
       "      <td>taylor swift.</td>\n",
       "      <td>2.0</td>\n",
       "      <td>63</td>\n",
       "      <td>255</td>\n",
       "      <td>8K</td>\n",
       "      <td>0.0</td>\n",
       "    </tr>\n",
       "  </tbody>\n",
       "</table>\n",
       "</div>"
      ],
      "text/plain": [
       "        UserTags                TimeStamps  \\\n",
       "0  @TedLogan1010  2024-01-13T15:28:21.000Z   \n",
       "1   @hanniiverse  2024-01-13T12:00:55.000Z   \n",
       "2     @nihonggyu  2024-01-13T11:54:00.000Z   \n",
       "3    @tslucygray  2024-01-11T03:25:18.000Z   \n",
       "4    @thesadbaby  2024-01-13T16:15:04.000Z   \n",
       "\n",
       "                                              Tweets  Replys reTweets Likes  \\\n",
       "0  We can all agree that Taylor Swift is a witch ...    37.0       60   153   \n",
       "1         JOSHUA IN HIS \"LOVER\" ERA BY TAYLOR SWIFT      4.0     2.3K  7.1K   \n",
       "2  joshua tonight  there’s a taylor swift song he...    30.0     5.5K   15K   \n",
       "3  director said take five but taylor swift heard...    18.0      637  6.9K   \n",
       "4                                      taylor swift.     2.0       63   255   \n",
       "\n",
       "  Views  Sentiments  \n",
       "0  5.5K         1.0  \n",
       "1   49K         0.0  \n",
       "2  135K         0.0  \n",
       "3  134K         0.0  \n",
       "4    8K         0.0  "
      ]
     },
     "execution_count": 4,
     "metadata": {},
     "output_type": "execute_result"
    }
   ],
   "source": [
    "df.head()"
   ]
  },
  {
   "cell_type": "code",
   "execution_count": 5,
   "id": "87467e66-b791-4ecf-82ff-fc5e39a7c1e9",
   "metadata": {},
   "outputs": [
    {
     "name": "stderr",
     "output_type": "stream",
     "text": [
      "C:\\Users\\USER\\AppData\\Local\\Programs\\Python\\Python312\\Lib\\site-packages\\ekphrasis\\classes\\tokenizer.py:225: FutureWarning: Possible nested set at position 2190\n",
      "  self.tok = re.compile(r\"({})\".format(\"|\".join(pipeline)))\n"
     ]
    },
    {
     "name": "stdout",
     "output_type": "stream",
     "text": [
      "Reading twitter - 1grams ...\n",
      "Reading twitter - 2grams ...\n",
      "Reading twitter - 1grams ...\n"
     ]
    },
    {
     "name": "stderr",
     "output_type": "stream",
     "text": [
      "C:\\Users\\USER\\AppData\\Local\\Programs\\Python\\Python312\\Lib\\site-packages\\ekphrasis\\classes\\exmanager.py:14: FutureWarning: Possible nested set at position 42\n",
      "  regexes = {k.lower(): re.compile(self.expressions[k]) for k, v in\n"
     ]
    }
   ],
   "source": [
    "from ekphrasis.classes.preprocessor import TextPreProcessor\n",
    "from ekphrasis.classes.tokenizer import SocialTokenizer\n",
    "from ekphrasis.dicts.emoticons import emoticons\n",
    "\n",
    "text_processor = TextPreProcessor(\n",
    "    # terms that will be normalized\n",
    "    normalize=['email', 'percent', 'money', 'phone', 'user',\n",
    "    'time', 'date', 'number'],\n",
    "    # terms that will be annotated\n",
    "    #annotate={\"hashtag\", \"allcaps\", \"elongated\", \"repeated\",'emphasis', 'censored'},\n",
    "    annotate={\"hashtag\"},\n",
    "    fix_html=True, # fix HTML tokens\n",
    "    \n",
    "    # corpus from which the word statistics are going to be used\n",
    "    # for word segmentation\n",
    "    segmenter=\"twitter\",\n",
    "    \n",
    "    # corpus from which the word statistics are going to be used\n",
    "    # for spell correction\n",
    "    corrector=\"twitter\",\n",
    "    \n",
    "    unpack_hashtags=True, # perform word segmentation on hashtags\n",
    "    unpack_contractions=True, # Unpack contractions (can't -> can not)\n",
    "    spell_correct_elong=False, # spell correction for elongated words\n",
    "    \n",
    "    # select a tokenizer. You can use SocialTokenizer, or pass your own\n",
    "    # the tokenizer, should take as input a string and return a list of tokens\n",
    "    tokenizer=SocialTokenizer(lowercase=True).tokenize,\n",
    "    \n",
    "    # list of dictionaries, for replacing tokens extracted from the text,\n",
    "    # with other expressions. You can pass more than one dictionaries.\n",
    "    dicts=[emoticons]\n",
    ")"
   ]
  },
  {
   "cell_type": "code",
   "execution_count": 6,
   "id": "c0bf0795-a6ce-4e29-aed7-75d06160141f",
   "metadata": {},
   "outputs": [],
   "source": [
    "def bersih_data(text):\n",
    "    return \" \".join(text_processor.pre_process_doc(text))\n",
    "    \n",
    "def non_ascii(text):\n",
    "    return text.encode('ascii', 'replace').decode('ascii')\n",
    "    \n",
    "def remove_space_alzami(text):\n",
    "    return \" \".join(text.split())\n",
    "\n",
    "def remove_emoji_alzami(text):\n",
    "    return ' '.join(re.sub(\"([x#][A-Za-z0-9]+)\",\" \", text).split())\n",
    "\n",
    "def remove_tab(text):\n",
    "    return text.replace('\\\\t',\" \").replace('\\\\n',\" \").replace('\\\\u',\" \").replace('\\\\',\"\")\n",
    "\n",
    "def remove_tab2(text):\n",
    "    return re.sub(r'\\s+',' ',text)\n",
    "\n",
    "def remove_rt(text):\n",
    "    return text.replace('RT',\" \")\n",
    "\n",
    "def remove_mention(text):\n",
    "    return ' '.join(re.sub(r\"([@#][A-Za-z0-9]+)|(\\w+:\\/\\/\\S+)\",\" \", text).split())\n",
    "\n",
    "def remove_incomplete_url(text):\n",
    "    return text.replace(\"http://\", \" \").replace(\"https://\", \" \")\n",
    "\n",
    "def remove_single_char(text):\n",
    "    return re.sub(r\"\\b[a-zA-Z]\\b\", \"\", text)\n",
    "\n",
    "def remove_excessive_dot(text):\n",
    "    return text.replace('..',\" \")\n",
    "\n",
    "def change_stripe(text):\n",
    "    return text.replace('-',\" \")\n",
    "\n",
    "def lower(text):\n",
    "    return text.lower()\n",
    "\n",
    "def remove_single_char(text):\n",
    "    return re.sub(r\"\\b[a-zA-Z]\\b\", \"\", text)\n",
    "\n",
    "def remove_excessive_dot(text):\n",
    "    return text.replace('..',\" \")\n",
    "\n",
    "def lower(text):\n",
    "    return text.lower()\n",
    "    \n",
    "def remove_whitespace_LT(text):\n",
    "    return text.strip()\n",
    "\n",
    "def remove_whitespace_multiple(text):\n",
    "    return re.sub(r'\\s+',' ',text)\n",
    "\n",
    "def remove_punctuation(text):\n",
    "    remove = string.punctuation\n",
    "    remove = remove.replace(\"_\", \"\") # don't remove hyphens\n",
    "    pattern = r\"[{}]\".format(remove) # create the pattern\n",
    "    return re.sub(pattern, \"\", text)"
   ]
  },
  {
   "cell_type": "code",
   "execution_count": 7,
   "id": "0731cdbc-3970-4e99-9465-d0dfa10fdba3",
   "metadata": {},
   "outputs": [],
   "source": [
    "# hapus untuk <>\n",
    "def remove_number_eks(text):\n",
    "    return text.replace('<number>',\" \")\n",
    "\n",
    "def remove_angka(text):\n",
    "    return re.sub(r\"\\d+\", \"\", text)\n",
    "\n",
    "def remove_URL_eks(text):\n",
    "    return text.replace('URL',\" \").replace('url',\" \")\n",
    "\n",
    "def space_punctuation(text):\n",
    "    return re.sub('(?<! )(?=[.,!?()])|(?<=[.,!?()])(?! )', r' ', text)"
   ]
  },
  {
   "cell_type": "code",
   "execution_count": 8,
   "id": "39ce64f5-477b-402b-bab5-62b4907b4df9",
   "metadata": {},
   "outputs": [],
   "source": [
    "i = 0\n",
    "final_string = []\n",
    "s = \"\"\n",
    "for text in df['Tweets'].values:\n",
    "    filteredSentence = []\n",
    "    EachReviewText = \"\"\n",
    "    proc = remove_rt(text)\n",
    "    proc = lower(proc)\n",
    "    proc = change_stripe(proc)\n",
    "    proc = remove_emoji_alzami(proc)\n",
    "    proc = remove_tab(proc)\n",
    "    proc = remove_tab2(proc)\n",
    "    proc = non_ascii(proc)\n",
    "    proc = remove_incomplete_url(proc)\n",
    "    proc = remove_excessive_dot(proc)\n",
    "    proc = remove_whitespace_LT(proc)\n",
    "    proc = remove_whitespace_multiple(proc)\n",
    "    proc = remove_single_char(proc)\n",
    "    proc = space_punctuation(proc)\n",
    "    proc = remove_punctuation(proc)\n",
    "    proc = remove_space_alzami(proc)\n",
    "    proc = bersih_data(proc)\n",
    "    proc = remove_number_eks(proc)\n",
    "    proc = remove_angka(proc)\n",
    "    proc = remove_URL_eks(proc)\n",
    "    EachReviewText = proc\n",
    "    final_string.append(EachReviewText)"
   ]
  },
  {
   "cell_type": "code",
   "execution_count": 9,
   "id": "dae39ece-4d3a-4c7f-883f-d649572df92c",
   "metadata": {},
   "outputs": [],
   "source": [
    "df[\"Step01\"] = final_string"
   ]
  },
  {
   "cell_type": "code",
   "execution_count": 10,
   "id": "0fc68de4-69a4-4007-8835-18ba6ed07f38",
   "metadata": {},
   "outputs": [
    {
     "data": {
      "text/html": [
       "<div>\n",
       "<style scoped>\n",
       "    .dataframe tbody tr th:only-of-type {\n",
       "        vertical-align: middle;\n",
       "    }\n",
       "\n",
       "    .dataframe tbody tr th {\n",
       "        vertical-align: top;\n",
       "    }\n",
       "\n",
       "    .dataframe thead th {\n",
       "        text-align: right;\n",
       "    }\n",
       "</style>\n",
       "<table border=\"1\" class=\"dataframe\">\n",
       "  <thead>\n",
       "    <tr style=\"text-align: right;\">\n",
       "      <th></th>\n",
       "      <th>UserTags</th>\n",
       "      <th>TimeStamps</th>\n",
       "      <th>Tweets</th>\n",
       "      <th>Replys</th>\n",
       "      <th>reTweets</th>\n",
       "      <th>Likes</th>\n",
       "      <th>Views</th>\n",
       "      <th>Sentiments</th>\n",
       "      <th>Step01</th>\n",
       "    </tr>\n",
       "  </thead>\n",
       "  <tbody>\n",
       "    <tr>\n",
       "      <th>0</th>\n",
       "      <td>@TedLogan1010</td>\n",
       "      <td>2024-01-13T15:28:21.000Z</td>\n",
       "      <td>We can all agree that Taylor Swift is a witch ...</td>\n",
       "      <td>37.0</td>\n",
       "      <td>60</td>\n",
       "      <td>153</td>\n",
       "      <td>5.5K</td>\n",
       "      <td>1.0</td>\n",
       "      <td>we can all agree that taylor swift is witch ri...</td>\n",
       "    </tr>\n",
       "    <tr>\n",
       "      <th>1</th>\n",
       "      <td>@hanniiverse</td>\n",
       "      <td>2024-01-13T12:00:55.000Z</td>\n",
       "      <td>JOSHUA IN HIS \"LOVER\" ERA BY TAYLOR SWIFT</td>\n",
       "      <td>4.0</td>\n",
       "      <td>2.3K</td>\n",
       "      <td>7.1K</td>\n",
       "      <td>49K</td>\n",
       "      <td>0.0</td>\n",
       "      <td>joshua in his lover era by taylor swift</td>\n",
       "    </tr>\n",
       "    <tr>\n",
       "      <th>2</th>\n",
       "      <td>@nihonggyu</td>\n",
       "      <td>2024-01-13T11:54:00.000Z</td>\n",
       "      <td>joshua tonight  there’s a taylor swift song he...</td>\n",
       "      <td>30.0</td>\n",
       "      <td>5.5K</td>\n",
       "      <td>15K</td>\n",
       "      <td>135K</td>\n",
       "      <td>0.0</td>\n",
       "      <td>joshua tonight there taylor swift song here so...</td>\n",
       "    </tr>\n",
       "    <tr>\n",
       "      <th>3</th>\n",
       "      <td>@tslucygray</td>\n",
       "      <td>2024-01-11T03:25:18.000Z</td>\n",
       "      <td>director said take five but taylor swift heard...</td>\n",
       "      <td>18.0</td>\n",
       "      <td>637</td>\n",
       "      <td>6.9K</td>\n",
       "      <td>134K</td>\n",
       "      <td>0.0</td>\n",
       "      <td>director said take five but taylor swift heard...</td>\n",
       "    </tr>\n",
       "    <tr>\n",
       "      <th>4</th>\n",
       "      <td>@thesadbaby</td>\n",
       "      <td>2024-01-13T16:15:04.000Z</td>\n",
       "      <td>taylor swift.</td>\n",
       "      <td>2.0</td>\n",
       "      <td>63</td>\n",
       "      <td>255</td>\n",
       "      <td>8K</td>\n",
       "      <td>0.0</td>\n",
       "      <td>taylor swift</td>\n",
       "    </tr>\n",
       "    <tr>\n",
       "      <th>5</th>\n",
       "      <td>@PopCrave</td>\n",
       "      <td>2024-01-12T16:15:50.000Z</td>\n",
       "      <td>Taylor Swift and Travis Kelce are reportedly p...</td>\n",
       "      <td>963.0</td>\n",
       "      <td>4.5K</td>\n",
       "      <td>18K</td>\n",
       "      <td>3.3M</td>\n",
       "      <td>0.0</td>\n",
       "      <td>taylor swift and travis kelce are reportedly p...</td>\n",
       "    </tr>\n",
       "    <tr>\n",
       "      <th>6</th>\n",
       "      <td>@iluminatibot</td>\n",
       "      <td>2024-01-11T16:24:41.000Z</td>\n",
       "      <td>George Soros owns Taylor Swift’s music but the...</td>\n",
       "      <td>505.0</td>\n",
       "      <td>2.2K</td>\n",
       "      <td>9.3K</td>\n",
       "      <td>723K</td>\n",
       "      <td>0.0</td>\n",
       "      <td>george soros owns taylor swift music but the d...</td>\n",
       "    </tr>\n",
       "    <tr>\n",
       "      <th>7</th>\n",
       "      <td>@hollyhollssss</td>\n",
       "      <td>2024-01-11T04:34:44.000Z</td>\n",
       "      <td>this picture always kills me like taylor swift...</td>\n",
       "      <td>31.0</td>\n",
       "      <td>743</td>\n",
       "      <td>23K</td>\n",
       "      <td>448K</td>\n",
       "      <td>0.0</td>\n",
       "      <td>this picture always kills me like taylor swift...</td>\n",
       "    </tr>\n",
       "    <tr>\n",
       "      <th>8</th>\n",
       "      <td>@FoxNews</td>\n",
       "      <td>2024-01-13T14:21:16.000Z</td>\n",
       "      <td>Tony Dungy says Taylor Swift has 'disenchanted...</td>\n",
       "      <td>394.0</td>\n",
       "      <td>115</td>\n",
       "      <td>739</td>\n",
       "      <td>642K</td>\n",
       "      <td>1.0</td>\n",
       "      <td>tony dungy says taylor swift has disenchanted ...</td>\n",
       "    </tr>\n",
       "    <tr>\n",
       "      <th>9</th>\n",
       "      <td>@evermoresflower</td>\n",
       "      <td>2024-01-12T00:06:46.000Z</td>\n",
       "      <td>\"Taylor Swift-\"\\nMe:</td>\n",
       "      <td>12.0</td>\n",
       "      <td>578</td>\n",
       "      <td>3.4K</td>\n",
       "      <td>59K</td>\n",
       "      <td>0.0</td>\n",
       "      <td>taylor swift me</td>\n",
       "    </tr>\n",
       "  </tbody>\n",
       "</table>\n",
       "</div>"
      ],
      "text/plain": [
       "           UserTags                TimeStamps  \\\n",
       "0     @TedLogan1010  2024-01-13T15:28:21.000Z   \n",
       "1      @hanniiverse  2024-01-13T12:00:55.000Z   \n",
       "2        @nihonggyu  2024-01-13T11:54:00.000Z   \n",
       "3       @tslucygray  2024-01-11T03:25:18.000Z   \n",
       "4       @thesadbaby  2024-01-13T16:15:04.000Z   \n",
       "5         @PopCrave  2024-01-12T16:15:50.000Z   \n",
       "6     @iluminatibot  2024-01-11T16:24:41.000Z   \n",
       "7    @hollyhollssss  2024-01-11T04:34:44.000Z   \n",
       "8          @FoxNews  2024-01-13T14:21:16.000Z   \n",
       "9  @evermoresflower  2024-01-12T00:06:46.000Z   \n",
       "\n",
       "                                              Tweets  Replys reTweets Likes  \\\n",
       "0  We can all agree that Taylor Swift is a witch ...    37.0       60   153   \n",
       "1         JOSHUA IN HIS \"LOVER\" ERA BY TAYLOR SWIFT      4.0     2.3K  7.1K   \n",
       "2  joshua tonight  there’s a taylor swift song he...    30.0     5.5K   15K   \n",
       "3  director said take five but taylor swift heard...    18.0      637  6.9K   \n",
       "4                                      taylor swift.     2.0       63   255   \n",
       "5  Taylor Swift and Travis Kelce are reportedly p...   963.0     4.5K   18K   \n",
       "6  George Soros owns Taylor Swift’s music but the...   505.0     2.2K  9.3K   \n",
       "7  this picture always kills me like taylor swift...    31.0      743   23K   \n",
       "8  Tony Dungy says Taylor Swift has 'disenchanted...   394.0      115   739   \n",
       "9                               \"Taylor Swift-\"\\nMe:    12.0      578  3.4K   \n",
       "\n",
       "  Views  Sentiments                                             Step01  \n",
       "0  5.5K         1.0  we can all agree that taylor swift is witch ri...  \n",
       "1   49K         0.0            joshua in his lover era by taylor swift  \n",
       "2  135K         0.0  joshua tonight there taylor swift song here so...  \n",
       "3  134K         0.0  director said take five but taylor swift heard...  \n",
       "4    8K         0.0                                       taylor swift  \n",
       "5  3.3M         0.0  taylor swift and travis kelce are reportedly p...  \n",
       "6  723K         0.0  george soros owns taylor swift music but the d...  \n",
       "7  448K         0.0  this picture always kills me like taylor swift...  \n",
       "8  642K         1.0  tony dungy says taylor swift has disenchanted ...  \n",
       "9   59K         0.0                                    taylor swift me  "
      ]
     },
     "execution_count": 10,
     "metadata": {},
     "output_type": "execute_result"
    }
   ],
   "source": [
    "df.head(10)"
   ]
  },
  {
   "cell_type": "code",
   "execution_count": 11,
   "id": "53013fed-986c-43ed-8091-6dd3d0f0dc9a",
   "metadata": {},
   "outputs": [],
   "source": [
    "df_hapus = df[~df['Step01'].str.contains(\" \")]"
   ]
  },
  {
   "cell_type": "code",
   "execution_count": 12,
   "id": "ac9a3700-095a-4453-a84a-d86e4cdd0a87",
   "metadata": {},
   "outputs": [],
   "source": [
    "df_new = df[~df.isin(df_hapus)].dropna()"
   ]
  },
  {
   "cell_type": "code",
   "execution_count": 13,
   "id": "f0ac26dd-0faa-414e-8209-480742d1127e",
   "metadata": {},
   "outputs": [
    {
     "name": "stdout",
     "output_type": "stream",
     "text": [
      "<class 'pandas.core.frame.DataFrame'>\n",
      "Index: 49 entries, 0 to 51\n",
      "Data columns (total 9 columns):\n",
      " #   Column      Non-Null Count  Dtype  \n",
      "---  ------      --------------  -----  \n",
      " 0   UserTags    49 non-null     object \n",
      " 1   TimeStamps  49 non-null     object \n",
      " 2   Tweets      49 non-null     object \n",
      " 3   Replys      49 non-null     float64\n",
      " 4   reTweets    49 non-null     object \n",
      " 5   Likes       49 non-null     object \n",
      " 6   Views       49 non-null     object \n",
      " 7   Sentiments  49 non-null     float64\n",
      " 8   Step01      49 non-null     object \n",
      "dtypes: float64(2), object(7)\n",
      "memory usage: 3.8+ KB\n"
     ]
    }
   ],
   "source": [
    "df_new.info()"
   ]
  },
  {
   "cell_type": "code",
   "execution_count": null,
   "id": "8804f226-ef0a-4972-b080-d8fe6a5b9b64",
   "metadata": {},
   "outputs": [],
   "source": [
    "# nltk.download('punkt')"
   ]
  },
  {
   "cell_type": "code",
   "execution_count": 14,
   "id": "67a18298-8bda-4d1b-beac-be84aae67330",
   "metadata": {},
   "outputs": [],
   "source": [
    "# token\n",
    "import nltk\n",
    "from nltk.tokenize import word_tokenize"
   ]
  },
  {
   "cell_type": "code",
   "execution_count": 15,
   "id": "1f27afd9-dcda-4f66-98da-a51afee43121",
   "metadata": {},
   "outputs": [],
   "source": [
    "def word_tokenize_wrapper(text):\n",
    "    return word_tokenize(text)"
   ]
  },
  {
   "cell_type": "code",
   "execution_count": 16,
   "id": "86db603b-5396-47f9-b6ea-d3be12f0003a",
   "metadata": {},
   "outputs": [],
   "source": [
    "df_new['Tokens'] = df['Step01'].apply(word_tokenize_wrapper)"
   ]
  },
  {
   "cell_type": "code",
   "execution_count": 17,
   "id": "5e501ad4-b6a2-4b37-9bb9-39e590bc5027",
   "metadata": {},
   "outputs": [
    {
     "data": {
      "text/html": [
       "<div>\n",
       "<style scoped>\n",
       "    .dataframe tbody tr th:only-of-type {\n",
       "        vertical-align: middle;\n",
       "    }\n",
       "\n",
       "    .dataframe tbody tr th {\n",
       "        vertical-align: top;\n",
       "    }\n",
       "\n",
       "    .dataframe thead th {\n",
       "        text-align: right;\n",
       "    }\n",
       "</style>\n",
       "<table border=\"1\" class=\"dataframe\">\n",
       "  <thead>\n",
       "    <tr style=\"text-align: right;\">\n",
       "      <th></th>\n",
       "      <th>UserTags</th>\n",
       "      <th>TimeStamps</th>\n",
       "      <th>Tweets</th>\n",
       "      <th>Replys</th>\n",
       "      <th>reTweets</th>\n",
       "      <th>Likes</th>\n",
       "      <th>Views</th>\n",
       "      <th>Sentiments</th>\n",
       "      <th>Step01</th>\n",
       "      <th>Tokens</th>\n",
       "    </tr>\n",
       "  </thead>\n",
       "  <tbody>\n",
       "    <tr>\n",
       "      <th>0</th>\n",
       "      <td>@TedLogan1010</td>\n",
       "      <td>2024-01-13T15:28:21.000Z</td>\n",
       "      <td>We can all agree that Taylor Swift is a witch ...</td>\n",
       "      <td>37.0</td>\n",
       "      <td>60</td>\n",
       "      <td>153</td>\n",
       "      <td>5.5K</td>\n",
       "      <td>1.0</td>\n",
       "      <td>we can all agree that taylor swift is witch ri...</td>\n",
       "      <td>[we, can, all, agree, that, taylor, swift, is,...</td>\n",
       "    </tr>\n",
       "    <tr>\n",
       "      <th>1</th>\n",
       "      <td>@hanniiverse</td>\n",
       "      <td>2024-01-13T12:00:55.000Z</td>\n",
       "      <td>JOSHUA IN HIS \"LOVER\" ERA BY TAYLOR SWIFT</td>\n",
       "      <td>4.0</td>\n",
       "      <td>2.3K</td>\n",
       "      <td>7.1K</td>\n",
       "      <td>49K</td>\n",
       "      <td>0.0</td>\n",
       "      <td>joshua in his lover era by taylor swift</td>\n",
       "      <td>[joshua, in, his, lover, era, by, taylor, swift]</td>\n",
       "    </tr>\n",
       "    <tr>\n",
       "      <th>2</th>\n",
       "      <td>@nihonggyu</td>\n",
       "      <td>2024-01-13T11:54:00.000Z</td>\n",
       "      <td>joshua tonight  there’s a taylor swift song he...</td>\n",
       "      <td>30.0</td>\n",
       "      <td>5.5K</td>\n",
       "      <td>15K</td>\n",
       "      <td>135K</td>\n",
       "      <td>0.0</td>\n",
       "      <td>joshua tonight there taylor swift song here so...</td>\n",
       "      <td>[joshua, tonight, there, taylor, swift, song, ...</td>\n",
       "    </tr>\n",
       "    <tr>\n",
       "      <th>3</th>\n",
       "      <td>@tslucygray</td>\n",
       "      <td>2024-01-11T03:25:18.000Z</td>\n",
       "      <td>director said take five but taylor swift heard...</td>\n",
       "      <td>18.0</td>\n",
       "      <td>637</td>\n",
       "      <td>6.9K</td>\n",
       "      <td>134K</td>\n",
       "      <td>0.0</td>\n",
       "      <td>director said take five but taylor swift heard...</td>\n",
       "      <td>[director, said, take, five, but, taylor, swif...</td>\n",
       "    </tr>\n",
       "    <tr>\n",
       "      <th>4</th>\n",
       "      <td>@thesadbaby</td>\n",
       "      <td>2024-01-13T16:15:04.000Z</td>\n",
       "      <td>taylor swift.</td>\n",
       "      <td>2.0</td>\n",
       "      <td>63</td>\n",
       "      <td>255</td>\n",
       "      <td>8K</td>\n",
       "      <td>0.0</td>\n",
       "      <td>taylor swift</td>\n",
       "      <td>[taylor, swift]</td>\n",
       "    </tr>\n",
       "    <tr>\n",
       "      <th>5</th>\n",
       "      <td>@PopCrave</td>\n",
       "      <td>2024-01-12T16:15:50.000Z</td>\n",
       "      <td>Taylor Swift and Travis Kelce are reportedly p...</td>\n",
       "      <td>963.0</td>\n",
       "      <td>4.5K</td>\n",
       "      <td>18K</td>\n",
       "      <td>3.3M</td>\n",
       "      <td>0.0</td>\n",
       "      <td>taylor swift and travis kelce are reportedly p...</td>\n",
       "      <td>[taylor, swift, and, travis, kelce, are, repor...</td>\n",
       "    </tr>\n",
       "    <tr>\n",
       "      <th>6</th>\n",
       "      <td>@iluminatibot</td>\n",
       "      <td>2024-01-11T16:24:41.000Z</td>\n",
       "      <td>George Soros owns Taylor Swift’s music but the...</td>\n",
       "      <td>505.0</td>\n",
       "      <td>2.2K</td>\n",
       "      <td>9.3K</td>\n",
       "      <td>723K</td>\n",
       "      <td>0.0</td>\n",
       "      <td>george soros owns taylor swift music but the d...</td>\n",
       "      <td>[george, soros, owns, taylor, swift, music, bu...</td>\n",
       "    </tr>\n",
       "    <tr>\n",
       "      <th>7</th>\n",
       "      <td>@hollyhollssss</td>\n",
       "      <td>2024-01-11T04:34:44.000Z</td>\n",
       "      <td>this picture always kills me like taylor swift...</td>\n",
       "      <td>31.0</td>\n",
       "      <td>743</td>\n",
       "      <td>23K</td>\n",
       "      <td>448K</td>\n",
       "      <td>0.0</td>\n",
       "      <td>this picture always kills me like taylor swift...</td>\n",
       "      <td>[this, picture, always, kills, me, like, taylo...</td>\n",
       "    </tr>\n",
       "    <tr>\n",
       "      <th>8</th>\n",
       "      <td>@FoxNews</td>\n",
       "      <td>2024-01-13T14:21:16.000Z</td>\n",
       "      <td>Tony Dungy says Taylor Swift has 'disenchanted...</td>\n",
       "      <td>394.0</td>\n",
       "      <td>115</td>\n",
       "      <td>739</td>\n",
       "      <td>642K</td>\n",
       "      <td>1.0</td>\n",
       "      <td>tony dungy says taylor swift has disenchanted ...</td>\n",
       "      <td>[tony, dungy, says, taylor, swift, has, disenc...</td>\n",
       "    </tr>\n",
       "    <tr>\n",
       "      <th>9</th>\n",
       "      <td>@evermoresflower</td>\n",
       "      <td>2024-01-12T00:06:46.000Z</td>\n",
       "      <td>\"Taylor Swift-\"\\nMe:</td>\n",
       "      <td>12.0</td>\n",
       "      <td>578</td>\n",
       "      <td>3.4K</td>\n",
       "      <td>59K</td>\n",
       "      <td>0.0</td>\n",
       "      <td>taylor swift me</td>\n",
       "      <td>[taylor, swift, me]</td>\n",
       "    </tr>\n",
       "  </tbody>\n",
       "</table>\n",
       "</div>"
      ],
      "text/plain": [
       "           UserTags                TimeStamps  \\\n",
       "0     @TedLogan1010  2024-01-13T15:28:21.000Z   \n",
       "1      @hanniiverse  2024-01-13T12:00:55.000Z   \n",
       "2        @nihonggyu  2024-01-13T11:54:00.000Z   \n",
       "3       @tslucygray  2024-01-11T03:25:18.000Z   \n",
       "4       @thesadbaby  2024-01-13T16:15:04.000Z   \n",
       "5         @PopCrave  2024-01-12T16:15:50.000Z   \n",
       "6     @iluminatibot  2024-01-11T16:24:41.000Z   \n",
       "7    @hollyhollssss  2024-01-11T04:34:44.000Z   \n",
       "8          @FoxNews  2024-01-13T14:21:16.000Z   \n",
       "9  @evermoresflower  2024-01-12T00:06:46.000Z   \n",
       "\n",
       "                                              Tweets  Replys reTweets Likes  \\\n",
       "0  We can all agree that Taylor Swift is a witch ...    37.0       60   153   \n",
       "1         JOSHUA IN HIS \"LOVER\" ERA BY TAYLOR SWIFT      4.0     2.3K  7.1K   \n",
       "2  joshua tonight  there’s a taylor swift song he...    30.0     5.5K   15K   \n",
       "3  director said take five but taylor swift heard...    18.0      637  6.9K   \n",
       "4                                      taylor swift.     2.0       63   255   \n",
       "5  Taylor Swift and Travis Kelce are reportedly p...   963.0     4.5K   18K   \n",
       "6  George Soros owns Taylor Swift’s music but the...   505.0     2.2K  9.3K   \n",
       "7  this picture always kills me like taylor swift...    31.0      743   23K   \n",
       "8  Tony Dungy says Taylor Swift has 'disenchanted...   394.0      115   739   \n",
       "9                               \"Taylor Swift-\"\\nMe:    12.0      578  3.4K   \n",
       "\n",
       "  Views  Sentiments                                             Step01  \\\n",
       "0  5.5K         1.0  we can all agree that taylor swift is witch ri...   \n",
       "1   49K         0.0            joshua in his lover era by taylor swift   \n",
       "2  135K         0.0  joshua tonight there taylor swift song here so...   \n",
       "3  134K         0.0  director said take five but taylor swift heard...   \n",
       "4    8K         0.0                                       taylor swift   \n",
       "5  3.3M         0.0  taylor swift and travis kelce are reportedly p...   \n",
       "6  723K         0.0  george soros owns taylor swift music but the d...   \n",
       "7  448K         0.0  this picture always kills me like taylor swift...   \n",
       "8  642K         1.0  tony dungy says taylor swift has disenchanted ...   \n",
       "9   59K         0.0                                    taylor swift me   \n",
       "\n",
       "                                              Tokens  \n",
       "0  [we, can, all, agree, that, taylor, swift, is,...  \n",
       "1   [joshua, in, his, lover, era, by, taylor, swift]  \n",
       "2  [joshua, tonight, there, taylor, swift, song, ...  \n",
       "3  [director, said, take, five, but, taylor, swif...  \n",
       "4                                    [taylor, swift]  \n",
       "5  [taylor, swift, and, travis, kelce, are, repor...  \n",
       "6  [george, soros, owns, taylor, swift, music, bu...  \n",
       "7  [this, picture, always, kills, me, like, taylo...  \n",
       "8  [tony, dungy, says, taylor, swift, has, disenc...  \n",
       "9                                [taylor, swift, me]  "
      ]
     },
     "execution_count": 17,
     "metadata": {},
     "output_type": "execute_result"
    }
   ],
   "source": [
    "df_new.head(10)"
   ]
  },
  {
   "cell_type": "code",
   "execution_count": null,
   "id": "85684122-3275-4e4f-982d-8a17cde801ed",
   "metadata": {},
   "outputs": [],
   "source": [
    "# normalized_word = pd.read_csv('kamus_alzami_clean.csv', sep=\",\")\n",
    "\n",
    "# normalized_word_dict = {}\n",
    "\n",
    "# for index, row in normalized_word.iterrows():\n",
    "#     if row[0] not in normalized_word_dict:\n",
    "#         normalized_word_dict[row[0]] = row[1]\n",
    "\n",
    "# def normalized_term(document):\n",
    "#     return [normalized_word_dict[term] if term in normalized_word_dict else term for term in document]"
   ]
  },
  {
   "cell_type": "code",
   "execution_count": null,
   "id": "566713dc-92dc-4e9d-a823-6772c1c6eb16",
   "metadata": {},
   "outputs": [],
   "source": [
    "# df_new['final_tokens'] = df_new['tokens'].apply(normalized_term)"
   ]
  },
  {
   "cell_type": "code",
   "execution_count": null,
   "id": "1133096c-59c3-460e-8fd6-e206cba22c76",
   "metadata": {},
   "outputs": [],
   "source": [
    "# i=0\n",
    "# final_string_tokens = []\n",
    "# for text in df_new['final_tokens'].values:\n",
    "#     EachReviewText = \"\"\n",
    "#     EachReviewText = ' '.join(text)\n",
    "#     final_string_tokens.append(EachReviewText)"
   ]
  },
  {
   "cell_type": "code",
   "execution_count": null,
   "id": "fc743e0d-d51a-482a-9855-397e6f1c9026",
   "metadata": {},
   "outputs": [],
   "source": [
    "# df_new[\"step02\"] = final_string_tokens"
   ]
  },
  {
   "cell_type": "code",
   "execution_count": 18,
   "id": "98c1477e-cffc-40fe-b79a-7d54e2b8b7ba",
   "metadata": {},
   "outputs": [
    {
     "data": {
      "text/html": [
       "<div>\n",
       "<style scoped>\n",
       "    .dataframe tbody tr th:only-of-type {\n",
       "        vertical-align: middle;\n",
       "    }\n",
       "\n",
       "    .dataframe tbody tr th {\n",
       "        vertical-align: top;\n",
       "    }\n",
       "\n",
       "    .dataframe thead th {\n",
       "        text-align: right;\n",
       "    }\n",
       "</style>\n",
       "<table border=\"1\" class=\"dataframe\">\n",
       "  <thead>\n",
       "    <tr style=\"text-align: right;\">\n",
       "      <th></th>\n",
       "      <th>UserTags</th>\n",
       "      <th>TimeStamps</th>\n",
       "      <th>Tweets</th>\n",
       "      <th>Replys</th>\n",
       "      <th>reTweets</th>\n",
       "      <th>Likes</th>\n",
       "      <th>Views</th>\n",
       "      <th>Sentiments</th>\n",
       "      <th>Step01</th>\n",
       "      <th>Tokens</th>\n",
       "    </tr>\n",
       "  </thead>\n",
       "  <tbody>\n",
       "    <tr>\n",
       "      <th>0</th>\n",
       "      <td>@TedLogan1010</td>\n",
       "      <td>2024-01-13T15:28:21.000Z</td>\n",
       "      <td>We can all agree that Taylor Swift is a witch ...</td>\n",
       "      <td>37.0</td>\n",
       "      <td>60</td>\n",
       "      <td>153</td>\n",
       "      <td>5.5K</td>\n",
       "      <td>1.0</td>\n",
       "      <td>we can all agree that taylor swift is witch ri...</td>\n",
       "      <td>[we, can, all, agree, that, taylor, swift, is,...</td>\n",
       "    </tr>\n",
       "    <tr>\n",
       "      <th>1</th>\n",
       "      <td>@hanniiverse</td>\n",
       "      <td>2024-01-13T12:00:55.000Z</td>\n",
       "      <td>JOSHUA IN HIS \"LOVER\" ERA BY TAYLOR SWIFT</td>\n",
       "      <td>4.0</td>\n",
       "      <td>2.3K</td>\n",
       "      <td>7.1K</td>\n",
       "      <td>49K</td>\n",
       "      <td>0.0</td>\n",
       "      <td>joshua in his lover era by taylor swift</td>\n",
       "      <td>[joshua, in, his, lover, era, by, taylor, swift]</td>\n",
       "    </tr>\n",
       "    <tr>\n",
       "      <th>2</th>\n",
       "      <td>@nihonggyu</td>\n",
       "      <td>2024-01-13T11:54:00.000Z</td>\n",
       "      <td>joshua tonight  there’s a taylor swift song he...</td>\n",
       "      <td>30.0</td>\n",
       "      <td>5.5K</td>\n",
       "      <td>15K</td>\n",
       "      <td>135K</td>\n",
       "      <td>0.0</td>\n",
       "      <td>joshua tonight there taylor swift song here so...</td>\n",
       "      <td>[joshua, tonight, there, taylor, swift, song, ...</td>\n",
       "    </tr>\n",
       "    <tr>\n",
       "      <th>3</th>\n",
       "      <td>@tslucygray</td>\n",
       "      <td>2024-01-11T03:25:18.000Z</td>\n",
       "      <td>director said take five but taylor swift heard...</td>\n",
       "      <td>18.0</td>\n",
       "      <td>637</td>\n",
       "      <td>6.9K</td>\n",
       "      <td>134K</td>\n",
       "      <td>0.0</td>\n",
       "      <td>director said take five but taylor swift heard...</td>\n",
       "      <td>[director, said, take, five, but, taylor, swif...</td>\n",
       "    </tr>\n",
       "    <tr>\n",
       "      <th>4</th>\n",
       "      <td>@thesadbaby</td>\n",
       "      <td>2024-01-13T16:15:04.000Z</td>\n",
       "      <td>taylor swift.</td>\n",
       "      <td>2.0</td>\n",
       "      <td>63</td>\n",
       "      <td>255</td>\n",
       "      <td>8K</td>\n",
       "      <td>0.0</td>\n",
       "      <td>taylor swift</td>\n",
       "      <td>[taylor, swift]</td>\n",
       "    </tr>\n",
       "    <tr>\n",
       "      <th>5</th>\n",
       "      <td>@PopCrave</td>\n",
       "      <td>2024-01-12T16:15:50.000Z</td>\n",
       "      <td>Taylor Swift and Travis Kelce are reportedly p...</td>\n",
       "      <td>963.0</td>\n",
       "      <td>4.5K</td>\n",
       "      <td>18K</td>\n",
       "      <td>3.3M</td>\n",
       "      <td>0.0</td>\n",
       "      <td>taylor swift and travis kelce are reportedly p...</td>\n",
       "      <td>[taylor, swift, and, travis, kelce, are, repor...</td>\n",
       "    </tr>\n",
       "    <tr>\n",
       "      <th>6</th>\n",
       "      <td>@iluminatibot</td>\n",
       "      <td>2024-01-11T16:24:41.000Z</td>\n",
       "      <td>George Soros owns Taylor Swift’s music but the...</td>\n",
       "      <td>505.0</td>\n",
       "      <td>2.2K</td>\n",
       "      <td>9.3K</td>\n",
       "      <td>723K</td>\n",
       "      <td>0.0</td>\n",
       "      <td>george soros owns taylor swift music but the d...</td>\n",
       "      <td>[george, soros, owns, taylor, swift, music, bu...</td>\n",
       "    </tr>\n",
       "    <tr>\n",
       "      <th>7</th>\n",
       "      <td>@hollyhollssss</td>\n",
       "      <td>2024-01-11T04:34:44.000Z</td>\n",
       "      <td>this picture always kills me like taylor swift...</td>\n",
       "      <td>31.0</td>\n",
       "      <td>743</td>\n",
       "      <td>23K</td>\n",
       "      <td>448K</td>\n",
       "      <td>0.0</td>\n",
       "      <td>this picture always kills me like taylor swift...</td>\n",
       "      <td>[this, picture, always, kills, me, like, taylo...</td>\n",
       "    </tr>\n",
       "    <tr>\n",
       "      <th>8</th>\n",
       "      <td>@FoxNews</td>\n",
       "      <td>2024-01-13T14:21:16.000Z</td>\n",
       "      <td>Tony Dungy says Taylor Swift has 'disenchanted...</td>\n",
       "      <td>394.0</td>\n",
       "      <td>115</td>\n",
       "      <td>739</td>\n",
       "      <td>642K</td>\n",
       "      <td>1.0</td>\n",
       "      <td>tony dungy says taylor swift has disenchanted ...</td>\n",
       "      <td>[tony, dungy, says, taylor, swift, has, disenc...</td>\n",
       "    </tr>\n",
       "    <tr>\n",
       "      <th>9</th>\n",
       "      <td>@evermoresflower</td>\n",
       "      <td>2024-01-12T00:06:46.000Z</td>\n",
       "      <td>\"Taylor Swift-\"\\nMe:</td>\n",
       "      <td>12.0</td>\n",
       "      <td>578</td>\n",
       "      <td>3.4K</td>\n",
       "      <td>59K</td>\n",
       "      <td>0.0</td>\n",
       "      <td>taylor swift me</td>\n",
       "      <td>[taylor, swift, me]</td>\n",
       "    </tr>\n",
       "  </tbody>\n",
       "</table>\n",
       "</div>"
      ],
      "text/plain": [
       "           UserTags                TimeStamps  \\\n",
       "0     @TedLogan1010  2024-01-13T15:28:21.000Z   \n",
       "1      @hanniiverse  2024-01-13T12:00:55.000Z   \n",
       "2        @nihonggyu  2024-01-13T11:54:00.000Z   \n",
       "3       @tslucygray  2024-01-11T03:25:18.000Z   \n",
       "4       @thesadbaby  2024-01-13T16:15:04.000Z   \n",
       "5         @PopCrave  2024-01-12T16:15:50.000Z   \n",
       "6     @iluminatibot  2024-01-11T16:24:41.000Z   \n",
       "7    @hollyhollssss  2024-01-11T04:34:44.000Z   \n",
       "8          @FoxNews  2024-01-13T14:21:16.000Z   \n",
       "9  @evermoresflower  2024-01-12T00:06:46.000Z   \n",
       "\n",
       "                                              Tweets  Replys reTweets Likes  \\\n",
       "0  We can all agree that Taylor Swift is a witch ...    37.0       60   153   \n",
       "1         JOSHUA IN HIS \"LOVER\" ERA BY TAYLOR SWIFT      4.0     2.3K  7.1K   \n",
       "2  joshua tonight  there’s a taylor swift song he...    30.0     5.5K   15K   \n",
       "3  director said take five but taylor swift heard...    18.0      637  6.9K   \n",
       "4                                      taylor swift.     2.0       63   255   \n",
       "5  Taylor Swift and Travis Kelce are reportedly p...   963.0     4.5K   18K   \n",
       "6  George Soros owns Taylor Swift’s music but the...   505.0     2.2K  9.3K   \n",
       "7  this picture always kills me like taylor swift...    31.0      743   23K   \n",
       "8  Tony Dungy says Taylor Swift has 'disenchanted...   394.0      115   739   \n",
       "9                               \"Taylor Swift-\"\\nMe:    12.0      578  3.4K   \n",
       "\n",
       "  Views  Sentiments                                             Step01  \\\n",
       "0  5.5K         1.0  we can all agree that taylor swift is witch ri...   \n",
       "1   49K         0.0            joshua in his lover era by taylor swift   \n",
       "2  135K         0.0  joshua tonight there taylor swift song here so...   \n",
       "3  134K         0.0  director said take five but taylor swift heard...   \n",
       "4    8K         0.0                                       taylor swift   \n",
       "5  3.3M         0.0  taylor swift and travis kelce are reportedly p...   \n",
       "6  723K         0.0  george soros owns taylor swift music but the d...   \n",
       "7  448K         0.0  this picture always kills me like taylor swift...   \n",
       "8  642K         1.0  tony dungy says taylor swift has disenchanted ...   \n",
       "9   59K         0.0                                    taylor swift me   \n",
       "\n",
       "                                              Tokens  \n",
       "0  [we, can, all, agree, that, taylor, swift, is,...  \n",
       "1   [joshua, in, his, lover, era, by, taylor, swift]  \n",
       "2  [joshua, tonight, there, taylor, swift, song, ...  \n",
       "3  [director, said, take, five, but, taylor, swif...  \n",
       "4                                    [taylor, swift]  \n",
       "5  [taylor, swift, and, travis, kelce, are, repor...  \n",
       "6  [george, soros, owns, taylor, swift, music, bu...  \n",
       "7  [this, picture, always, kills, me, like, taylo...  \n",
       "8  [tony, dungy, says, taylor, swift, has, disenc...  \n",
       "9                                [taylor, swift, me]  "
      ]
     },
     "execution_count": 18,
     "metadata": {},
     "output_type": "execute_result"
    }
   ],
   "source": [
    "df_new.head(10)"
   ]
  },
  {
   "cell_type": "code",
   "execution_count": 19,
   "id": "7b10a126-ac99-4cb1-99a5-b4988ec398d6",
   "metadata": {},
   "outputs": [],
   "source": [
    "df_new.to_csv('clean_dataset_part01_F12.2023.00108.csv',sep=\";\")"
   ]
  },
  {
   "cell_type": "code",
   "execution_count": null,
   "id": "86d7a312-49d0-49ce-87c7-9b5f92c8327a",
   "metadata": {},
   "outputs": [],
   "source": [
    "# !pip install Sastrawi"
   ]
  },
  {
   "cell_type": "code",
   "execution_count": 20,
   "id": "a55cebf1-ffca-4923-9ad0-353a3164f533",
   "metadata": {},
   "outputs": [],
   "source": [
    "# stem\n",
    "from nltk.stem import SnowballStemmer\n",
    "stemmer = SnowballStemmer('english') # Menggunakan SnowballStemmer karena mayoritas data berbahasa Inggris"
   ]
  },
  {
   "cell_type": "code",
   "execution_count": null,
   "id": "a968f3b9-5bd4-4903-962e-a758b5ff49af",
   "metadata": {},
   "outputs": [],
   "source": [
    "# nltk.download('stopwords')"
   ]
  },
  {
   "cell_type": "code",
   "execution_count": 21,
   "id": "0f2b9b44-d297-459f-bb36-3e34a6e8ff9c",
   "metadata": {},
   "outputs": [],
   "source": [
    "# stopword\n",
    "from nltk.corpus import stopwords\n",
    "stop = stopwords.words('english') # Menggunakan nltk stopwords karena mayoritas data berbahasa Inggris"
   ]
  },
  {
   "cell_type": "code",
   "execution_count": 20,
   "id": "acde03f6-d546-46dc-af98-e6e6f4d394a6",
   "metadata": {},
   "outputs": [],
   "source": [
    "# from Sastrawi.Stemmer.StemmerFactory import StemmerFactory\n",
    "# factory = StemmerFactory()\n",
    "# stemmer = factory.create_stemmer()"
   ]
  },
  {
   "cell_type": "code",
   "execution_count": 21,
   "id": "bb1dec1d-13e5-410c-9086-e2961e499313",
   "metadata": {},
   "outputs": [],
   "source": [
    "# from Sastrawi.StopWordRemover.StopWordRemoverFactory import StopWordRemoverFactory\n",
    "\n",
    "# factory = StopWordRemoverFactory()\n",
    "\n",
    "# more_stopword = ['sih', 'nya','rt','loh','lah', 'dd', 'mah', 'nye', 'eh', 'ehh', 'ah', 'yang']\n",
    "\n",
    "# # Tambahkan Stopword Baru\n",
    "# data = factory.get_stop_words()+more_stopword\n",
    "\n",
    "# stopwords_sastrawi = factory.create_stop_word_remover()"
   ]
  },
  {
   "cell_type": "code",
   "execution_count": 22,
   "id": "5c34539b-1ca9-45a8-b19e-903c33d91f9c",
   "metadata": {},
   "outputs": [],
   "source": [
    "df_new['Stem'] = df_new['Tokens'].apply(lambda words : [stemmer.stem(word) for word in words])"
   ]
  },
  {
   "cell_type": "code",
   "execution_count": 23,
   "id": "5558145e-f928-4223-9a3a-4c100f331a27",
   "metadata": {},
   "outputs": [
    {
     "data": {
      "text/html": [
       "<div>\n",
       "<style scoped>\n",
       "    .dataframe tbody tr th:only-of-type {\n",
       "        vertical-align: middle;\n",
       "    }\n",
       "\n",
       "    .dataframe tbody tr th {\n",
       "        vertical-align: top;\n",
       "    }\n",
       "\n",
       "    .dataframe thead th {\n",
       "        text-align: right;\n",
       "    }\n",
       "</style>\n",
       "<table border=\"1\" class=\"dataframe\">\n",
       "  <thead>\n",
       "    <tr style=\"text-align: right;\">\n",
       "      <th></th>\n",
       "      <th>UserTags</th>\n",
       "      <th>TimeStamps</th>\n",
       "      <th>Tweets</th>\n",
       "      <th>Replys</th>\n",
       "      <th>reTweets</th>\n",
       "      <th>Likes</th>\n",
       "      <th>Views</th>\n",
       "      <th>Sentiments</th>\n",
       "      <th>Step01</th>\n",
       "      <th>Tokens</th>\n",
       "      <th>Stem</th>\n",
       "    </tr>\n",
       "  </thead>\n",
       "  <tbody>\n",
       "    <tr>\n",
       "      <th>0</th>\n",
       "      <td>@TedLogan1010</td>\n",
       "      <td>2024-01-13T15:28:21.000Z</td>\n",
       "      <td>We can all agree that Taylor Swift is a witch ...</td>\n",
       "      <td>37.0</td>\n",
       "      <td>60</td>\n",
       "      <td>153</td>\n",
       "      <td>5.5K</td>\n",
       "      <td>1.0</td>\n",
       "      <td>we can all agree that taylor swift is witch ri...</td>\n",
       "      <td>[we, can, all, agree, that, taylor, swift, is,...</td>\n",
       "      <td>[we, can, all, agre, that, taylor, swift, is, ...</td>\n",
       "    </tr>\n",
       "    <tr>\n",
       "      <th>1</th>\n",
       "      <td>@hanniiverse</td>\n",
       "      <td>2024-01-13T12:00:55.000Z</td>\n",
       "      <td>JOSHUA IN HIS \"LOVER\" ERA BY TAYLOR SWIFT</td>\n",
       "      <td>4.0</td>\n",
       "      <td>2.3K</td>\n",
       "      <td>7.1K</td>\n",
       "      <td>49K</td>\n",
       "      <td>0.0</td>\n",
       "      <td>joshua in his lover era by taylor swift</td>\n",
       "      <td>[joshua, in, his, lover, era, by, taylor, swift]</td>\n",
       "      <td>[joshua, in, his, lover, era, by, taylor, swift]</td>\n",
       "    </tr>\n",
       "    <tr>\n",
       "      <th>2</th>\n",
       "      <td>@nihonggyu</td>\n",
       "      <td>2024-01-13T11:54:00.000Z</td>\n",
       "      <td>joshua tonight  there’s a taylor swift song he...</td>\n",
       "      <td>30.0</td>\n",
       "      <td>5.5K</td>\n",
       "      <td>15K</td>\n",
       "      <td>135K</td>\n",
       "      <td>0.0</td>\n",
       "      <td>joshua tonight there taylor swift song here so...</td>\n",
       "      <td>[joshua, tonight, there, taylor, swift, song, ...</td>\n",
       "      <td>[joshua, tonight, there, taylor, swift, song, ...</td>\n",
       "    </tr>\n",
       "    <tr>\n",
       "      <th>3</th>\n",
       "      <td>@tslucygray</td>\n",
       "      <td>2024-01-11T03:25:18.000Z</td>\n",
       "      <td>director said take five but taylor swift heard...</td>\n",
       "      <td>18.0</td>\n",
       "      <td>637</td>\n",
       "      <td>6.9K</td>\n",
       "      <td>134K</td>\n",
       "      <td>0.0</td>\n",
       "      <td>director said take five but taylor swift heard...</td>\n",
       "      <td>[director, said, take, five, but, taylor, swif...</td>\n",
       "      <td>[director, said, take, five, but, taylor, swif...</td>\n",
       "    </tr>\n",
       "    <tr>\n",
       "      <th>4</th>\n",
       "      <td>@thesadbaby</td>\n",
       "      <td>2024-01-13T16:15:04.000Z</td>\n",
       "      <td>taylor swift.</td>\n",
       "      <td>2.0</td>\n",
       "      <td>63</td>\n",
       "      <td>255</td>\n",
       "      <td>8K</td>\n",
       "      <td>0.0</td>\n",
       "      <td>taylor swift</td>\n",
       "      <td>[taylor, swift]</td>\n",
       "      <td>[taylor, swift]</td>\n",
       "    </tr>\n",
       "  </tbody>\n",
       "</table>\n",
       "</div>"
      ],
      "text/plain": [
       "        UserTags                TimeStamps  \\\n",
       "0  @TedLogan1010  2024-01-13T15:28:21.000Z   \n",
       "1   @hanniiverse  2024-01-13T12:00:55.000Z   \n",
       "2     @nihonggyu  2024-01-13T11:54:00.000Z   \n",
       "3    @tslucygray  2024-01-11T03:25:18.000Z   \n",
       "4    @thesadbaby  2024-01-13T16:15:04.000Z   \n",
       "\n",
       "                                              Tweets  Replys reTweets Likes  \\\n",
       "0  We can all agree that Taylor Swift is a witch ...    37.0       60   153   \n",
       "1         JOSHUA IN HIS \"LOVER\" ERA BY TAYLOR SWIFT      4.0     2.3K  7.1K   \n",
       "2  joshua tonight  there’s a taylor swift song he...    30.0     5.5K   15K   \n",
       "3  director said take five but taylor swift heard...    18.0      637  6.9K   \n",
       "4                                      taylor swift.     2.0       63   255   \n",
       "\n",
       "  Views  Sentiments                                             Step01  \\\n",
       "0  5.5K         1.0  we can all agree that taylor swift is witch ri...   \n",
       "1   49K         0.0            joshua in his lover era by taylor swift   \n",
       "2  135K         0.0  joshua tonight there taylor swift song here so...   \n",
       "3  134K         0.0  director said take five but taylor swift heard...   \n",
       "4    8K         0.0                                       taylor swift   \n",
       "\n",
       "                                              Tokens  \\\n",
       "0  [we, can, all, agree, that, taylor, swift, is,...   \n",
       "1   [joshua, in, his, lover, era, by, taylor, swift]   \n",
       "2  [joshua, tonight, there, taylor, swift, song, ...   \n",
       "3  [director, said, take, five, but, taylor, swif...   \n",
       "4                                    [taylor, swift]   \n",
       "\n",
       "                                                Stem  \n",
       "0  [we, can, all, agre, that, taylor, swift, is, ...  \n",
       "1   [joshua, in, his, lover, era, by, taylor, swift]  \n",
       "2  [joshua, tonight, there, taylor, swift, song, ...  \n",
       "3  [director, said, take, five, but, taylor, swif...  \n",
       "4                                    [taylor, swift]  "
      ]
     },
     "execution_count": 23,
     "metadata": {},
     "output_type": "execute_result"
    }
   ],
   "source": [
    "df_new.head()"
   ]
  },
  {
   "cell_type": "code",
   "execution_count": 24,
   "id": "edf73f28-c2e3-4852-87b6-ebab65cbe45f",
   "metadata": {},
   "outputs": [],
   "source": [
    "i=0\n",
    "final_string_tokens = []\n",
    "for text in df_new['Stem'].values:\n",
    "    EachReviewText = \"\"\n",
    "    EachReviewText = ' '.join(text)\n",
    "    final_string_tokens.append(EachReviewText)"
   ]
  },
  {
   "cell_type": "code",
   "execution_count": 25,
   "id": "b18c4680-ee23-445c-84c8-ef1ccfbed66a",
   "metadata": {},
   "outputs": [],
   "source": [
    "df_new['Step02'] = final_string_tokens"
   ]
  },
  {
   "cell_type": "code",
   "execution_count": 26,
   "id": "7c6decc9-85cf-4900-93ba-f1b3379bc33e",
   "metadata": {},
   "outputs": [],
   "source": [
    "df_new['Step02'] = df_new['Step02'].apply(str)"
   ]
  },
  {
   "cell_type": "code",
   "execution_count": 27,
   "id": "7ca9e4bb-1aa9-4dcf-bdec-d96ad7246b91",
   "metadata": {},
   "outputs": [],
   "source": [
    "df_new['ProcessedText'] = df_new['Step02'].apply(lambda words : [word for word in words.split() if word not in (stop)])"
   ]
  },
  {
   "cell_type": "code",
   "execution_count": 28,
   "id": "d994d1dc-56db-4009-b4e0-893bbfc5df41",
   "metadata": {},
   "outputs": [],
   "source": [
    "i=0\n",
    "final_string_tokens = []\n",
    "for text in df_new['ProcessedText'].values:\n",
    "    EachReviewText = \"\"\n",
    "    EachReviewText = ' '.join(text)\n",
    "    final_string_tokens.append(EachReviewText)"
   ]
  },
  {
   "cell_type": "code",
   "execution_count": 29,
   "id": "fb5ddbc7-9815-4468-8541-9b7c107cf975",
   "metadata": {},
   "outputs": [],
   "source": [
    "df_new['ProcessedText'] = final_string_tokens"
   ]
  },
  {
   "cell_type": "code",
   "execution_count": 24,
   "id": "8afd5d88-8c83-4e34-a54e-fbf16abd5795",
   "metadata": {},
   "outputs": [],
   "source": [
    "# i=0\n",
    "# final_string = []\n",
    "# s = \"\"\n",
    "# for sentence in df_new[\"step01\"].values:\n",
    "#     filteredSentence = []\n",
    "#     EachReviewText = \"\"\n",
    "#     st = stopwords_sastrawi.remove(sentence)\n",
    "#     s = (stemmer.stem(st))\n",
    "#     filteredSentence.append(s)\n",
    "    \n",
    "#     EachReviewText = ' '.join(filteredSentence)\n",
    "#     final_string.append(EachReviewText)"
   ]
  },
  {
   "cell_type": "code",
   "execution_count": 25,
   "id": "7c6cfdc7-c748-470f-a095-a98fbfb3ddda",
   "metadata": {},
   "outputs": [],
   "source": [
    "# df_new.loc[:, ('ProcessedText')] = final_string"
   ]
  },
  {
   "cell_type": "code",
   "execution_count": 30,
   "id": "f9843c8a-2be5-471e-b291-fca74f0384b0",
   "metadata": {},
   "outputs": [
    {
     "data": {
      "text/html": [
       "<div>\n",
       "<style scoped>\n",
       "    .dataframe tbody tr th:only-of-type {\n",
       "        vertical-align: middle;\n",
       "    }\n",
       "\n",
       "    .dataframe tbody tr th {\n",
       "        vertical-align: top;\n",
       "    }\n",
       "\n",
       "    .dataframe thead th {\n",
       "        text-align: right;\n",
       "    }\n",
       "</style>\n",
       "<table border=\"1\" class=\"dataframe\">\n",
       "  <thead>\n",
       "    <tr style=\"text-align: right;\">\n",
       "      <th></th>\n",
       "      <th>UserTags</th>\n",
       "      <th>TimeStamps</th>\n",
       "      <th>Tweets</th>\n",
       "      <th>Replys</th>\n",
       "      <th>reTweets</th>\n",
       "      <th>Likes</th>\n",
       "      <th>Views</th>\n",
       "      <th>Sentiments</th>\n",
       "      <th>Step01</th>\n",
       "      <th>Tokens</th>\n",
       "      <th>Stem</th>\n",
       "      <th>Step02</th>\n",
       "      <th>ProcessedText</th>\n",
       "    </tr>\n",
       "  </thead>\n",
       "  <tbody>\n",
       "    <tr>\n",
       "      <th>0</th>\n",
       "      <td>@TedLogan1010</td>\n",
       "      <td>2024-01-13T15:28:21.000Z</td>\n",
       "      <td>We can all agree that Taylor Swift is a witch ...</td>\n",
       "      <td>37.0</td>\n",
       "      <td>60</td>\n",
       "      <td>153</td>\n",
       "      <td>5.5K</td>\n",
       "      <td>1.0</td>\n",
       "      <td>we can all agree that taylor swift is witch ri...</td>\n",
       "      <td>[we, can, all, agree, that, taylor, swift, is,...</td>\n",
       "      <td>[we, can, all, agre, that, taylor, swift, is, ...</td>\n",
       "      <td>we can all agre that taylor swift is witch rig...</td>\n",
       "      <td>agre taylor swift witch right mean pretti obvi...</td>\n",
       "    </tr>\n",
       "    <tr>\n",
       "      <th>1</th>\n",
       "      <td>@hanniiverse</td>\n",
       "      <td>2024-01-13T12:00:55.000Z</td>\n",
       "      <td>JOSHUA IN HIS \"LOVER\" ERA BY TAYLOR SWIFT</td>\n",
       "      <td>4.0</td>\n",
       "      <td>2.3K</td>\n",
       "      <td>7.1K</td>\n",
       "      <td>49K</td>\n",
       "      <td>0.0</td>\n",
       "      <td>joshua in his lover era by taylor swift</td>\n",
       "      <td>[joshua, in, his, lover, era, by, taylor, swift]</td>\n",
       "      <td>[joshua, in, his, lover, era, by, taylor, swift]</td>\n",
       "      <td>joshua in his lover era by taylor swift</td>\n",
       "      <td>joshua lover era taylor swift</td>\n",
       "    </tr>\n",
       "    <tr>\n",
       "      <th>2</th>\n",
       "      <td>@nihonggyu</td>\n",
       "      <td>2024-01-13T11:54:00.000Z</td>\n",
       "      <td>joshua tonight  there’s a taylor swift song he...</td>\n",
       "      <td>30.0</td>\n",
       "      <td>5.5K</td>\n",
       "      <td>15K</td>\n",
       "      <td>135K</td>\n",
       "      <td>0.0</td>\n",
       "      <td>joshua tonight there taylor swift song here so...</td>\n",
       "      <td>[joshua, tonight, there, taylor, swift, song, ...</td>\n",
       "      <td>[joshua, tonight, there, taylor, swift, song, ...</td>\n",
       "      <td>joshua tonight there taylor swift song here so...</td>\n",
       "      <td>joshua tonight taylor swift song somewher</td>\n",
       "    </tr>\n",
       "    <tr>\n",
       "      <th>3</th>\n",
       "      <td>@tslucygray</td>\n",
       "      <td>2024-01-11T03:25:18.000Z</td>\n",
       "      <td>director said take five but taylor swift heard...</td>\n",
       "      <td>18.0</td>\n",
       "      <td>637</td>\n",
       "      <td>6.9K</td>\n",
       "      <td>134K</td>\n",
       "      <td>0.0</td>\n",
       "      <td>director said take five but taylor swift heard...</td>\n",
       "      <td>[director, said, take, five, but, taylor, swif...</td>\n",
       "      <td>[director, said, take, five, but, taylor, swif...</td>\n",
       "      <td>director said take five but taylor swift heard...</td>\n",
       "      <td>director said take five taylor swift heard cha...</td>\n",
       "    </tr>\n",
       "    <tr>\n",
       "      <th>4</th>\n",
       "      <td>@thesadbaby</td>\n",
       "      <td>2024-01-13T16:15:04.000Z</td>\n",
       "      <td>taylor swift.</td>\n",
       "      <td>2.0</td>\n",
       "      <td>63</td>\n",
       "      <td>255</td>\n",
       "      <td>8K</td>\n",
       "      <td>0.0</td>\n",
       "      <td>taylor swift</td>\n",
       "      <td>[taylor, swift]</td>\n",
       "      <td>[taylor, swift]</td>\n",
       "      <td>taylor swift</td>\n",
       "      <td>taylor swift</td>\n",
       "    </tr>\n",
       "  </tbody>\n",
       "</table>\n",
       "</div>"
      ],
      "text/plain": [
       "        UserTags                TimeStamps  \\\n",
       "0  @TedLogan1010  2024-01-13T15:28:21.000Z   \n",
       "1   @hanniiverse  2024-01-13T12:00:55.000Z   \n",
       "2     @nihonggyu  2024-01-13T11:54:00.000Z   \n",
       "3    @tslucygray  2024-01-11T03:25:18.000Z   \n",
       "4    @thesadbaby  2024-01-13T16:15:04.000Z   \n",
       "\n",
       "                                              Tweets  Replys reTweets Likes  \\\n",
       "0  We can all agree that Taylor Swift is a witch ...    37.0       60   153   \n",
       "1         JOSHUA IN HIS \"LOVER\" ERA BY TAYLOR SWIFT      4.0     2.3K  7.1K   \n",
       "2  joshua tonight  there’s a taylor swift song he...    30.0     5.5K   15K   \n",
       "3  director said take five but taylor swift heard...    18.0      637  6.9K   \n",
       "4                                      taylor swift.     2.0       63   255   \n",
       "\n",
       "  Views  Sentiments                                             Step01  \\\n",
       "0  5.5K         1.0  we can all agree that taylor swift is witch ri...   \n",
       "1   49K         0.0            joshua in his lover era by taylor swift   \n",
       "2  135K         0.0  joshua tonight there taylor swift song here so...   \n",
       "3  134K         0.0  director said take five but taylor swift heard...   \n",
       "4    8K         0.0                                       taylor swift   \n",
       "\n",
       "                                              Tokens  \\\n",
       "0  [we, can, all, agree, that, taylor, swift, is,...   \n",
       "1   [joshua, in, his, lover, era, by, taylor, swift]   \n",
       "2  [joshua, tonight, there, taylor, swift, song, ...   \n",
       "3  [director, said, take, five, but, taylor, swif...   \n",
       "4                                    [taylor, swift]   \n",
       "\n",
       "                                                Stem  \\\n",
       "0  [we, can, all, agre, that, taylor, swift, is, ...   \n",
       "1   [joshua, in, his, lover, era, by, taylor, swift]   \n",
       "2  [joshua, tonight, there, taylor, swift, song, ...   \n",
       "3  [director, said, take, five, but, taylor, swif...   \n",
       "4                                    [taylor, swift]   \n",
       "\n",
       "                                              Step02  \\\n",
       "0  we can all agre that taylor swift is witch rig...   \n",
       "1            joshua in his lover era by taylor swift   \n",
       "2  joshua tonight there taylor swift song here so...   \n",
       "3  director said take five but taylor swift heard...   \n",
       "4                                       taylor swift   \n",
       "\n",
       "                                       ProcessedText  \n",
       "0  agre taylor swift witch right mean pretti obvi...  \n",
       "1                      joshua lover era taylor swift  \n",
       "2          joshua tonight taylor swift song somewher  \n",
       "3  director said take five taylor swift heard cha...  \n",
       "4                                       taylor swift  "
      ]
     },
     "execution_count": 30,
     "metadata": {},
     "output_type": "execute_result"
    }
   ],
   "source": [
    "df_new.head()"
   ]
  },
  {
   "cell_type": "code",
   "execution_count": 31,
   "id": "8e6edcea-cbb7-42a2-b74b-443ade9fe128",
   "metadata": {},
   "outputs": [],
   "source": [
    "df_new.to_csv('clean_dataset_uts_part02_F12.2023.00108.csv',sep=\";\")"
   ]
  },
  {
   "cell_type": "code",
   "execution_count": 32,
   "id": "58f4cdf1-dfd4-4bbc-bb14-4d56fee21d6a",
   "metadata": {},
   "outputs": [],
   "source": [
    "import pandas as pd\n",
    "import numpy as np"
   ]
  },
  {
   "cell_type": "code",
   "execution_count": 33,
   "id": "1f5e822b-1e83-4f2d-bdbf-22b528c1452f",
   "metadata": {},
   "outputs": [],
   "source": [
    "dataset = pd.read_csv('clean_dataset_uts_part02_F12.2023.00108.csv',sep=';')"
   ]
  },
  {
   "cell_type": "code",
   "execution_count": 34,
   "id": "17819002-e617-4716-bb72-2b5ecfa396b0",
   "metadata": {},
   "outputs": [],
   "source": [
    "dataset_feature = dataset['ProcessedText'].astype(str)"
   ]
  },
  {
   "cell_type": "code",
   "execution_count": 35,
   "id": "1ad43b28-dfeb-4ee6-909e-a94e1513ed14",
   "metadata": {},
   "outputs": [
    {
     "data": {
      "text/plain": [
       "0    agre taylor swift witch right mean pretti obvi...\n",
       "1                        joshua lover era taylor swift\n",
       "2            joshua tonight taylor swift song somewher\n",
       "3    director said take five taylor swift heard cha...\n",
       "4                                         taylor swift\n",
       "Name: ProcessedText, dtype: object"
      ]
     },
     "execution_count": 35,
     "metadata": {},
     "output_type": "execute_result"
    }
   ],
   "source": [
    "dataset_feature.head()"
   ]
  },
  {
   "cell_type": "code",
   "execution_count": 36,
   "id": "ad153131-a5cf-47d4-a3de-a72d1bcb017d",
   "metadata": {},
   "outputs": [],
   "source": [
    "dataset_label = dataset['Sentiments']"
   ]
  },
  {
   "cell_type": "code",
   "execution_count": 37,
   "id": "bd9d18c4-967f-4bd2-959e-e1ab5e605f31",
   "metadata": {},
   "outputs": [
    {
     "data": {
      "text/plain": [
       "0    1.0\n",
       "1    0.0\n",
       "2    0.0\n",
       "3    0.0\n",
       "4    0.0\n",
       "Name: Sentiments, dtype: float64"
      ]
     },
     "execution_count": 37,
     "metadata": {},
     "output_type": "execute_result"
    }
   ],
   "source": [
    "dataset_label.head()"
   ]
  },
  {
   "cell_type": "code",
   "execution_count": 38,
   "id": "c80fe8d4-4740-4dae-aa6d-4ad9caab4863",
   "metadata": {},
   "outputs": [],
   "source": [
    "import matplotlib.pyplot as plt\n",
    "import seaborn as sns\n",
    "%matplotlib inline"
   ]
  },
  {
   "cell_type": "code",
   "execution_count": 39,
   "id": "9e803957-c252-47e7-ac78-06cba603e04a",
   "metadata": {},
   "outputs": [
    {
     "name": "stderr",
     "output_type": "stream",
     "text": [
      "C:\\Users\\USER\\AppData\\Local\\Temp\\ipykernel_13376\\1470841120.py:3: UserWarning: \n",
      "\n",
      "`distplot` is a deprecated function and will be removed in seaborn v0.14.0.\n",
      "\n",
      "Please adapt your code to use either `displot` (a figure-level function with\n",
      "similar flexibility) or `histplot` (an axes-level function for histograms).\n",
      "\n",
      "For a guide to updating your code to use the new functions, please see\n",
      "https://gist.github.com/mwaskom/de44147ed2974457ad6372750bbe5751\n",
      "\n",
      "  sns.distplot(dataset_label, label=f'target, skew: {dataset_label.skew():.2f}')\n"
     ]
    },
    {
     "data": {
      "image/png": "[encoded data removed]",
      "text/plain": [
       "<Figure size 1200x800 with 1 Axes>"
      ]
     },
     "metadata": {},
     "output_type": "display_data"
    }
   ],
   "source": [
    "# Visualizing the target variable\n",
    "plt.figure(figsize=(12,8))\n",
    "sns.distplot(dataset_label, label=f'target, skew: {dataset_label.skew():.2f}')\n",
    "plt.legend(loc='best')\n",
    "plt.show()"
   ]
  },
  {
   "cell_type": "code",
   "execution_count": 40,
   "id": "ef030287-0657-48b2-80d9-56035c2956f2",
   "metadata": {},
   "outputs": [
    {
     "data": {
      "text/plain": [
       "Sentiments\n",
       " 0.0    26\n",
       " 1.0    17\n",
       "-1.0     6\n",
       "Name: count, dtype: int64"
      ]
     },
     "execution_count": 40,
     "metadata": {},
     "output_type": "execute_result"
    }
   ],
   "source": [
    "dataset_label.value_counts()"
   ]
  },
  {
   "cell_type": "code",
   "execution_count": 41,
   "id": "25d883f8-172c-4d9a-8363-5eab96be10a8",
   "metadata": {},
   "outputs": [],
   "source": [
    "from sklearn.model_selection import GridSearchCV"
   ]
  },
  {
   "cell_type": "code",
   "execution_count": 42,
   "id": "f18c6344-ccc0-4123-bdc8-1ce33ea1cfe8",
   "metadata": {},
   "outputs": [],
   "source": [
    "from sklearn.metrics import accuracy_score"
   ]
  },
  {
   "cell_type": "code",
   "execution_count": 43,
   "id": "4f470cff-8324-415a-85b2-9bfa41e3a16e",
   "metadata": {},
   "outputs": [],
   "source": [
    "from sklearn.metrics import recall_score"
   ]
  },
  {
   "cell_type": "code",
   "execution_count": 44,
   "id": "587bc9a5-5a2f-4df0-a13a-6fe3138ce894",
   "metadata": {},
   "outputs": [],
   "source": [
    "from sklearn.metrics import f1_score"
   ]
  },
  {
   "cell_type": "code",
   "execution_count": 45,
   "id": "76ff0a2f-b664-4297-a02b-0325931b6f40",
   "metadata": {},
   "outputs": [],
   "source": [
    "from sklearn.metrics import precision_score"
   ]
  },
  {
   "cell_type": "code",
   "execution_count": 46,
   "id": "59691516-4c67-4351-b514-1b2f8dd4ee0c",
   "metadata": {},
   "outputs": [],
   "source": [
    "from sklearn.model_selection import train_test_split"
   ]
  },
  {
   "cell_type": "code",
   "execution_count": 47,
   "id": "00eb0f45-cc1c-434d-a029-c2c71dd67ca8",
   "metadata": {},
   "outputs": [],
   "source": [
    "train_x, test_x, train_label, test_label = train_test_split(dataset_feature, dataset_label, test_size = 0.3, random_state=42)"
   ]
  },
  {
   "cell_type": "code",
   "execution_count": 48,
   "id": "10cf79da-6cc2-4655-a0ff-b4e5f9e0b28c",
   "metadata": {},
   "outputs": [],
   "source": [
    "from sklearn.feature_extraction.text import TfidfVectorizer"
   ]
  },
  {
   "cell_type": "code",
   "execution_count": 49,
   "id": "fb6461ce-d4bf-4d75-a39a-e1cdcb0ff91a",
   "metadata": {},
   "outputs": [],
   "source": [
    "Tfidf_Vectorizer = TfidfVectorizer()"
   ]
  },
  {
   "cell_type": "code",
   "execution_count": 50,
   "id": "8c4a51c0-e9a0-440c-8d08-cba904bdb2da",
   "metadata": {},
   "outputs": [],
   "source": [
    "from sklearn.naive_bayes import MultinomialNB"
   ]
  },
  {
   "cell_type": "code",
   "execution_count": 51,
   "id": "8cd02688-58ba-41a3-86b1-f04acb710c11",
   "metadata": {},
   "outputs": [],
   "source": [
    "from sklearn.pipeline import Pipeline\n",
    "classifier_nb = Pipeline([\n",
    "    #('vect', CountVectorizer()),\n",
    "    ('tfidf', TfidfVectorizer()),\n",
    "    ('model', MultinomialNB()),\n",
    "])"
   ]
  },
  {
   "cell_type": "code",
   "execution_count": 52,
   "id": "eb63b425-1a94-4060-b15d-18ed83fc284b",
   "metadata": {},
   "outputs": [],
   "source": [
    "parameters_nb = {\n",
    "                'tfidf__ngram_range': [(1, 1), (1, 2), (1, 3), (1, 4)],\n",
    "                #'tfidf__use_idf': (True, False),\n",
    "                'model__alpha': (0, 1, 1e-2, 1e-3)\n",
    "}"
   ]
  },
  {
   "cell_type": "code",
   "execution_count": 53,
   "id": "6d40da96-a1d5-4435-bae7-74bb5e50b747",
   "metadata": {},
   "outputs": [],
   "source": [
    "classifier_nb = GridSearchCV(classifier_nb, parameters_nb, cv = 3, n_jobs=-1)"
   ]
  },
  {
   "cell_type": "code",
   "execution_count": 54,
   "id": "59385189-d205-4215-ac65-5871300cba6a",
   "metadata": {},
   "outputs": [
    {
     "name": "stderr",
     "output_type": "stream",
     "text": [
      "C:\\Users\\USER\\AppData\\Local\\Programs\\Python\\Python312\\Lib\\site-packages\\sklearn\\naive_bayes.py:624: FutureWarning: The default value for `force_alpha` will change to `True` in 1.4. To suppress this warning, manually set the value of `force_alpha`.\n",
      "  warnings.warn(\n",
      "C:\\Users\\USER\\AppData\\Local\\Programs\\Python\\Python312\\Lib\\site-packages\\sklearn\\naive_bayes.py:633: UserWarning: alpha too small will result in numeric errors, setting alpha = 1.0e-10. Use `force_alpha=True` to keep alpha unchanged.\n",
      "  warnings.warn(\n"
     ]
    },
    {
     "data": {
      "text/html": [
       "<style>#sk-container-id-1 {color: black;}#sk-container-id-1 pre{padding: 0;}#sk-container-id-1 div.sk-toggleable {background-color: white;}#sk-container-id-1 label.sk-toggleable__label {cursor: pointer;display: block;width: 100%;margin-bottom: 0;padding: 0.3em;box-sizing: border-box;text-align: center;}#sk-container-id-1 label.sk-toggleable__label-arrow:before {content: \"▸\";float: left;margin-right: 0.25em;color: #696969;}#sk-container-id-1 label.sk-toggleable__label-arrow:hover:before {color: black;}#sk-container-id-1 div.sk-estimator:hover label.sk-toggleable__label-arrow:before {color: black;}#sk-container-id-1 div.sk-toggleable__content {max-height: 0;max-width: 0;overflow: hidden;text-align: left;background-color: #f0f8ff;}#sk-container-id-1 div.sk-toggleable__content pre {margin: 0.2em;color: black;border-radius: 0.25em;background-color: #f0f8ff;}#sk-container-id-1 input.sk-toggleable__control:checked~div.sk-toggleable__content {max-height: 200px;max-width: 100%;overflow: auto;}#sk-container-id-1 input.sk-toggleable__control:checked~label.sk-toggleable__label-arrow:before {content: \"▾\";}#sk-container-id-1 div.sk-estimator input.sk-toggleable__control:checked~label.sk-toggleable__label {background-color: #d4ebff;}#sk-container-id-1 div.sk-label input.sk-toggleable__control:checked~label.sk-toggleable__label {background-color: #d4ebff;}#sk-container-id-1 input.sk-hidden--visually {border: 0;clip: rect(1px 1px 1px 1px);clip: rect(1px, 1px, 1px, 1px);height: 1px;margin: -1px;overflow: hidden;padding: 0;position: absolute;width: 1px;}#sk-container-id-1 div.sk-estimator {font-family: monospace;background-color: #f0f8ff;border: 1px dotted black;border-radius: 0.25em;box-sizing: border-box;margin-bottom: 0.5em;}#sk-container-id-1 div.sk-estimator:hover {background-color: #d4ebff;}#sk-container-id-1 div.sk-parallel-item::after {content: \"\";width: 100%;border-bottom: 1px solid gray;flex-grow: 1;}#sk-container-id-1 div.sk-label:hover label.sk-toggleable__label {background-color: #d4ebff;}#sk-container-id-1 div.sk-serial::before {content: \"\";position: absolute;border-left: 1px solid gray;box-sizing: border-box;top: 0;bottom: 0;left: 50%;z-index: 0;}#sk-container-id-1 div.sk-serial {display: flex;flex-direction: column;align-items: center;background-color: white;padding-right: 0.2em;padding-left: 0.2em;position: relative;}#sk-container-id-1 div.sk-item {position: relative;z-index: 1;}#sk-container-id-1 div.sk-parallel {display: flex;align-items: stretch;justify-content: center;background-color: white;position: relative;}#sk-container-id-1 div.sk-item::before, #sk-container-id-1 div.sk-parallel-item::before {content: \"\";position: absolute;border-left: 1px solid gray;box-sizing: border-box;top: 0;bottom: 0;left: 50%;z-index: -1;}#sk-container-id-1 div.sk-parallel-item {display: flex;flex-direction: column;z-index: 1;position: relative;background-color: white;}#sk-container-id-1 div.sk-parallel-item:first-child::after {align-self: flex-end;width: 50%;}#sk-container-id-1 div.sk-parallel-item:last-child::after {align-self: flex-start;width: 50%;}#sk-container-id-1 div.sk-parallel-item:only-child::after {width: 0;}#sk-container-id-1 div.sk-dashed-wrapped {border: 1px dashed gray;margin: 0 0.4em 0.5em 0.4em;box-sizing: border-box;padding-bottom: 0.4em;background-color: white;}#sk-container-id-1 div.sk-label label {font-family: monospace;font-weight: bold;display: inline-block;line-height: 1.2em;}#sk-container-id-1 div.sk-label-container {text-align: center;}#sk-container-id-1 div.sk-container {/* jupyter's `normalize.less` sets `[hidden] { display: none; }` but bootstrap.min.css set `[hidden] { display: none !important; }` so we also need the `!important` here to be able to override the default hidden behavior on the sphinx rendered scikit-learn.org. See: https://github.com/scikit-learn/scikit-learn/issues/21755 */display: inline-block !important;position: relative;}#sk-container-id-1 div.sk-text-repr-fallback {display: none;}</style><div id=\"sk-container-id-1\" class=\"sk-top-container\"><div class=\"sk-text-repr-fallback\"><pre>GridSearchCV(cv=3,\n",
       "             estimator=Pipeline(steps=[(&#x27;tfidf&#x27;, TfidfVectorizer()),\n",
       "                                       (&#x27;model&#x27;, MultinomialNB())]),\n",
       "             n_jobs=-1,\n",
       "             param_grid={&#x27;model__alpha&#x27;: (0, 1, 0.01, 0.001),\n",
       "                         &#x27;tfidf__ngram_range&#x27;: [(1, 1), (1, 2), (1, 3),\n",
       "                                                (1, 4)]})</pre><b>In a Jupyter environment, please rerun this cell to show the HTML representation or trust the notebook. <br />On GitHub, the HTML representation is unable to render, please try loading this page with nbviewer.org.</b></div><div class=\"sk-container\" hidden><div class=\"sk-item sk-dashed-wrapped\"><div class=\"sk-label-container\"><div class=\"sk-label sk-toggleable\"><input class=\"sk-toggleable__control sk-hidden--visually\" id=\"sk-estimator-id-1\" type=\"checkbox\" ><label for=\"sk-estimator-id-1\" class=\"sk-toggleable__label sk-toggleable__label-arrow\">GridSearchCV</label><div class=\"sk-toggleable__content\"><pre>GridSearchCV(cv=3,\n",
       "             estimator=Pipeline(steps=[(&#x27;tfidf&#x27;, TfidfVectorizer()),\n",
       "                                       (&#x27;model&#x27;, MultinomialNB())]),\n",
       "             n_jobs=-1,\n",
       "             param_grid={&#x27;model__alpha&#x27;: (0, 1, 0.01, 0.001),\n",
       "                         &#x27;tfidf__ngram_range&#x27;: [(1, 1), (1, 2), (1, 3),\n",
       "                                                (1, 4)]})</pre></div></div></div><div class=\"sk-parallel\"><div class=\"sk-parallel-item\"><div class=\"sk-item\"><div class=\"sk-label-container\"><div class=\"sk-label sk-toggleable\"><input class=\"sk-toggleable__control sk-hidden--visually\" id=\"sk-estimator-id-2\" type=\"checkbox\" ><label for=\"sk-estimator-id-2\" class=\"sk-toggleable__label sk-toggleable__label-arrow\">estimator: Pipeline</label><div class=\"sk-toggleable__content\"><pre>Pipeline(steps=[(&#x27;tfidf&#x27;, TfidfVectorizer()), (&#x27;model&#x27;, MultinomialNB())])</pre></div></div></div><div class=\"sk-serial\"><div class=\"sk-item\"><div class=\"sk-serial\"><div class=\"sk-item\"><div class=\"sk-estimator sk-toggleable\"><input class=\"sk-toggleable__control sk-hidden--visually\" id=\"sk-estimator-id-3\" type=\"checkbox\" ><label for=\"sk-estimator-id-3\" class=\"sk-toggleable__label sk-toggleable__label-arrow\">TfidfVectorizer</label><div class=\"sk-toggleable__content\"><pre>TfidfVectorizer()</pre></div></div></div><div class=\"sk-item\"><div class=\"sk-estimator sk-toggleable\"><input class=\"sk-toggleable__control sk-hidden--visually\" id=\"sk-estimator-id-4\" type=\"checkbox\" ><label for=\"sk-estimator-id-4\" class=\"sk-toggleable__label sk-toggleable__label-arrow\">MultinomialNB</label><div class=\"sk-toggleable__content\"><pre>MultinomialNB()</pre></div></div></div></div></div></div></div></div></div></div></div></div>"
      ],
      "text/plain": [
       "GridSearchCV(cv=3,\n",
       "             estimator=Pipeline(steps=[('tfidf', TfidfVectorizer()),\n",
       "                                       ('model', MultinomialNB())]),\n",
       "             n_jobs=-1,\n",
       "             param_grid={'model__alpha': (0, 1, 0.01, 0.001),\n",
       "                         'tfidf__ngram_range': [(1, 1), (1, 2), (1, 3),\n",
       "                                                (1, 4)]})"
      ]
     },
     "execution_count": 54,
     "metadata": {},
     "output_type": "execute_result"
    }
   ],
   "source": [
    "classifier_nb.fit(train_x, train_label.ravel())"
   ]
  },
  {
   "cell_type": "code",
   "execution_count": 55,
   "id": "dc3ab770-66b3-4480-918e-e46df21875a1",
   "metadata": {},
   "outputs": [
    {
     "name": "stdout",
     "output_type": "stream",
     "text": [
      "Accuracy Training set:  1.0\n",
      "Accuracy Test set:  0.8666666666666667\n"
     ]
    }
   ],
   "source": [
    "y_pred_nb_train = classifier_nb.predict(train_x)\n",
    "accuracy_nb_train = accuracy_score(train_label, y_pred_nb_train)\n",
    "print(\"Accuracy Training set: \", accuracy_nb_train)\n",
    "\n",
    "y_pred_nb_test = classifier_nb.predict(test_x)\n",
    "accuracy_nb_test = accuracy_score(test_label, y_pred_nb_test)\n",
    "print(\"Accuracy Test set: \", accuracy_nb_test)"
   ]
  },
  {
   "cell_type": "code",
   "execution_count": 56,
   "id": "edbccb30-d65f-4836-96b7-ca7278a5023a",
   "metadata": {},
   "outputs": [
    {
     "name": "stdout",
     "output_type": "stream",
     "text": [
      "Recall Training set:  1.0\n",
      "Recall Test set:  0.8666666666666667\n"
     ]
    }
   ],
   "source": [
    "recall_nb_train = recall_score(train_label, y_pred_nb_train, average='weighted')\n",
    "print(\"Recall Training set: \", recall_nb_train)\n",
    "\n",
    "recall_nb_test = recall_score(test_label, y_pred_nb_test, average='weighted')\n",
    "print(\"Recall Test set: \", recall_nb_test)"
   ]
  },
  {
   "cell_type": "code",
   "execution_count": 57,
   "id": "048ffb41-6c61-4d7d-a3a0-d4664c94cbbf",
   "metadata": {},
   "outputs": [
    {
     "name": "stdout",
     "output_type": "stream",
     "text": [
      "Precision Training set:  1.0\n",
      "Precision Test set:  0.756060606060606\n"
     ]
    },
    {
     "name": "stderr",
     "output_type": "stream",
     "text": [
      "C:\\Users\\USER\\AppData\\Local\\Programs\\Python\\Python312\\Lib\\site-packages\\sklearn\\metrics\\_classification.py:1471: UndefinedMetricWarning: Precision is ill-defined and being set to 0.0 in labels with no predicted samples. Use `zero_division` parameter to control this behavior.\n",
      "  _warn_prf(average, modifier, msg_start, len(result))\n"
     ]
    }
   ],
   "source": [
    "precision_nb_train = precision_score(train_label, y_pred_nb_train, average='weighted')\n",
    "print(\"Precision Training set: \", precision_nb_train)\n",
    "\n",
    "precision_nb_test = precision_score(test_label, y_pred_nb_test, average='weighted')\n",
    "print(\"Precision Test set: \", precision_nb_test)"
   ]
  },
  {
   "cell_type": "code",
   "execution_count": 58,
   "id": "0ec82a85-9607-4ee7-8826-4f247113e2cb",
   "metadata": {},
   "outputs": [
    {
     "name": "stdout",
     "output_type": "stream",
     "text": [
      "F1 Training set:  1.0\n",
      "F1 Test set:  0.8063492063492064\n"
     ]
    }
   ],
   "source": [
    "f1_nb_train = f1_score(train_label, y_pred_nb_train, average='weighted')\n",
    "print(\"F1 Training set: \", f1_nb_train)\n",
    "\n",
    "f1_nb_test = f1_score(test_label, y_pred_nb_test, average='weighted')\n",
    "print(\"F1 Test set: \", f1_nb_test)"
   ]
  },
  {
   "cell_type": "code",
   "execution_count": 59,
   "id": "7b1ef605-fbbb-4246-b12e-13a454fcd8f3",
   "metadata": {},
   "outputs": [
    {
     "data": {
      "image/png": "[encoded data removed]",
      "text/plain": [
       "<Figure size 640x480 with 2 Axes>"
      ]
     },
     "metadata": {},
     "output_type": "display_data"
    }
   ],
   "source": [
    "from sklearn.metrics import confusion_matrix\n",
    "sns.heatmap(confusion_matrix(test_label, y_pred_nb_test), annot=True, cmap = 'viridis', fmt='.0f')\n",
    "plt.xlabel(\"Predicted values\", fontdict = {'size':14}, labelpad = 10)\n",
    "plt.ylabel(\"Actual values\" , fontdict = {'size':14}, labelpad = 10)\n",
    "plt.title (\"Confusion Matrix\", fontdict = {'size':18}, pad = 20)\n",
    "plt.show()"
   ]
  },
  {
   "cell_type": "code",
   "execution_count": 60,
   "id": "f2a35db7-7616-4751-9186-c8cc3b518952",
   "metadata": {},
   "outputs": [
    {
     "data": {
      "text/html": [
       "<style>#sk-container-id-2 {color: black;}#sk-container-id-2 pre{padding: 0;}#sk-container-id-2 div.sk-toggleable {background-color: white;}#sk-container-id-2 label.sk-toggleable__label {cursor: pointer;display: block;width: 100%;margin-bottom: 0;padding: 0.3em;box-sizing: border-box;text-align: center;}#sk-container-id-2 label.sk-toggleable__label-arrow:before {content: \"▸\";float: left;margin-right: 0.25em;color: #696969;}#sk-container-id-2 label.sk-toggleable__label-arrow:hover:before {color: black;}#sk-container-id-2 div.sk-estimator:hover label.sk-toggleable__label-arrow:before {color: black;}#sk-container-id-2 div.sk-toggleable__content {max-height: 0;max-width: 0;overflow: hidden;text-align: left;background-color: #f0f8ff;}#sk-container-id-2 div.sk-toggleable__content pre {margin: 0.2em;color: black;border-radius: 0.25em;background-color: #f0f8ff;}#sk-container-id-2 input.sk-toggleable__control:checked~div.sk-toggleable__content {max-height: 200px;max-width: 100%;overflow: auto;}#sk-container-id-2 input.sk-toggleable__control:checked~label.sk-toggleable__label-arrow:before {content: \"▾\";}#sk-container-id-2 div.sk-estimator input.sk-toggleable__control:checked~label.sk-toggleable__label {background-color: #d4ebff;}#sk-container-id-2 div.sk-label input.sk-toggleable__control:checked~label.sk-toggleable__label {background-color: #d4ebff;}#sk-container-id-2 input.sk-hidden--visually {border: 0;clip: rect(1px 1px 1px 1px);clip: rect(1px, 1px, 1px, 1px);height: 1px;margin: -1px;overflow: hidden;padding: 0;position: absolute;width: 1px;}#sk-container-id-2 div.sk-estimator {font-family: monospace;background-color: #f0f8ff;border: 1px dotted black;border-radius: 0.25em;box-sizing: border-box;margin-bottom: 0.5em;}#sk-container-id-2 div.sk-estimator:hover {background-color: #d4ebff;}#sk-container-id-2 div.sk-parallel-item::after {content: \"\";width: 100%;border-bottom: 1px solid gray;flex-grow: 1;}#sk-container-id-2 div.sk-label:hover label.sk-toggleable__label {background-color: #d4ebff;}#sk-container-id-2 div.sk-serial::before {content: \"\";position: absolute;border-left: 1px solid gray;box-sizing: border-box;top: 0;bottom: 0;left: 50%;z-index: 0;}#sk-container-id-2 div.sk-serial {display: flex;flex-direction: column;align-items: center;background-color: white;padding-right: 0.2em;padding-left: 0.2em;position: relative;}#sk-container-id-2 div.sk-item {position: relative;z-index: 1;}#sk-container-id-2 div.sk-parallel {display: flex;align-items: stretch;justify-content: center;background-color: white;position: relative;}#sk-container-id-2 div.sk-item::before, #sk-container-id-2 div.sk-parallel-item::before {content: \"\";position: absolute;border-left: 1px solid gray;box-sizing: border-box;top: 0;bottom: 0;left: 50%;z-index: -1;}#sk-container-id-2 div.sk-parallel-item {display: flex;flex-direction: column;z-index: 1;position: relative;background-color: white;}#sk-container-id-2 div.sk-parallel-item:first-child::after {align-self: flex-end;width: 50%;}#sk-container-id-2 div.sk-parallel-item:last-child::after {align-self: flex-start;width: 50%;}#sk-container-id-2 div.sk-parallel-item:only-child::after {width: 0;}#sk-container-id-2 div.sk-dashed-wrapped {border: 1px dashed gray;margin: 0 0.4em 0.5em 0.4em;box-sizing: border-box;padding-bottom: 0.4em;background-color: white;}#sk-container-id-2 div.sk-label label {font-family: monospace;font-weight: bold;display: inline-block;line-height: 1.2em;}#sk-container-id-2 div.sk-label-container {text-align: center;}#sk-container-id-2 div.sk-container {/* jupyter's `normalize.less` sets `[hidden] { display: none; }` but bootstrap.min.css set `[hidden] { display: none !important; }` so we also need the `!important` here to be able to override the default hidden behavior on the sphinx rendered scikit-learn.org. See: https://github.com/scikit-learn/scikit-learn/issues/21755 */display: inline-block !important;position: relative;}#sk-container-id-2 div.sk-text-repr-fallback {display: none;}</style><div id=\"sk-container-id-2\" class=\"sk-top-container\"><div class=\"sk-text-repr-fallback\"><pre>Pipeline(steps=[(&#x27;tfidf&#x27;, TfidfVectorizer()),\n",
       "                (&#x27;model&#x27;, MultinomialNB(alpha=0))])</pre><b>In a Jupyter environment, please rerun this cell to show the HTML representation or trust the notebook. <br />On GitHub, the HTML representation is unable to render, please try loading this page with nbviewer.org.</b></div><div class=\"sk-container\" hidden><div class=\"sk-item sk-dashed-wrapped\"><div class=\"sk-label-container\"><div class=\"sk-label sk-toggleable\"><input class=\"sk-toggleable__control sk-hidden--visually\" id=\"sk-estimator-id-5\" type=\"checkbox\" ><label for=\"sk-estimator-id-5\" class=\"sk-toggleable__label sk-toggleable__label-arrow\">Pipeline</label><div class=\"sk-toggleable__content\"><pre>Pipeline(steps=[(&#x27;tfidf&#x27;, TfidfVectorizer()),\n",
       "                (&#x27;model&#x27;, MultinomialNB(alpha=0))])</pre></div></div></div><div class=\"sk-serial\"><div class=\"sk-item\"><div class=\"sk-estimator sk-toggleable\"><input class=\"sk-toggleable__control sk-hidden--visually\" id=\"sk-estimator-id-6\" type=\"checkbox\" ><label for=\"sk-estimator-id-6\" class=\"sk-toggleable__label sk-toggleable__label-arrow\">TfidfVectorizer</label><div class=\"sk-toggleable__content\"><pre>TfidfVectorizer()</pre></div></div></div><div class=\"sk-item\"><div class=\"sk-estimator sk-toggleable\"><input class=\"sk-toggleable__control sk-hidden--visually\" id=\"sk-estimator-id-7\" type=\"checkbox\" ><label for=\"sk-estimator-id-7\" class=\"sk-toggleable__label sk-toggleable__label-arrow\">MultinomialNB</label><div class=\"sk-toggleable__content\"><pre>MultinomialNB(alpha=0)</pre></div></div></div></div></div></div></div>"
      ],
      "text/plain": [
       "Pipeline(steps=[('tfidf', TfidfVectorizer()),\n",
       "                ('model', MultinomialNB(alpha=0))])"
      ]
     },
     "execution_count": 60,
     "metadata": {},
     "output_type": "execute_result"
    }
   ],
   "source": [
    "classifier_nb.best_estimator_"
   ]
  },
  {
   "cell_type": "code",
   "execution_count": 61,
   "id": "4162dcaa-dd5c-4634-b50f-95548a1aa474",
   "metadata": {},
   "outputs": [
    {
     "name": "stdout",
     "output_type": "stream",
     "text": [
      "model__alpha: 0\n",
      "tfidf__ngram_range: (1, 1)\n"
     ]
    }
   ],
   "source": [
    "for param_name in sorted(parameters_nb.keys()):\n",
    "    print(\"%s: %r\" % (param_name, classifier_nb.best_params_[param_name]))"
   ]
  },
  {
   "cell_type": "code",
   "execution_count": 62,
   "id": "2ae4b3d5-9d24-4e3c-a967-720623bb8ec9",
   "metadata": {},
   "outputs": [],
   "source": [
    "models = [\n",
    "        ('Naive Bayes Multinomial', accuracy_nb_train, accuracy_nb_test)\n",
    "        ]"
   ]
  },
  {
   "cell_type": "code",
   "execution_count": 63,
   "id": "654cb11f-9210-4d24-97f4-1a486af7c297",
   "metadata": {},
   "outputs": [
    {
     "data": {
      "text/html": [
       "<div>\n",
       "<style scoped>\n",
       "    .dataframe tbody tr th:only-of-type {\n",
       "        vertical-align: middle;\n",
       "    }\n",
       "\n",
       "    .dataframe tbody tr th {\n",
       "        vertical-align: top;\n",
       "    }\n",
       "\n",
       "    .dataframe thead th {\n",
       "        text-align: right;\n",
       "    }\n",
       "</style>\n",
       "<table border=\"1\" class=\"dataframe\">\n",
       "  <thead>\n",
       "    <tr style=\"text-align: right;\">\n",
       "      <th></th>\n",
       "      <th>Model</th>\n",
       "      <th>Training Accuracy</th>\n",
       "      <th>Test Accuracy</th>\n",
       "    </tr>\n",
       "  </thead>\n",
       "  <tbody>\n",
       "    <tr>\n",
       "      <th>0</th>\n",
       "      <td>Naive Bayes Multinomial</td>\n",
       "      <td>1.0</td>\n",
       "      <td>0.866667</td>\n",
       "    </tr>\n",
       "  </tbody>\n",
       "</table>\n",
       "</div>"
      ],
      "text/plain": [
       "                     Model  Training Accuracy  Test Accuracy\n",
       "0  Naive Bayes Multinomial                1.0       0.866667"
      ]
     },
     "execution_count": 63,
     "metadata": {},
     "output_type": "execute_result"
    }
   ],
   "source": [
    "predict = pd.DataFrame(data = models, columns=['Model', 'Training Accuracy', 'Test Accuracy'])\n",
    "predict"
   ]
  },
  {
   "cell_type": "code",
   "execution_count": 64,
   "id": "15abf11d-c50c-401c-9f83-0b3118a9dc03",
   "metadata": {},
   "outputs": [],
   "source": [
    "models_detail = [\n",
    "                    ('Naive Bayes Multinomial', accuracy_nb_test, recall_nb_test, precision_nb_test, f1_nb_test)\n",
    "                ]"
   ]
  },
  {
   "cell_type": "code",
   "execution_count": 65,
   "id": "fbe28695-ae9e-44f4-bcb6-01016623ae73",
   "metadata": {},
   "outputs": [
    {
     "data": {
      "text/html": [
       "<div>\n",
       "<style scoped>\n",
       "    .dataframe tbody tr th:only-of-type {\n",
       "        vertical-align: middle;\n",
       "    }\n",
       "\n",
       "    .dataframe tbody tr th {\n",
       "        vertical-align: top;\n",
       "    }\n",
       "\n",
       "    .dataframe thead th {\n",
       "        text-align: right;\n",
       "    }\n",
       "</style>\n",
       "<table border=\"1\" class=\"dataframe\">\n",
       "  <thead>\n",
       "    <tr style=\"text-align: right;\">\n",
       "      <th></th>\n",
       "      <th>Model</th>\n",
       "      <th>Accuracy</th>\n",
       "      <th>Recall</th>\n",
       "      <th>Precision</th>\n",
       "      <th>F1 Weighted</th>\n",
       "    </tr>\n",
       "  </thead>\n",
       "  <tbody>\n",
       "    <tr>\n",
       "      <th>0</th>\n",
       "      <td>Naive Bayes Multinomial</td>\n",
       "      <td>0.866667</td>\n",
       "      <td>0.866667</td>\n",
       "      <td>0.756061</td>\n",
       "      <td>0.806349</td>\n",
       "    </tr>\n",
       "  </tbody>\n",
       "</table>\n",
       "</div>"
      ],
      "text/plain": [
       "                     Model  Accuracy    Recall  Precision  F1 Weighted\n",
       "0  Naive Bayes Multinomial  0.866667  0.866667   0.756061     0.806349"
      ]
     },
     "execution_count": 65,
     "metadata": {},
     "output_type": "execute_result"
    }
   ],
   "source": [
    "detail = pd.DataFrame(data = models_detail, columns=['Model', 'Accuracy', 'Recall', 'Precision', 'F1 Weighted'])\n",
    "detail"
   ]
  },
  {
   "cell_type": "code",
   "execution_count": 66,
   "id": "46bf692b-d68c-47e8-8d29-26f1bfb8dc03",
   "metadata": {},
   "outputs": [
    {
     "name": "stderr",
     "output_type": "stream",
     "text": [
      "C:\\Users\\USER\\AppData\\Local\\Temp\\ipykernel_13376\\2750282873.py:7: FutureWarning: \n",
      "\n",
      "Passing `palette` without assigning `hue` is deprecated and will be removed in v0.14.0. Assign the `y` variable to `hue` and set `legend=False` for the same effect.\n",
      "\n",
      "  sns.barplot(x='Training Accuracy', y='Model', data = predict, palette='Blues_d', ax = axes[0])\n",
      "C:\\Users\\USER\\AppData\\Local\\Temp\\ipykernel_13376\\2750282873.py:16: FutureWarning: \n",
      "\n",
      "Passing `palette` without assigning `hue` is deprecated and will be removed in v0.14.0. Assign the `y` variable to `hue` and set `legend=False` for the same effect.\n",
      "\n",
      "  sns.barplot(x='Test Accuracy', y='Model', data = predict, palette='Greens_d', ax = axes[1])\n"
     ]
    },
    {
     "data": {
      "image/png": "[encoded data removed]",
      "text/plain": [
       "<Figure size 1400x1000 with 2 Axes>"
      ]
     },
     "metadata": {},
     "output_type": "display_data"
    }
   ],
   "source": [
    "import numpy as np\n",
    "\n",
    "f, axes = plt.subplots(2,1, figsize=(14,10))\n",
    "\n",
    "predict.sort_values(by=['Training Accuracy'], ascending=False, inplace=True)\n",
    "\n",
    "sns.barplot(x='Training Accuracy', y='Model', data = predict, palette='Blues_d', ax = axes[0])\n",
    "#axes[0].set(xlabel='Region', ylabel='Charges')\n",
    "axes[0].set_xlabel('Training Accuracy', size=16)\n",
    "axes[0].set_ylabel('Model')\n",
    "axes[0].set_xlim(0,1.0)\n",
    "axes[0].set_xticks(np.arange(0, 1.1, 0.1))\n",
    "\n",
    "predict.sort_values(by=['Test Accuracy'], ascending=False, inplace=True)\n",
    "\n",
    "sns.barplot(x='Test Accuracy', y='Model', data = predict, palette='Greens_d', ax = axes[1])\n",
    "#axes[0].set(xlabel='Region', ylabel='Charges')\n",
    "axes[1].set_xlabel('Test Accuracy', size=16)\n",
    "axes[1].set_ylabel('Model')\n",
    "axes[1].set_xlim(0,1.0)\n",
    "axes[1].set_xticks(np.arange(0, 1.1, 0.1))\n",
    "\n",
    "plt.show()"
   ]
  },
  {
   "cell_type": "code",
   "execution_count": 67,
   "id": "2e16c31f-1c22-420b-9736-b4e225800b4c",
   "metadata": {},
   "outputs": [],
   "source": [
    "from sklearn.svm import SVC"
   ]
  },
  {
   "cell_type": "code",
   "execution_count": 68,
   "id": "95b0cc9a-c08a-4087-9b52-93f6290a4add",
   "metadata": {},
   "outputs": [],
   "source": [
    "from sklearn.pipeline import Pipeline\n",
    "classifier_svc = Pipeline([\n",
    "    #('vect', CountVectorizer()),\n",
    "    ('tfidf', TfidfVectorizer()),\n",
    "    ('model', SVC()),\n",
    "])"
   ]
  },
  {
   "cell_type": "code",
   "execution_count": 69,
   "id": "33b7eb7d-e108-4147-88ab-9ddeb7179b81",
   "metadata": {},
   "outputs": [],
   "source": [
    "parameters_svc = {\n",
    "                'tfidf__ngram_range': [(1, 1), (1, 2), (1, 3), (1, 4)],\n",
    "                #'tfidf__use_idf': (True, False),\n",
    "                'model__kernel' : ['linear'],\n",
    "                'model__C' : [0.00001,0.0001,0.001,0.01,0.1,1,10,100],\n",
    "                'model__random_state' : [42]\n",
    "}"
   ]
  },
  {
   "cell_type": "code",
   "execution_count": 70,
   "id": "944ede5a-5465-4b91-b569-beac5372c357",
   "metadata": {},
   "outputs": [],
   "source": [
    "classifier_svm_linear = GridSearchCV(classifier_svc, parameters_svc, cv = 3, n_jobs=-1)"
   ]
  },
  {
   "cell_type": "code",
   "execution_count": 71,
   "id": "918462b6-3ca7-4952-a869-5e19fd978e9f",
   "metadata": {},
   "outputs": [
    {
     "data": {
      "text/html": [
       "<style>#sk-container-id-3 {color: black;}#sk-container-id-3 pre{padding: 0;}#sk-container-id-3 div.sk-toggleable {background-color: white;}#sk-container-id-3 label.sk-toggleable__label {cursor: pointer;display: block;width: 100%;margin-bottom: 0;padding: 0.3em;box-sizing: border-box;text-align: center;}#sk-container-id-3 label.sk-toggleable__label-arrow:before {content: \"▸\";float: left;margin-right: 0.25em;color: #696969;}#sk-container-id-3 label.sk-toggleable__label-arrow:hover:before {color: black;}#sk-container-id-3 div.sk-estimator:hover label.sk-toggleable__label-arrow:before {color: black;}#sk-container-id-3 div.sk-toggleable__content {max-height: 0;max-width: 0;overflow: hidden;text-align: left;background-color: #f0f8ff;}#sk-container-id-3 div.sk-toggleable__content pre {margin: 0.2em;color: black;border-radius: 0.25em;background-color: #f0f8ff;}#sk-container-id-3 input.sk-toggleable__control:checked~div.sk-toggleable__content {max-height: 200px;max-width: 100%;overflow: auto;}#sk-container-id-3 input.sk-toggleable__control:checked~label.sk-toggleable__label-arrow:before {content: \"▾\";}#sk-container-id-3 div.sk-estimator input.sk-toggleable__control:checked~label.sk-toggleable__label {background-color: #d4ebff;}#sk-container-id-3 div.sk-label input.sk-toggleable__control:checked~label.sk-toggleable__label {background-color: #d4ebff;}#sk-container-id-3 input.sk-hidden--visually {border: 0;clip: rect(1px 1px 1px 1px);clip: rect(1px, 1px, 1px, 1px);height: 1px;margin: -1px;overflow: hidden;padding: 0;position: absolute;width: 1px;}#sk-container-id-3 div.sk-estimator {font-family: monospace;background-color: #f0f8ff;border: 1px dotted black;border-radius: 0.25em;box-sizing: border-box;margin-bottom: 0.5em;}#sk-container-id-3 div.sk-estimator:hover {background-color: #d4ebff;}#sk-container-id-3 div.sk-parallel-item::after {content: \"\";width: 100%;border-bottom: 1px solid gray;flex-grow: 1;}#sk-container-id-3 div.sk-label:hover label.sk-toggleable__label {background-color: #d4ebff;}#sk-container-id-3 div.sk-serial::before {content: \"\";position: absolute;border-left: 1px solid gray;box-sizing: border-box;top: 0;bottom: 0;left: 50%;z-index: 0;}#sk-container-id-3 div.sk-serial {display: flex;flex-direction: column;align-items: center;background-color: white;padding-right: 0.2em;padding-left: 0.2em;position: relative;}#sk-container-id-3 div.sk-item {position: relative;z-index: 1;}#sk-container-id-3 div.sk-parallel {display: flex;align-items: stretch;justify-content: center;background-color: white;position: relative;}#sk-container-id-3 div.sk-item::before, #sk-container-id-3 div.sk-parallel-item::before {content: \"\";position: absolute;border-left: 1px solid gray;box-sizing: border-box;top: 0;bottom: 0;left: 50%;z-index: -1;}#sk-container-id-3 div.sk-parallel-item {display: flex;flex-direction: column;z-index: 1;position: relative;background-color: white;}#sk-container-id-3 div.sk-parallel-item:first-child::after {align-self: flex-end;width: 50%;}#sk-container-id-3 div.sk-parallel-item:last-child::after {align-self: flex-start;width: 50%;}#sk-container-id-3 div.sk-parallel-item:only-child::after {width: 0;}#sk-container-id-3 div.sk-dashed-wrapped {border: 1px dashed gray;margin: 0 0.4em 0.5em 0.4em;box-sizing: border-box;padding-bottom: 0.4em;background-color: white;}#sk-container-id-3 div.sk-label label {font-family: monospace;font-weight: bold;display: inline-block;line-height: 1.2em;}#sk-container-id-3 div.sk-label-container {text-align: center;}#sk-container-id-3 div.sk-container {/* jupyter's `normalize.less` sets `[hidden] { display: none; }` but bootstrap.min.css set `[hidden] { display: none !important; }` so we also need the `!important` here to be able to override the default hidden behavior on the sphinx rendered scikit-learn.org. See: https://github.com/scikit-learn/scikit-learn/issues/21755 */display: inline-block !important;position: relative;}#sk-container-id-3 div.sk-text-repr-fallback {display: none;}</style><div id=\"sk-container-id-3\" class=\"sk-top-container\"><div class=\"sk-text-repr-fallback\"><pre>GridSearchCV(cv=3,\n",
       "             estimator=Pipeline(steps=[(&#x27;tfidf&#x27;, TfidfVectorizer()),\n",
       "                                       (&#x27;model&#x27;, SVC())]),\n",
       "             n_jobs=-1,\n",
       "             param_grid={&#x27;model__C&#x27;: [1e-05, 0.0001, 0.001, 0.01, 0.1, 1, 10,\n",
       "                                      100],\n",
       "                         &#x27;model__kernel&#x27;: [&#x27;linear&#x27;],\n",
       "                         &#x27;model__random_state&#x27;: [42],\n",
       "                         &#x27;tfidf__ngram_range&#x27;: [(1, 1), (1, 2), (1, 3),\n",
       "                                                (1, 4)]})</pre><b>In a Jupyter environment, please rerun this cell to show the HTML representation or trust the notebook. <br />On GitHub, the HTML representation is unable to render, please try loading this page with nbviewer.org.</b></div><div class=\"sk-container\" hidden><div class=\"sk-item sk-dashed-wrapped\"><div class=\"sk-label-container\"><div class=\"sk-label sk-toggleable\"><input class=\"sk-toggleable__control sk-hidden--visually\" id=\"sk-estimator-id-8\" type=\"checkbox\" ><label for=\"sk-estimator-id-8\" class=\"sk-toggleable__label sk-toggleable__label-arrow\">GridSearchCV</label><div class=\"sk-toggleable__content\"><pre>GridSearchCV(cv=3,\n",
       "             estimator=Pipeline(steps=[(&#x27;tfidf&#x27;, TfidfVectorizer()),\n",
       "                                       (&#x27;model&#x27;, SVC())]),\n",
       "             n_jobs=-1,\n",
       "             param_grid={&#x27;model__C&#x27;: [1e-05, 0.0001, 0.001, 0.01, 0.1, 1, 10,\n",
       "                                      100],\n",
       "                         &#x27;model__kernel&#x27;: [&#x27;linear&#x27;],\n",
       "                         &#x27;model__random_state&#x27;: [42],\n",
       "                         &#x27;tfidf__ngram_range&#x27;: [(1, 1), (1, 2), (1, 3),\n",
       "                                                (1, 4)]})</pre></div></div></div><div class=\"sk-parallel\"><div class=\"sk-parallel-item\"><div class=\"sk-item\"><div class=\"sk-label-container\"><div class=\"sk-label sk-toggleable\"><input class=\"sk-toggleable__control sk-hidden--visually\" id=\"sk-estimator-id-9\" type=\"checkbox\" ><label for=\"sk-estimator-id-9\" class=\"sk-toggleable__label sk-toggleable__label-arrow\">estimator: Pipeline</label><div class=\"sk-toggleable__content\"><pre>Pipeline(steps=[(&#x27;tfidf&#x27;, TfidfVectorizer()), (&#x27;model&#x27;, SVC())])</pre></div></div></div><div class=\"sk-serial\"><div class=\"sk-item\"><div class=\"sk-serial\"><div class=\"sk-item\"><div class=\"sk-estimator sk-toggleable\"><input class=\"sk-toggleable__control sk-hidden--visually\" id=\"sk-estimator-id-10\" type=\"checkbox\" ><label for=\"sk-estimator-id-10\" class=\"sk-toggleable__label sk-toggleable__label-arrow\">TfidfVectorizer</label><div class=\"sk-toggleable__content\"><pre>TfidfVectorizer()</pre></div></div></div><div class=\"sk-item\"><div class=\"sk-estimator sk-toggleable\"><input class=\"sk-toggleable__control sk-hidden--visually\" id=\"sk-estimator-id-11\" type=\"checkbox\" ><label for=\"sk-estimator-id-11\" class=\"sk-toggleable__label sk-toggleable__label-arrow\">SVC</label><div class=\"sk-toggleable__content\"><pre>SVC()</pre></div></div></div></div></div></div></div></div></div></div></div></div>"
      ],
      "text/plain": [
       "GridSearchCV(cv=3,\n",
       "             estimator=Pipeline(steps=[('tfidf', TfidfVectorizer()),\n",
       "                                       ('model', SVC())]),\n",
       "             n_jobs=-1,\n",
       "             param_grid={'model__C': [1e-05, 0.0001, 0.001, 0.01, 0.1, 1, 10,\n",
       "                                      100],\n",
       "                         'model__kernel': ['linear'],\n",
       "                         'model__random_state': [42],\n",
       "                         'tfidf__ngram_range': [(1, 1), (1, 2), (1, 3),\n",
       "                                                (1, 4)]})"
      ]
     },
     "execution_count": 71,
     "metadata": {},
     "output_type": "execute_result"
    }
   ],
   "source": [
    "classifier_svm_linear.fit(train_x, train_label.ravel())"
   ]
  },
  {
   "cell_type": "code",
   "execution_count": 72,
   "id": "0012e57f-34c6-40f9-acf1-48d163129916",
   "metadata": {},
   "outputs": [
    {
     "name": "stdout",
     "output_type": "stream",
     "text": [
      "Accuracy Training set:  1.0\n",
      "Accuracy Test set:  0.8\n"
     ]
    }
   ],
   "source": [
    "y_pred_svm_linear_train = classifier_svm_linear.predict(train_x)\n",
    "accuracy_svm_linear_train = accuracy_score(train_label, y_pred_svm_linear_train)\n",
    "print(\"Accuracy Training set: \", accuracy_svm_linear_train)\n",
    "\n",
    "y_pred_svm_linear_test = classifier_svm_linear.predict(test_x)\n",
    "accuracy_svm_linear_test = accuracy_score(test_label, y_pred_svm_linear_test)\n",
    "print(\"Accuracy Test set: \", accuracy_svm_linear_test)"
   ]
  },
  {
   "cell_type": "code",
   "execution_count": 73,
   "id": "ca1930bf-2f76-47fd-8d08-07be0152188c",
   "metadata": {},
   "outputs": [
    {
     "name": "stdout",
     "output_type": "stream",
     "text": [
      "Recall Training set:  1.0\n",
      "Recall Test set:  0.8\n"
     ]
    }
   ],
   "source": [
    "recall_svm_linear_train = recall_score(train_label, y_pred_svm_linear_train, average='weighted')\n",
    "print(\"Recall Training set: \", recall_svm_linear_train)\n",
    "\n",
    "recall_svm_linear_test = recall_score(test_label, y_pred_svm_linear_test, average='weighted')\n",
    "print(\"Recall Test set: \", recall_svm_linear_test)"
   ]
  },
  {
   "cell_type": "code",
   "execution_count": 74,
   "id": "f32a4094-fffb-4e24-9c68-fd61df74590a",
   "metadata": {},
   "outputs": [
    {
     "name": "stdout",
     "output_type": "stream",
     "text": [
      "Precision Training set:  1.0\n",
      "Precision Test set:  0.6888888888888889\n"
     ]
    },
    {
     "name": "stderr",
     "output_type": "stream",
     "text": [
      "C:\\Users\\USER\\AppData\\Local\\Programs\\Python\\Python312\\Lib\\site-packages\\sklearn\\metrics\\_classification.py:1471: UndefinedMetricWarning: Precision is ill-defined and being set to 0.0 in labels with no predicted samples. Use `zero_division` parameter to control this behavior.\n",
      "  _warn_prf(average, modifier, msg_start, len(result))\n"
     ]
    }
   ],
   "source": [
    "precision_svm_linear_train = precision_score(train_label, y_pred_svm_linear_train, average='weighted')\n",
    "print(\"Precision Training set: \", precision_svm_linear_train)\n",
    "\n",
    "precision_svm_linear_test = precision_score(test_label, y_pred_svm_linear_test, average='weighted')\n",
    "print(\"Precision Test set: \", precision_svm_linear_test)"
   ]
  },
  {
   "cell_type": "code",
   "execution_count": 75,
   "id": "c6ccc297-6f90-4dce-a567-283f877f3c25",
   "metadata": {},
   "outputs": [
    {
     "name": "stdout",
     "output_type": "stream",
     "text": [
      "F1 Training set:  1.0\n",
      "F1 Test set:  0.7393939393939394\n"
     ]
    }
   ],
   "source": [
    "f1_svm_linear_train = f1_score(train_label, y_pred_svm_linear_train, average='weighted')\n",
    "print(\"F1 Training set: \", f1_svm_linear_train)\n",
    "\n",
    "f1_svm_linear_test = f1_score(test_label, y_pred_svm_linear_test, average='weighted')\n",
    "print(\"F1 Test set: \", f1_svm_linear_test)"
   ]
  },
  {
   "cell_type": "code",
   "execution_count": 76,
   "id": "01796939-3160-4cb0-b37b-63fba82e8617",
   "metadata": {},
   "outputs": [
    {
     "data": {
      "image/png": "[encoded data removed]",
      "text/plain": [
       "<Figure size 640x480 with 2 Axes>"
      ]
     },
     "metadata": {},
     "output_type": "display_data"
    }
   ],
   "source": [
    "from sklearn.metrics import confusion_matrix\n",
    "sns.heatmap(confusion_matrix(test_label, y_pred_svm_linear_test), annot=True, cmap = 'viridis', fmt='.0f')\n",
    "plt.xlabel(\"Predicted values\", fontdict = {'size':14}, labelpad = 10)\n",
    "plt.ylabel(\"Actual values\" , fontdict = {'size':14}, labelpad = 10)\n",
    "plt.title (\"Confusion Matrix\", fontdict = {'size':18}, pad = 20)\n",
    "plt.show()"
   ]
  },
  {
   "cell_type": "code",
   "execution_count": 77,
   "id": "0cfd8528-b498-4539-8789-1bdd412b10cb",
   "metadata": {},
   "outputs": [
    {
     "data": {
      "text/html": [
       "<style>#sk-container-id-4 {color: black;}#sk-container-id-4 pre{padding: 0;}#sk-container-id-4 div.sk-toggleable {background-color: white;}#sk-container-id-4 label.sk-toggleable__label {cursor: pointer;display: block;width: 100%;margin-bottom: 0;padding: 0.3em;box-sizing: border-box;text-align: center;}#sk-container-id-4 label.sk-toggleable__label-arrow:before {content: \"▸\";float: left;margin-right: 0.25em;color: #696969;}#sk-container-id-4 label.sk-toggleable__label-arrow:hover:before {color: black;}#sk-container-id-4 div.sk-estimator:hover label.sk-toggleable__label-arrow:before {color: black;}#sk-container-id-4 div.sk-toggleable__content {max-height: 0;max-width: 0;overflow: hidden;text-align: left;background-color: #f0f8ff;}#sk-container-id-4 div.sk-toggleable__content pre {margin: 0.2em;color: black;border-radius: 0.25em;background-color: #f0f8ff;}#sk-container-id-4 input.sk-toggleable__control:checked~div.sk-toggleable__content {max-height: 200px;max-width: 100%;overflow: auto;}#sk-container-id-4 input.sk-toggleable__control:checked~label.sk-toggleable__label-arrow:before {content: \"▾\";}#sk-container-id-4 div.sk-estimator input.sk-toggleable__control:checked~label.sk-toggleable__label {background-color: #d4ebff;}#sk-container-id-4 div.sk-label input.sk-toggleable__control:checked~label.sk-toggleable__label {background-color: #d4ebff;}#sk-container-id-4 input.sk-hidden--visually {border: 0;clip: rect(1px 1px 1px 1px);clip: rect(1px, 1px, 1px, 1px);height: 1px;margin: -1px;overflow: hidden;padding: 0;position: absolute;width: 1px;}#sk-container-id-4 div.sk-estimator {font-family: monospace;background-color: #f0f8ff;border: 1px dotted black;border-radius: 0.25em;box-sizing: border-box;margin-bottom: 0.5em;}#sk-container-id-4 div.sk-estimator:hover {background-color: #d4ebff;}#sk-container-id-4 div.sk-parallel-item::after {content: \"\";width: 100%;border-bottom: 1px solid gray;flex-grow: 1;}#sk-container-id-4 div.sk-label:hover label.sk-toggleable__label {background-color: #d4ebff;}#sk-container-id-4 div.sk-serial::before {content: \"\";position: absolute;border-left: 1px solid gray;box-sizing: border-box;top: 0;bottom: 0;left: 50%;z-index: 0;}#sk-container-id-4 div.sk-serial {display: flex;flex-direction: column;align-items: center;background-color: white;padding-right: 0.2em;padding-left: 0.2em;position: relative;}#sk-container-id-4 div.sk-item {position: relative;z-index: 1;}#sk-container-id-4 div.sk-parallel {display: flex;align-items: stretch;justify-content: center;background-color: white;position: relative;}#sk-container-id-4 div.sk-item::before, #sk-container-id-4 div.sk-parallel-item::before {content: \"\";position: absolute;border-left: 1px solid gray;box-sizing: border-box;top: 0;bottom: 0;left: 50%;z-index: -1;}#sk-container-id-4 div.sk-parallel-item {display: flex;flex-direction: column;z-index: 1;position: relative;background-color: white;}#sk-container-id-4 div.sk-parallel-item:first-child::after {align-self: flex-end;width: 50%;}#sk-container-id-4 div.sk-parallel-item:last-child::after {align-self: flex-start;width: 50%;}#sk-container-id-4 div.sk-parallel-item:only-child::after {width: 0;}#sk-container-id-4 div.sk-dashed-wrapped {border: 1px dashed gray;margin: 0 0.4em 0.5em 0.4em;box-sizing: border-box;padding-bottom: 0.4em;background-color: white;}#sk-container-id-4 div.sk-label label {font-family: monospace;font-weight: bold;display: inline-block;line-height: 1.2em;}#sk-container-id-4 div.sk-label-container {text-align: center;}#sk-container-id-4 div.sk-container {/* jupyter's `normalize.less` sets `[hidden] { display: none; }` but bootstrap.min.css set `[hidden] { display: none !important; }` so we also need the `!important` here to be able to override the default hidden behavior on the sphinx rendered scikit-learn.org. See: https://github.com/scikit-learn/scikit-learn/issues/21755 */display: inline-block !important;position: relative;}#sk-container-id-4 div.sk-text-repr-fallback {display: none;}</style><div id=\"sk-container-id-4\" class=\"sk-top-container\"><div class=\"sk-text-repr-fallback\"><pre>Pipeline(steps=[(&#x27;tfidf&#x27;, TfidfVectorizer()),\n",
       "                (&#x27;model&#x27;, SVC(C=10, kernel=&#x27;linear&#x27;, random_state=42))])</pre><b>In a Jupyter environment, please rerun this cell to show the HTML representation or trust the notebook. <br />On GitHub, the HTML representation is unable to render, please try loading this page with nbviewer.org.</b></div><div class=\"sk-container\" hidden><div class=\"sk-item sk-dashed-wrapped\"><div class=\"sk-label-container\"><div class=\"sk-label sk-toggleable\"><input class=\"sk-toggleable__control sk-hidden--visually\" id=\"sk-estimator-id-12\" type=\"checkbox\" ><label for=\"sk-estimator-id-12\" class=\"sk-toggleable__label sk-toggleable__label-arrow\">Pipeline</label><div class=\"sk-toggleable__content\"><pre>Pipeline(steps=[(&#x27;tfidf&#x27;, TfidfVectorizer()),\n",
       "                (&#x27;model&#x27;, SVC(C=10, kernel=&#x27;linear&#x27;, random_state=42))])</pre></div></div></div><div class=\"sk-serial\"><div class=\"sk-item\"><div class=\"sk-estimator sk-toggleable\"><input class=\"sk-toggleable__control sk-hidden--visually\" id=\"sk-estimator-id-13\" type=\"checkbox\" ><label for=\"sk-estimator-id-13\" class=\"sk-toggleable__label sk-toggleable__label-arrow\">TfidfVectorizer</label><div class=\"sk-toggleable__content\"><pre>TfidfVectorizer()</pre></div></div></div><div class=\"sk-item\"><div class=\"sk-estimator sk-toggleable\"><input class=\"sk-toggleable__control sk-hidden--visually\" id=\"sk-estimator-id-14\" type=\"checkbox\" ><label for=\"sk-estimator-id-14\" class=\"sk-toggleable__label sk-toggleable__label-arrow\">SVC</label><div class=\"sk-toggleable__content\"><pre>SVC(C=10, kernel=&#x27;linear&#x27;, random_state=42)</pre></div></div></div></div></div></div></div>"
      ],
      "text/plain": [
       "Pipeline(steps=[('tfidf', TfidfVectorizer()),\n",
       "                ('model', SVC(C=10, kernel='linear', random_state=42))])"
      ]
     },
     "execution_count": 77,
     "metadata": {},
     "output_type": "execute_result"
    }
   ],
   "source": [
    "classifier_svm_linear.best_estimator_"
   ]
  },
  {
   "cell_type": "code",
   "execution_count": 78,
   "id": "9b08beab-2607-47e2-8765-5dc749834e61",
   "metadata": {},
   "outputs": [
    {
     "name": "stdout",
     "output_type": "stream",
     "text": [
      "model__C: 10\n",
      "model__kernel: 'linear'\n",
      "model__random_state: 42\n",
      "tfidf__ngram_range: (1, 1)\n"
     ]
    }
   ],
   "source": [
    "for param_name in sorted(parameters_svc.keys()):\n",
    "    print(\"%s: %r\" % (param_name, classifier_svm_linear.best_params_[param_name]))"
   ]
  },
  {
   "cell_type": "code",
   "execution_count": 79,
   "id": "7c3bae25-886e-40d2-8d40-0a0e6c19c551",
   "metadata": {},
   "outputs": [],
   "source": [
    "from sklearn.pipeline import Pipeline\n",
    "\n",
    "from sklearn.tree import DecisionTreeClassifier\n",
    "\n",
    "classifier_dt = Pipeline([\n",
    "    #('vect', CountVectorizer()),\n",
    "    ('tfidf', TfidfVectorizer()),\n",
    "    ('model', DecisionTreeClassifier()),\n",
    "])"
   ]
  },
  {
   "cell_type": "code",
   "execution_count": 80,
   "id": "cee4c88f-497b-4554-94ee-f6d578dca0a4",
   "metadata": {},
   "outputs": [],
   "source": [
    "parameters_dt = {\n",
    "                \"tfidf__ngram_range\": [(1, 1), (1, 2), (1, 3), (1, 4)],\n",
    "                #\"tfidf__use_idf\": (True, False),\n",
    "                \"model__max_depth\": np.arange(1,21),\n",
    "                \"model__min_samples_leaf\": [1, 5, 10, 20, 50, 100],\n",
    "                \"model__min_samples_split\": np.arange(2, 11),\n",
    "                \"model__criterion\": ['gini','entropy'],\n",
    "                \"model__random_state\" : [42]\n",
    "}"
   ]
  },
  {
   "cell_type": "code",
   "execution_count": 81,
   "id": "a8a69ff2-d73b-4e5e-9f54-95e336880e1c",
   "metadata": {},
   "outputs": [],
   "source": [
    "classifier_dt = GridSearchCV(classifier_dt, parameters_dt, cv = 3, n_jobs=-1)"
   ]
  },
  {
   "cell_type": "code",
   "execution_count": 82,
   "id": "30e000d2-272e-46b3-b222-adcf05c6c421",
   "metadata": {},
   "outputs": [],
   "source": [
    "classifier_dt = classifier_dt.fit(train_x, train_label.ravel())"
   ]
  },
  {
   "cell_type": "code",
   "execution_count": 83,
   "id": "86f1b667-d634-4063-85d9-b563c7f904ed",
   "metadata": {},
   "outputs": [
    {
     "name": "stdout",
     "output_type": "stream",
     "text": [
      "Accuracy Training set:  0.8823529411764706\n",
      "Accuracy Test set:  0.6666666666666666\n"
     ]
    }
   ],
   "source": [
    "y_pred_dt_train = classifier_dt.predict(train_x)\n",
    "accuracy_dt_train = accuracy_score(train_label, y_pred_dt_train)\n",
    "print(\"Accuracy Training set: \", accuracy_dt_train)\n",
    "\n",
    "y_pred_dt_test = classifier_dt.predict(test_x)\n",
    "accuracy_dt_test = accuracy_score(test_label, y_pred_dt_test)\n",
    "print(\"Accuracy Test set: \", accuracy_dt_test)"
   ]
  },
  {
   "cell_type": "code",
   "execution_count": 84,
   "id": "50dfbec8-6887-4aac-85ee-1fce88e4ee77",
   "metadata": {},
   "outputs": [
    {
     "name": "stdout",
     "output_type": "stream",
     "text": [
      "Recall Training set:  0.8823529411764706\n",
      "Recall Test set:  0.6666666666666666\n"
     ]
    }
   ],
   "source": [
    "recall_dt_train = recall_score(train_label, y_pred_dt_train, average='weighted')\n",
    "print(\"Recall Training set: \", recall_dt_train)\n",
    "\n",
    "recall_dt_test = recall_score(test_label, y_pred_dt_test, average='weighted')\n",
    "print(\"Recall Test set: \", recall_dt_test)"
   ]
  },
  {
   "cell_type": "code",
   "execution_count": 85,
   "id": "495b159f-a5cd-43cd-a951-4bff8b5329f1",
   "metadata": {},
   "outputs": [
    {
     "name": "stdout",
     "output_type": "stream",
     "text": [
      "Precision Training set:  0.8823529411764706\n",
      "Precision Test set:  0.4444444444444444\n"
     ]
    },
    {
     "name": "stderr",
     "output_type": "stream",
     "text": [
      "C:\\Users\\USER\\AppData\\Local\\Programs\\Python\\Python312\\Lib\\site-packages\\sklearn\\metrics\\_classification.py:1471: UndefinedMetricWarning: Precision is ill-defined and being set to 0.0 in labels with no predicted samples. Use `zero_division` parameter to control this behavior.\n",
      "  _warn_prf(average, modifier, msg_start, len(result))\n"
     ]
    }
   ],
   "source": [
    "precision_dt_train = precision_score(train_label, y_pred_dt_train, average='weighted')\n",
    "print(\"Precision Training set: \", precision_dt_train)\n",
    "\n",
    "precision_dt_test = precision_score(test_label, y_pred_dt_test, average='weighted')\n",
    "print(\"Precision Test set: \", precision_dt_test)"
   ]
  },
  {
   "cell_type": "code",
   "execution_count": 86,
   "id": "ddb46849-c4f8-430e-8f86-500c22aaab2b",
   "metadata": {},
   "outputs": [
    {
     "name": "stdout",
     "output_type": "stream",
     "text": [
      "F1 Training set:  0.8823529411764706\n",
      "F1 Test set:  0.5333333333333333\n"
     ]
    }
   ],
   "source": [
    "f1_dt_train = f1_score(train_label, y_pred_dt_train, average='weighted')\n",
    "print(\"F1 Training set: \", f1_dt_train)\n",
    "\n",
    "f1_dt_test = f1_score(test_label, y_pred_dt_test, average='weighted')\n",
    "print(\"F1 Test set: \", f1_dt_test)"
   ]
  },
  {
   "cell_type": "code",
   "execution_count": 87,
   "id": "dd4677c5-e8f8-42eb-bb3c-5e5b3708c0e7",
   "metadata": {},
   "outputs": [
    {
     "data": {
      "image/png": "[encoded data removed]",
      "text/plain": [
       "<Figure size 640x480 with 2 Axes>"
      ]
     },
     "metadata": {},
     "output_type": "display_data"
    }
   ],
   "source": [
    "from sklearn.metrics import confusion_matrix\n",
    "sns.heatmap(confusion_matrix(test_label, y_pred_dt_test), annot=True, cmap = 'viridis', fmt='.0f')\n",
    "plt.xlabel(\"Predicted values\", fontdict = {'size':14}, labelpad = 10)\n",
    "plt.ylabel(\"Actual values\" , fontdict = {'size':14}, labelpad = 10)\n",
    "plt.title (\"Confusion Matrix\", fontdict = {'size':18}, pad = 20)\n",
    "plt.show()"
   ]
  },
  {
   "cell_type": "code",
   "execution_count": 88,
   "id": "9623eb42-14a9-49ec-a186-105f664549cf",
   "metadata": {},
   "outputs": [
    {
     "data": {
      "text/html": [
       "<style>#sk-container-id-5 {color: black;}#sk-container-id-5 pre{padding: 0;}#sk-container-id-5 div.sk-toggleable {background-color: white;}#sk-container-id-5 label.sk-toggleable__label {cursor: pointer;display: block;width: 100%;margin-bottom: 0;padding: 0.3em;box-sizing: border-box;text-align: center;}#sk-container-id-5 label.sk-toggleable__label-arrow:before {content: \"▸\";float: left;margin-right: 0.25em;color: #696969;}#sk-container-id-5 label.sk-toggleable__label-arrow:hover:before {color: black;}#sk-container-id-5 div.sk-estimator:hover label.sk-toggleable__label-arrow:before {color: black;}#sk-container-id-5 div.sk-toggleable__content {max-height: 0;max-width: 0;overflow: hidden;text-align: left;background-color: #f0f8ff;}#sk-container-id-5 div.sk-toggleable__content pre {margin: 0.2em;color: black;border-radius: 0.25em;background-color: #f0f8ff;}#sk-container-id-5 input.sk-toggleable__control:checked~div.sk-toggleable__content {max-height: 200px;max-width: 100%;overflow: auto;}#sk-container-id-5 input.sk-toggleable__control:checked~label.sk-toggleable__label-arrow:before {content: \"▾\";}#sk-container-id-5 div.sk-estimator input.sk-toggleable__control:checked~label.sk-toggleable__label {background-color: #d4ebff;}#sk-container-id-5 div.sk-label input.sk-toggleable__control:checked~label.sk-toggleable__label {background-color: #d4ebff;}#sk-container-id-5 input.sk-hidden--visually {border: 0;clip: rect(1px 1px 1px 1px);clip: rect(1px, 1px, 1px, 1px);height: 1px;margin: -1px;overflow: hidden;padding: 0;position: absolute;width: 1px;}#sk-container-id-5 div.sk-estimator {font-family: monospace;background-color: #f0f8ff;border: 1px dotted black;border-radius: 0.25em;box-sizing: border-box;margin-bottom: 0.5em;}#sk-container-id-5 div.sk-estimator:hover {background-color: #d4ebff;}#sk-container-id-5 div.sk-parallel-item::after {content: \"\";width: 100%;border-bottom: 1px solid gray;flex-grow: 1;}#sk-container-id-5 div.sk-label:hover label.sk-toggleable__label {background-color: #d4ebff;}#sk-container-id-5 div.sk-serial::before {content: \"\";position: absolute;border-left: 1px solid gray;box-sizing: border-box;top: 0;bottom: 0;left: 50%;z-index: 0;}#sk-container-id-5 div.sk-serial {display: flex;flex-direction: column;align-items: center;background-color: white;padding-right: 0.2em;padding-left: 0.2em;position: relative;}#sk-container-id-5 div.sk-item {position: relative;z-index: 1;}#sk-container-id-5 div.sk-parallel {display: flex;align-items: stretch;justify-content: center;background-color: white;position: relative;}#sk-container-id-5 div.sk-item::before, #sk-container-id-5 div.sk-parallel-item::before {content: \"\";position: absolute;border-left: 1px solid gray;box-sizing: border-box;top: 0;bottom: 0;left: 50%;z-index: -1;}#sk-container-id-5 div.sk-parallel-item {display: flex;flex-direction: column;z-index: 1;position: relative;background-color: white;}#sk-container-id-5 div.sk-parallel-item:first-child::after {align-self: flex-end;width: 50%;}#sk-container-id-5 div.sk-parallel-item:last-child::after {align-self: flex-start;width: 50%;}#sk-container-id-5 div.sk-parallel-item:only-child::after {width: 0;}#sk-container-id-5 div.sk-dashed-wrapped {border: 1px dashed gray;margin: 0 0.4em 0.5em 0.4em;box-sizing: border-box;padding-bottom: 0.4em;background-color: white;}#sk-container-id-5 div.sk-label label {font-family: monospace;font-weight: bold;display: inline-block;line-height: 1.2em;}#sk-container-id-5 div.sk-label-container {text-align: center;}#sk-container-id-5 div.sk-container {/* jupyter's `normalize.less` sets `[hidden] { display: none; }` but bootstrap.min.css set `[hidden] { display: none !important; }` so we also need the `!important` here to be able to override the default hidden behavior on the sphinx rendered scikit-learn.org. See: https://github.com/scikit-learn/scikit-learn/issues/21755 */display: inline-block !important;position: relative;}#sk-container-id-5 div.sk-text-repr-fallback {display: none;}</style><div id=\"sk-container-id-5\" class=\"sk-top-container\"><div class=\"sk-text-repr-fallback\"><pre>Pipeline(steps=[(&#x27;tfidf&#x27;, TfidfVectorizer(ngram_range=(1, 3))),\n",
       "                (&#x27;model&#x27;,\n",
       "                 DecisionTreeClassifier(max_depth=4, random_state=42))])</pre><b>In a Jupyter environment, please rerun this cell to show the HTML representation or trust the notebook. <br />On GitHub, the HTML representation is unable to render, please try loading this page with nbviewer.org.</b></div><div class=\"sk-container\" hidden><div class=\"sk-item sk-dashed-wrapped\"><div class=\"sk-label-container\"><div class=\"sk-label sk-toggleable\"><input class=\"sk-toggleable__control sk-hidden--visually\" id=\"sk-estimator-id-15\" type=\"checkbox\" ><label for=\"sk-estimator-id-15\" class=\"sk-toggleable__label sk-toggleable__label-arrow\">Pipeline</label><div class=\"sk-toggleable__content\"><pre>Pipeline(steps=[(&#x27;tfidf&#x27;, TfidfVectorizer(ngram_range=(1, 3))),\n",
       "                (&#x27;model&#x27;,\n",
       "                 DecisionTreeClassifier(max_depth=4, random_state=42))])</pre></div></div></div><div class=\"sk-serial\"><div class=\"sk-item\"><div class=\"sk-estimator sk-toggleable\"><input class=\"sk-toggleable__control sk-hidden--visually\" id=\"sk-estimator-id-16\" type=\"checkbox\" ><label for=\"sk-estimator-id-16\" class=\"sk-toggleable__label sk-toggleable__label-arrow\">TfidfVectorizer</label><div class=\"sk-toggleable__content\"><pre>TfidfVectorizer(ngram_range=(1, 3))</pre></div></div></div><div class=\"sk-item\"><div class=\"sk-estimator sk-toggleable\"><input class=\"sk-toggleable__control sk-hidden--visually\" id=\"sk-estimator-id-17\" type=\"checkbox\" ><label for=\"sk-estimator-id-17\" class=\"sk-toggleable__label sk-toggleable__label-arrow\">DecisionTreeClassifier</label><div class=\"sk-toggleable__content\"><pre>DecisionTreeClassifier(max_depth=4, random_state=42)</pre></div></div></div></div></div></div></div>"
      ],
      "text/plain": [
       "Pipeline(steps=[('tfidf', TfidfVectorizer(ngram_range=(1, 3))),\n",
       "                ('model',\n",
       "                 DecisionTreeClassifier(max_depth=4, random_state=42))])"
      ]
     },
     "execution_count": 88,
     "metadata": {},
     "output_type": "execute_result"
    }
   ],
   "source": [
    "classifier_dt.best_estimator_"
   ]
  },
  {
   "cell_type": "code",
   "execution_count": 89,
   "id": "82612dfc-1e6c-4ed7-b6a8-490d8c16f73f",
   "metadata": {},
   "outputs": [
    {
     "name": "stdout",
     "output_type": "stream",
     "text": [
      "model__criterion: 'gini'\n",
      "model__max_depth: 4\n",
      "model__min_samples_leaf: 1\n",
      "model__min_samples_split: 2\n",
      "model__random_state: 42\n",
      "tfidf__ngram_range: (1, 3)\n"
     ]
    }
   ],
   "source": [
    "for param_name in sorted(parameters_dt.keys()):\n",
    "    print(\"%s: %r\" % (param_name, classifier_dt.best_params_[param_name]))"
   ]
  },
  {
   "cell_type": "code",
   "execution_count": 90,
   "id": "a118e965-7258-4f57-95bf-057808585094",
   "metadata": {},
   "outputs": [],
   "source": [
    "models = [\n",
    "        ('Naive Bayes Multinomial', accuracy_nb_train, accuracy_nb_test),\n",
    "        ('SVM Linear', accuracy_svm_linear_train, accuracy_svm_linear_test),\n",
    "        ('Decision Tree', accuracy_dt_train, accuracy_dt_test),\n",
    "        ]"
   ]
  },
  {
   "cell_type": "code",
   "execution_count": 91,
   "id": "d1aaa34d-a3ad-43dc-b240-fa4fda51ee79",
   "metadata": {},
   "outputs": [
    {
     "data": {
      "text/html": [
       "<div>\n",
       "<style scoped>\n",
       "    .dataframe tbody tr th:only-of-type {\n",
       "        vertical-align: middle;\n",
       "    }\n",
       "\n",
       "    .dataframe tbody tr th {\n",
       "        vertical-align: top;\n",
       "    }\n",
       "\n",
       "    .dataframe thead th {\n",
       "        text-align: right;\n",
       "    }\n",
       "</style>\n",
       "<table border=\"1\" class=\"dataframe\">\n",
       "  <thead>\n",
       "    <tr style=\"text-align: right;\">\n",
       "      <th></th>\n",
       "      <th>Model</th>\n",
       "      <th>Training Accuracy</th>\n",
       "      <th>Test Accuracy</th>\n",
       "    </tr>\n",
       "  </thead>\n",
       "  <tbody>\n",
       "    <tr>\n",
       "      <th>0</th>\n",
       "      <td>Naive Bayes Multinomial</td>\n",
       "      <td>1.000000</td>\n",
       "      <td>0.866667</td>\n",
       "    </tr>\n",
       "    <tr>\n",
       "      <th>1</th>\n",
       "      <td>SVM Linear</td>\n",
       "      <td>1.000000</td>\n",
       "      <td>0.800000</td>\n",
       "    </tr>\n",
       "    <tr>\n",
       "      <th>2</th>\n",
       "      <td>Decision Tree</td>\n",
       "      <td>0.882353</td>\n",
       "      <td>0.666667</td>\n",
       "    </tr>\n",
       "  </tbody>\n",
       "</table>\n",
       "</div>"
      ],
      "text/plain": [
       "                     Model  Training Accuracy  Test Accuracy\n",
       "0  Naive Bayes Multinomial           1.000000       0.866667\n",
       "1               SVM Linear           1.000000       0.800000\n",
       "2            Decision Tree           0.882353       0.666667"
      ]
     },
     "execution_count": 91,
     "metadata": {},
     "output_type": "execute_result"
    }
   ],
   "source": [
    "predict = pd.DataFrame(data = models, columns=['Model', 'Training Accuracy', 'Test Accuracy'])\n",
    "predict"
   ]
  },
  {
   "cell_type": "code",
   "execution_count": 92,
   "id": "8d033070-079d-4f07-8251-500957f7ff12",
   "metadata": {},
   "outputs": [],
   "source": [
    "models_comparison = [\n",
    "                        ('Naive Bayes Multinomial', accuracy_nb_test, recall_nb_test, precision_nb_test, f1_nb_test),\n",
    "                        ('SVM Linear', accuracy_svm_linear_test, recall_svm_linear_test, precision_svm_linear_test, f1_svm_linear_test),\n",
    "                        ('Decision Tree', accuracy_dt_test, recall_dt_test, precision_dt_test,f1_dt_test),\n",
    "                    ]"
   ]
  },
  {
   "cell_type": "code",
   "execution_count": 93,
   "id": "f5188bc3-7c3a-42ee-9d3d-71a3a4ef853f",
   "metadata": {},
   "outputs": [
    {
     "data": {
      "text/html": [
       "<div>\n",
       "<style scoped>\n",
       "    .dataframe tbody tr th:only-of-type {\n",
       "        vertical-align: middle;\n",
       "    }\n",
       "\n",
       "    .dataframe tbody tr th {\n",
       "        vertical-align: top;\n",
       "    }\n",
       "\n",
       "    .dataframe thead th {\n",
       "        text-align: right;\n",
       "    }\n",
       "</style>\n",
       "<table border=\"1\" class=\"dataframe\">\n",
       "  <thead>\n",
       "    <tr style=\"text-align: right;\">\n",
       "      <th></th>\n",
       "      <th>Model</th>\n",
       "      <th>Accuracy</th>\n",
       "      <th>Recall</th>\n",
       "      <th>Precision</th>\n",
       "      <th>F1 Weighted</th>\n",
       "    </tr>\n",
       "  </thead>\n",
       "  <tbody>\n",
       "    <tr>\n",
       "      <th>0</th>\n",
       "      <td>Naive Bayes Multinomial</td>\n",
       "      <td>0.866667</td>\n",
       "      <td>0.866667</td>\n",
       "      <td>0.756061</td>\n",
       "      <td>0.806349</td>\n",
       "    </tr>\n",
       "    <tr>\n",
       "      <th>1</th>\n",
       "      <td>SVM Linear</td>\n",
       "      <td>0.800000</td>\n",
       "      <td>0.800000</td>\n",
       "      <td>0.688889</td>\n",
       "      <td>0.739394</td>\n",
       "    </tr>\n",
       "    <tr>\n",
       "      <th>2</th>\n",
       "      <td>Decision Tree</td>\n",
       "      <td>0.666667</td>\n",
       "      <td>0.666667</td>\n",
       "      <td>0.444444</td>\n",
       "      <td>0.533333</td>\n",
       "    </tr>\n",
       "  </tbody>\n",
       "</table>\n",
       "</div>"
      ],
      "text/plain": [
       "                     Model  Accuracy    Recall  Precision  F1 Weighted\n",
       "0  Naive Bayes Multinomial  0.866667  0.866667   0.756061     0.806349\n",
       "1               SVM Linear  0.800000  0.800000   0.688889     0.739394\n",
       "2            Decision Tree  0.666667  0.666667   0.444444     0.533333"
      ]
     },
     "execution_count": 93,
     "metadata": {},
     "output_type": "execute_result"
    }
   ],
   "source": [
    "comparison = pd.DataFrame(data = models_comparison, columns=['Model', 'Accuracy', 'Recall', 'Precision', 'F1 Weighted'])\n",
    "comparison"
   ]
  },
  {
   "cell_type": "code",
   "execution_count": 94,
   "id": "08dfc028-4c63-44cf-9e8c-32893c6df167",
   "metadata": {},
   "outputs": [
    {
     "name": "stderr",
     "output_type": "stream",
     "text": [
      "C:\\Users\\USER\\AppData\\Local\\Temp\\ipykernel_13376\\2750282873.py:7: FutureWarning: \n",
      "\n",
      "Passing `palette` without assigning `hue` is deprecated and will be removed in v0.14.0. Assign the `y` variable to `hue` and set `legend=False` for the same effect.\n",
      "\n",
      "  sns.barplot(x='Training Accuracy', y='Model', data = predict, palette='Blues_d', ax = axes[0])\n",
      "C:\\Users\\USER\\AppData\\Local\\Temp\\ipykernel_13376\\2750282873.py:16: FutureWarning: \n",
      "\n",
      "Passing `palette` without assigning `hue` is deprecated and will be removed in v0.14.0. Assign the `y` variable to `hue` and set `legend=False` for the same effect.\n",
      "\n",
      "  sns.barplot(x='Test Accuracy', y='Model', data = predict, palette='Greens_d', ax = axes[1])\n"
     ]
    },
    {
     "data": {
      "image/png": "[encoded data removed]",
      "text/plain": [
       "<Figure size 1400x1000 with 2 Axes>"
      ]
     },
     "metadata": {},
     "output_type": "display_data"
    }
   ],
   "source": [
    "import numpy as np\n",
    "\n",
    "f, axes = plt.subplots(2,1, figsize=(14,10))\n",
    "\n",
    "predict.sort_values(by=['Training Accuracy'], ascending=False, inplace=True)\n",
    "\n",
    "sns.barplot(x='Training Accuracy', y='Model', data = predict, palette='Blues_d', ax = axes[0])\n",
    "#axes[0].set(xlabel='Region', ylabel='Charges')\n",
    "axes[0].set_xlabel('Training Accuracy', size=16)\n",
    "axes[0].set_ylabel('Model')\n",
    "axes[0].set_xlim(0,1.0)\n",
    "axes[0].set_xticks(np.arange(0, 1.1, 0.1))\n",
    "\n",
    "predict.sort_values(by=['Test Accuracy'], ascending=False, inplace=True)\n",
    "\n",
    "sns.barplot(x='Test Accuracy', y='Model', data = predict, palette='Greens_d', ax = axes[1])\n",
    "#axes[0].set(xlabel='Region', ylabel='Charges')\n",
    "axes[1].set_xlabel('Test Accuracy', size=16)\n",
    "axes[1].set_ylabel('Model')\n",
    "axes[1].set_xlim(0,1.0)\n",
    "axes[1].set_xticks(np.arange(0, 1.1, 0.1))\n",
    "\n",
    "plt.show()"
   ]
  },
  {
   "cell_type": "code",
   "execution_count": 95,
   "id": "8c5a41ba-e32c-49d1-a84d-6dee95d9cda0",
   "metadata": {},
   "outputs": [
    {
     "data": {
      "text/plain": [
       "'taylor swift'"
      ]
     },
     "execution_count": 95,
     "metadata": {},
     "output_type": "execute_result"
    }
   ],
   "source": [
    "dataset.loc[9].ProcessedText"
   ]
  },
  {
   "cell_type": "code",
   "execution_count": null,
   "id": "288f1208-d361-4ed7-8616-146a5c391227",
   "metadata": {},
   "outputs": [],
   "source": []
  }
 ],
 "metadata": {
  "kernelspec": {
   "display_name": "Python 3 (ipykernel)",
   "language": "python",
   "name": "python3"
  },
  "language_info": {
   "codemirror_mode": {
    "name": "ipython",
    "version": 3
   },
   "file_extension": ".py",
   "mimetype": "text/x-python",
   "name": "python",
   "nbconvert_exporter": "python",
   "pygments_lexer": "ipython3",
   "version": "3.12.1"
  }
 },
 "nbformat": 4,
 "nbformat_minor": 5
}
